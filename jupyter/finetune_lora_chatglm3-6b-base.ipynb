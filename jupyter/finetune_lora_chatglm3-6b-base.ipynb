{
 "cells": [
  {
   "cell_type": "markdown",
   "metadata": {},
   "source": [
    "# ChatGLM3微调实战-LoRA技术微调"
   ]
  },
  {
   "cell_type": "markdown",
   "metadata": {},
   "source": [
    "## 步骤1 导入相关包"
   ]
  },
  {
   "cell_type": "code",
   "execution_count": 1,
   "metadata": {},
   "outputs": [],
   "source": [
    "import pandas as pd\n",
    "from datasets import Dataset\n",
    "from transformers import AutoTokenizer, AutoModelForCausalLM, DataCollatorForSeq2Seq, TrainingArguments, Trainer\n",
    "\n",
    "# 配置环境变量\n",
    "# import os\n",
    "# os.environ['HF_ENDPOINT'] = 'https://hf-mirror.com'\n",
    "# os.environ['HF_HOME'] = '/root/autodl-tmp/cache/huggingface'\n",
    "# os.environ['MODELSCOPE_CACHE']='/root/autodl-tmp/cache/modelscope'\n",
    "\n",
    "# 模型下载\n",
    "# from modelscope import snapshot_download\n",
    "# model_dir = snapshot_download('ZhipuAI/chatglm3-6b-base')\n",
    "\n",
    "# 设置关键参数\n",
    "dataset_name_or_path = \"datasets/identity_zh.json\"\n",
    "model_name_or_path = \"models/ZhipuAI/chatglm3-6b-base\"\n",
    "train_output_dir = \"saves/lora/chatglm3-6b-base\""
   ]
  },
  {
   "cell_type": "markdown",
   "metadata": {},
   "source": [
    "## 步骤2 加载数据集"
   ]
  },
  {
   "cell_type": "code",
   "execution_count": 2,
   "metadata": {},
   "outputs": [
    {
     "data": {
      "text/plain": [
       "Dataset({\n",
       "    features: ['instruction', 'input', 'output'],\n",
       "    num_rows: 91\n",
       "})"
      ]
     },
     "execution_count": 2,
     "metadata": {},
     "output_type": "execute_result"
    }
   ],
   "source": [
    "df = pd.read_json(dataset_name_or_path)\n",
    "ds = Dataset.from_pandas(df)\n",
    "ds"
   ]
  },
  {
   "cell_type": "code",
   "execution_count": 3,
   "metadata": {},
   "outputs": [
    {
     "data": {
      "text/plain": [
       "{'instruction': ['hi'],\n",
       " 'input': [''],\n",
       " 'output': ['Hello! I am 夜行者, an AI assistant developed by 木子. How can I assist you today?']}"
      ]
     },
     "execution_count": 3,
     "metadata": {},
     "output_type": "execute_result"
    }
   ],
   "source": [
    "ds[:1]"
   ]
  },
  {
   "cell_type": "markdown",
   "metadata": {},
   "source": [
    "## 步骤3 数据集预处理"
   ]
  },
  {
   "cell_type": "code",
   "execution_count": 4,
   "metadata": {},
   "outputs": [
    {
     "data": {
      "text/plain": [
       "ChatGLMTokenizer(name_or_path='models/ZhipuAI/chatglm3-6b-base', vocab_size=64798, model_max_length=1000000000000000019884624838656, is_fast=False, padding_side='left', truncation_side='right', special_tokens={'eos_token': '</s>', 'unk_token': '<unk>', 'pad_token': '<unk>'}, clean_up_tokenization_spaces=False),  added_tokens_decoder={\n",
       "\t\n",
       "}"
      ]
     },
     "execution_count": 4,
     "metadata": {},
     "output_type": "execute_result"
    }
   ],
   "source": [
    "#加载本地模型，提前下载到本地\n",
    "tokenizer = AutoTokenizer.from_pretrained(model_name_or_path, trust_remote_code=True)\n",
    "tokenizer"
   ]
  },
  {
   "cell_type": "markdown",
   "metadata": {},
   "source": [
    "补充说明：\n",
    "- chatglm3-6b 采用的Prompt Template格式\n",
    "``` text\n",
    "[gMASK]<sop><|system|>\\nSYSTEM_PROMPT<|user|>\\nHUMAN_PROMPT<|assistant|>\\nAI_OUT<|endoftext|>\n",
    "```\n",
    "- 例如\n",
    "```text\n",
    "[gMASK]<sop><|system|> \n",
    "假设你是皇帝身边的女人--甄嬛。<|user|> \n",
    "小姐，别的秀女都在求中选，唯有咱们小姐想被撂牌子，菩萨一定记得真真儿的——<|assistant|> \n",
    "嘘——都说许愿说破是不灵的。<|endoftext|>\n",
    "```"
   ]
  },
  {
   "cell_type": "code",
   "execution_count": 5,
   "metadata": {
    "tags": []
   },
   "outputs": [],
   "source": [
    "def process_func(example):\n",
    "    MAX_LENGTH = 256 # 设置最大长度为256\n",
    "    input_ids, attention_mask, labels = [], [], [] # 初始化输入ID、注意力掩码和标签列表\n",
    "    instruction = \"\\n\".join([example[\"instruction\"], example[\"input\"]])     # prompt\n",
    "    instruction = tokenizer.build_chat_input(instruction, history=[], role=\"user\")  # [gMASK]sop<|user|> \\n prompt <|assistant|>\n",
    "    response = tokenizer(example[\"output\"], add_special_tokens=False)        # \\n response\n",
    "    input_ids = instruction[\"input_ids\"][0].numpy().tolist() + response[\"input_ids\"] + [tokenizer.eos_token_id] #eos token\n",
    "    attention_mask = instruction[\"attention_mask\"][0].numpy().tolist() + response[\"attention_mask\"] + [1]\n",
    "    labels = [-100] * len(instruction[\"input_ids\"][0].numpy().tolist()) + response[\"input_ids\"] + [tokenizer.eos_token_id]\n",
    "    if len(input_ids) > MAX_LENGTH:\n",
    "        input_ids = input_ids[:MAX_LENGTH]\n",
    "        attention_mask = attention_mask[:MAX_LENGTH]\n",
    "        labels = labels[:MAX_LENGTH]\n",
    "    return {\n",
    "        \"input_ids\": input_ids,\n",
    "        \"attention_mask\": attention_mask,\n",
    "        \"labels\": labels\n",
    "    }"
   ]
  },
  {
   "cell_type": "code",
   "execution_count": 6,
   "metadata": {},
   "outputs": [
    {
     "data": {
      "application/vnd.jupyter.widget-view+json": {
       "model_id": "73e64781ecbf4209a8177d894271095b",
       "version_major": 2,
       "version_minor": 0
      },
      "text/plain": [
       "Map:   0%|          | 0/91 [00:00<?, ? examples/s]"
      ]
     },
     "metadata": {},
     "output_type": "display_data"
    },
    {
     "data": {
      "text/plain": [
       "Dataset({\n",
       "    features: ['input_ids', 'attention_mask', 'labels'],\n",
       "    num_rows: 91\n",
       "})"
      ]
     },
     "execution_count": 6,
     "metadata": {},
     "output_type": "execute_result"
    }
   ],
   "source": [
    "tokenized_ds = ds.map(process_func, remove_columns=ds.column_names)\n",
    "tokenized_ds"
   ]
  },
  {
   "cell_type": "code",
   "execution_count": 7,
   "metadata": {},
   "outputs": [
    {
     "data": {
      "text/plain": [
       "'[gMASK]sop<|user|> \\n hello\\n<|assistant|> Hello! I am 夜行者, an AI assistant developed by 木子. How can I assist you today?'"
      ]
     },
     "execution_count": 7,
     "metadata": {},
     "output_type": "execute_result"
    }
   ],
   "source": [
    "# 检查input_ids的格式\n",
    "tokenizer.decode(tokenized_ds[1][\"input_ids\"])"
   ]
  },
  {
   "cell_type": "code",
   "execution_count": 8,
   "metadata": {},
   "outputs": [
    {
     "data": {
      "text/plain": [
       "'Hello! I am 夜行者, an AI assistant developed by 木子. How can I assist you today?'"
      ]
     },
     "execution_count": 8,
     "metadata": {},
     "output_type": "execute_result"
    }
   ],
   "source": [
    "# 检查labels数据格式\n",
    "tokenizer.decode(list(filter(lambda x: x != -100, tokenized_ds[1][\"labels\"])))"
   ]
  },
  {
   "cell_type": "markdown",
   "metadata": {},
   "source": [
    "## 步骤4 创建模型"
   ]
  },
  {
   "cell_type": "code",
   "execution_count": 9,
   "metadata": {},
   "outputs": [
    {
     "data": {
      "application/vnd.jupyter.widget-view+json": {
       "model_id": "80306b9eaed24a119d4f898310ec216a",
       "version_major": 2,
       "version_minor": 0
      },
      "text/plain": [
       "Loading checkpoint shards:   0%|          | 0/7 [00:00<?, ?it/s]"
      ]
     },
     "metadata": {},
     "output_type": "display_data"
    },
    {
     "data": {
      "text/plain": [
       "ChatGLMForConditionalGeneration(\n",
       "  (transformer): ChatGLMModel(\n",
       "    (embedding): Embedding(\n",
       "      (word_embeddings): Embedding(65024, 4096)\n",
       "    )\n",
       "    (rotary_pos_emb): RotaryEmbedding()\n",
       "    (encoder): GLMTransformer(\n",
       "      (layers): ModuleList(\n",
       "        (0-27): 28 x GLMBlock(\n",
       "          (input_layernorm): RMSNorm()\n",
       "          (self_attention): SelfAttention(\n",
       "            (query_key_value): Linear(in_features=4096, out_features=4608, bias=True)\n",
       "            (core_attention): CoreAttention(\n",
       "              (attention_dropout): Dropout(p=0.0, inplace=False)\n",
       "            )\n",
       "            (dense): Linear(in_features=4096, out_features=4096, bias=False)\n",
       "          )\n",
       "          (post_attention_layernorm): RMSNorm()\n",
       "          (mlp): MLP(\n",
       "            (dense_h_to_4h): Linear(in_features=4096, out_features=27392, bias=False)\n",
       "            (dense_4h_to_h): Linear(in_features=13696, out_features=4096, bias=False)\n",
       "          )\n",
       "        )\n",
       "      )\n",
       "      (final_layernorm): RMSNorm()\n",
       "    )\n",
       "    (output_layer): Linear(in_features=4096, out_features=65024, bias=False)\n",
       "  )\n",
       ")"
      ]
     },
     "execution_count": 9,
     "metadata": {},
     "output_type": "execute_result"
    }
   ],
   "source": [
    "import torch\n",
    "model = AutoModelForCausalLM.from_pretrained(model_name_or_path, \n",
    "                                             low_cpu_mem_usage=True,\n",
    "                                             torch_dtype=torch.half,\n",
    "                                             device_map=\"auto\",\n",
    "                                             trust_remote_code=True)\n",
    "model"
   ]
  },
  {
   "cell_type": "code",
   "execution_count": 10,
   "metadata": {},
   "outputs": [],
   "source": [
    " # 开启梯度检查点时，要执行该方法\n",
    "# model.enable_input_require_grads()"
   ]
  },
  {
   "cell_type": "code",
   "execution_count": 11,
   "metadata": {},
   "outputs": [
    {
     "data": {
      "text/plain": [
       "torch.float16"
      ]
     },
     "execution_count": 11,
     "metadata": {},
     "output_type": "execute_result"
    }
   ],
   "source": [
    "#  查看数据类型\n",
    "model.dtype  "
   ]
  },
  {
   "cell_type": "code",
   "execution_count": 12,
   "metadata": {
    "tags": []
   },
   "outputs": [
    {
     "name": "stdout",
     "output_type": "stream",
     "text": [
      "transformer.embedding.word_embeddings.weight\n",
      "transformer.encoder.layers.0.input_layernorm.weight\n",
      "transformer.encoder.layers.0.self_attention.query_key_value.weight\n",
      "transformer.encoder.layers.0.self_attention.query_key_value.bias\n",
      "transformer.encoder.layers.0.self_attention.dense.weight\n",
      "transformer.encoder.layers.0.post_attention_layernorm.weight\n",
      "transformer.encoder.layers.0.mlp.dense_h_to_4h.weight\n",
      "transformer.encoder.layers.0.mlp.dense_4h_to_h.weight\n",
      "transformer.encoder.layers.1.input_layernorm.weight\n",
      "transformer.encoder.layers.1.self_attention.query_key_value.weight\n",
      "transformer.encoder.layers.1.self_attention.query_key_value.bias\n",
      "transformer.encoder.layers.1.self_attention.dense.weight\n",
      "transformer.encoder.layers.1.post_attention_layernorm.weight\n",
      "transformer.encoder.layers.1.mlp.dense_h_to_4h.weight\n",
      "transformer.encoder.layers.1.mlp.dense_4h_to_h.weight\n",
      "transformer.encoder.layers.2.input_layernorm.weight\n",
      "transformer.encoder.layers.2.self_attention.query_key_value.weight\n",
      "transformer.encoder.layers.2.self_attention.query_key_value.bias\n",
      "transformer.encoder.layers.2.self_attention.dense.weight\n",
      "transformer.encoder.layers.2.post_attention_layernorm.weight\n",
      "transformer.encoder.layers.2.mlp.dense_h_to_4h.weight\n",
      "transformer.encoder.layers.2.mlp.dense_4h_to_h.weight\n",
      "transformer.encoder.layers.3.input_layernorm.weight\n",
      "transformer.encoder.layers.3.self_attention.query_key_value.weight\n",
      "transformer.encoder.layers.3.self_attention.query_key_value.bias\n",
      "transformer.encoder.layers.3.self_attention.dense.weight\n",
      "transformer.encoder.layers.3.post_attention_layernorm.weight\n",
      "transformer.encoder.layers.3.mlp.dense_h_to_4h.weight\n",
      "transformer.encoder.layers.3.mlp.dense_4h_to_h.weight\n",
      "transformer.encoder.layers.4.input_layernorm.weight\n",
      "transformer.encoder.layers.4.self_attention.query_key_value.weight\n",
      "transformer.encoder.layers.4.self_attention.query_key_value.bias\n",
      "transformer.encoder.layers.4.self_attention.dense.weight\n",
      "transformer.encoder.layers.4.post_attention_layernorm.weight\n",
      "transformer.encoder.layers.4.mlp.dense_h_to_4h.weight\n",
      "transformer.encoder.layers.4.mlp.dense_4h_to_h.weight\n",
      "transformer.encoder.layers.5.input_layernorm.weight\n",
      "transformer.encoder.layers.5.self_attention.query_key_value.weight\n",
      "transformer.encoder.layers.5.self_attention.query_key_value.bias\n",
      "transformer.encoder.layers.5.self_attention.dense.weight\n",
      "transformer.encoder.layers.5.post_attention_layernorm.weight\n",
      "transformer.encoder.layers.5.mlp.dense_h_to_4h.weight\n",
      "transformer.encoder.layers.5.mlp.dense_4h_to_h.weight\n",
      "transformer.encoder.layers.6.input_layernorm.weight\n",
      "transformer.encoder.layers.6.self_attention.query_key_value.weight\n",
      "transformer.encoder.layers.6.self_attention.query_key_value.bias\n",
      "transformer.encoder.layers.6.self_attention.dense.weight\n",
      "transformer.encoder.layers.6.post_attention_layernorm.weight\n",
      "transformer.encoder.layers.6.mlp.dense_h_to_4h.weight\n",
      "transformer.encoder.layers.6.mlp.dense_4h_to_h.weight\n",
      "transformer.encoder.layers.7.input_layernorm.weight\n",
      "transformer.encoder.layers.7.self_attention.query_key_value.weight\n",
      "transformer.encoder.layers.7.self_attention.query_key_value.bias\n",
      "transformer.encoder.layers.7.self_attention.dense.weight\n",
      "transformer.encoder.layers.7.post_attention_layernorm.weight\n",
      "transformer.encoder.layers.7.mlp.dense_h_to_4h.weight\n",
      "transformer.encoder.layers.7.mlp.dense_4h_to_h.weight\n",
      "transformer.encoder.layers.8.input_layernorm.weight\n",
      "transformer.encoder.layers.8.self_attention.query_key_value.weight\n",
      "transformer.encoder.layers.8.self_attention.query_key_value.bias\n",
      "transformer.encoder.layers.8.self_attention.dense.weight\n",
      "transformer.encoder.layers.8.post_attention_layernorm.weight\n",
      "transformer.encoder.layers.8.mlp.dense_h_to_4h.weight\n",
      "transformer.encoder.layers.8.mlp.dense_4h_to_h.weight\n",
      "transformer.encoder.layers.9.input_layernorm.weight\n",
      "transformer.encoder.layers.9.self_attention.query_key_value.weight\n",
      "transformer.encoder.layers.9.self_attention.query_key_value.bias\n",
      "transformer.encoder.layers.9.self_attention.dense.weight\n",
      "transformer.encoder.layers.9.post_attention_layernorm.weight\n",
      "transformer.encoder.layers.9.mlp.dense_h_to_4h.weight\n",
      "transformer.encoder.layers.9.mlp.dense_4h_to_h.weight\n",
      "transformer.encoder.layers.10.input_layernorm.weight\n",
      "transformer.encoder.layers.10.self_attention.query_key_value.weight\n",
      "transformer.encoder.layers.10.self_attention.query_key_value.bias\n",
      "transformer.encoder.layers.10.self_attention.dense.weight\n",
      "transformer.encoder.layers.10.post_attention_layernorm.weight\n",
      "transformer.encoder.layers.10.mlp.dense_h_to_4h.weight\n",
      "transformer.encoder.layers.10.mlp.dense_4h_to_h.weight\n",
      "transformer.encoder.layers.11.input_layernorm.weight\n",
      "transformer.encoder.layers.11.self_attention.query_key_value.weight\n",
      "transformer.encoder.layers.11.self_attention.query_key_value.bias\n",
      "transformer.encoder.layers.11.self_attention.dense.weight\n",
      "transformer.encoder.layers.11.post_attention_layernorm.weight\n",
      "transformer.encoder.layers.11.mlp.dense_h_to_4h.weight\n",
      "transformer.encoder.layers.11.mlp.dense_4h_to_h.weight\n",
      "transformer.encoder.layers.12.input_layernorm.weight\n",
      "transformer.encoder.layers.12.self_attention.query_key_value.weight\n",
      "transformer.encoder.layers.12.self_attention.query_key_value.bias\n",
      "transformer.encoder.layers.12.self_attention.dense.weight\n",
      "transformer.encoder.layers.12.post_attention_layernorm.weight\n",
      "transformer.encoder.layers.12.mlp.dense_h_to_4h.weight\n",
      "transformer.encoder.layers.12.mlp.dense_4h_to_h.weight\n",
      "transformer.encoder.layers.13.input_layernorm.weight\n",
      "transformer.encoder.layers.13.self_attention.query_key_value.weight\n",
      "transformer.encoder.layers.13.self_attention.query_key_value.bias\n",
      "transformer.encoder.layers.13.self_attention.dense.weight\n",
      "transformer.encoder.layers.13.post_attention_layernorm.weight\n",
      "transformer.encoder.layers.13.mlp.dense_h_to_4h.weight\n",
      "transformer.encoder.layers.13.mlp.dense_4h_to_h.weight\n",
      "transformer.encoder.layers.14.input_layernorm.weight\n",
      "transformer.encoder.layers.14.self_attention.query_key_value.weight\n",
      "transformer.encoder.layers.14.self_attention.query_key_value.bias\n",
      "transformer.encoder.layers.14.self_attention.dense.weight\n",
      "transformer.encoder.layers.14.post_attention_layernorm.weight\n",
      "transformer.encoder.layers.14.mlp.dense_h_to_4h.weight\n",
      "transformer.encoder.layers.14.mlp.dense_4h_to_h.weight\n",
      "transformer.encoder.layers.15.input_layernorm.weight\n",
      "transformer.encoder.layers.15.self_attention.query_key_value.weight\n",
      "transformer.encoder.layers.15.self_attention.query_key_value.bias\n",
      "transformer.encoder.layers.15.self_attention.dense.weight\n",
      "transformer.encoder.layers.15.post_attention_layernorm.weight\n",
      "transformer.encoder.layers.15.mlp.dense_h_to_4h.weight\n",
      "transformer.encoder.layers.15.mlp.dense_4h_to_h.weight\n",
      "transformer.encoder.layers.16.input_layernorm.weight\n",
      "transformer.encoder.layers.16.self_attention.query_key_value.weight\n",
      "transformer.encoder.layers.16.self_attention.query_key_value.bias\n",
      "transformer.encoder.layers.16.self_attention.dense.weight\n",
      "transformer.encoder.layers.16.post_attention_layernorm.weight\n",
      "transformer.encoder.layers.16.mlp.dense_h_to_4h.weight\n",
      "transformer.encoder.layers.16.mlp.dense_4h_to_h.weight\n",
      "transformer.encoder.layers.17.input_layernorm.weight\n",
      "transformer.encoder.layers.17.self_attention.query_key_value.weight\n",
      "transformer.encoder.layers.17.self_attention.query_key_value.bias\n",
      "transformer.encoder.layers.17.self_attention.dense.weight\n",
      "transformer.encoder.layers.17.post_attention_layernorm.weight\n",
      "transformer.encoder.layers.17.mlp.dense_h_to_4h.weight\n",
      "transformer.encoder.layers.17.mlp.dense_4h_to_h.weight\n",
      "transformer.encoder.layers.18.input_layernorm.weight\n",
      "transformer.encoder.layers.18.self_attention.query_key_value.weight\n",
      "transformer.encoder.layers.18.self_attention.query_key_value.bias\n",
      "transformer.encoder.layers.18.self_attention.dense.weight\n",
      "transformer.encoder.layers.18.post_attention_layernorm.weight\n",
      "transformer.encoder.layers.18.mlp.dense_h_to_4h.weight\n",
      "transformer.encoder.layers.18.mlp.dense_4h_to_h.weight\n",
      "transformer.encoder.layers.19.input_layernorm.weight\n",
      "transformer.encoder.layers.19.self_attention.query_key_value.weight\n",
      "transformer.encoder.layers.19.self_attention.query_key_value.bias\n",
      "transformer.encoder.layers.19.self_attention.dense.weight\n",
      "transformer.encoder.layers.19.post_attention_layernorm.weight\n",
      "transformer.encoder.layers.19.mlp.dense_h_to_4h.weight\n",
      "transformer.encoder.layers.19.mlp.dense_4h_to_h.weight\n",
      "transformer.encoder.layers.20.input_layernorm.weight\n",
      "transformer.encoder.layers.20.self_attention.query_key_value.weight\n",
      "transformer.encoder.layers.20.self_attention.query_key_value.bias\n",
      "transformer.encoder.layers.20.self_attention.dense.weight\n",
      "transformer.encoder.layers.20.post_attention_layernorm.weight\n",
      "transformer.encoder.layers.20.mlp.dense_h_to_4h.weight\n",
      "transformer.encoder.layers.20.mlp.dense_4h_to_h.weight\n",
      "transformer.encoder.layers.21.input_layernorm.weight\n",
      "transformer.encoder.layers.21.self_attention.query_key_value.weight\n",
      "transformer.encoder.layers.21.self_attention.query_key_value.bias\n",
      "transformer.encoder.layers.21.self_attention.dense.weight\n",
      "transformer.encoder.layers.21.post_attention_layernorm.weight\n",
      "transformer.encoder.layers.21.mlp.dense_h_to_4h.weight\n",
      "transformer.encoder.layers.21.mlp.dense_4h_to_h.weight\n",
      "transformer.encoder.layers.22.input_layernorm.weight\n",
      "transformer.encoder.layers.22.self_attention.query_key_value.weight\n",
      "transformer.encoder.layers.22.self_attention.query_key_value.bias\n",
      "transformer.encoder.layers.22.self_attention.dense.weight\n",
      "transformer.encoder.layers.22.post_attention_layernorm.weight\n",
      "transformer.encoder.layers.22.mlp.dense_h_to_4h.weight\n",
      "transformer.encoder.layers.22.mlp.dense_4h_to_h.weight\n",
      "transformer.encoder.layers.23.input_layernorm.weight\n",
      "transformer.encoder.layers.23.self_attention.query_key_value.weight\n",
      "transformer.encoder.layers.23.self_attention.query_key_value.bias\n",
      "transformer.encoder.layers.23.self_attention.dense.weight\n",
      "transformer.encoder.layers.23.post_attention_layernorm.weight\n",
      "transformer.encoder.layers.23.mlp.dense_h_to_4h.weight\n",
      "transformer.encoder.layers.23.mlp.dense_4h_to_h.weight\n",
      "transformer.encoder.layers.24.input_layernorm.weight\n",
      "transformer.encoder.layers.24.self_attention.query_key_value.weight\n",
      "transformer.encoder.layers.24.self_attention.query_key_value.bias\n",
      "transformer.encoder.layers.24.self_attention.dense.weight\n",
      "transformer.encoder.layers.24.post_attention_layernorm.weight\n",
      "transformer.encoder.layers.24.mlp.dense_h_to_4h.weight\n",
      "transformer.encoder.layers.24.mlp.dense_4h_to_h.weight\n",
      "transformer.encoder.layers.25.input_layernorm.weight\n",
      "transformer.encoder.layers.25.self_attention.query_key_value.weight\n",
      "transformer.encoder.layers.25.self_attention.query_key_value.bias\n",
      "transformer.encoder.layers.25.self_attention.dense.weight\n",
      "transformer.encoder.layers.25.post_attention_layernorm.weight\n",
      "transformer.encoder.layers.25.mlp.dense_h_to_4h.weight\n",
      "transformer.encoder.layers.25.mlp.dense_4h_to_h.weight\n",
      "transformer.encoder.layers.26.input_layernorm.weight\n",
      "transformer.encoder.layers.26.self_attention.query_key_value.weight\n",
      "transformer.encoder.layers.26.self_attention.query_key_value.bias\n",
      "transformer.encoder.layers.26.self_attention.dense.weight\n",
      "transformer.encoder.layers.26.post_attention_layernorm.weight\n",
      "transformer.encoder.layers.26.mlp.dense_h_to_4h.weight\n",
      "transformer.encoder.layers.26.mlp.dense_4h_to_h.weight\n",
      "transformer.encoder.layers.27.input_layernorm.weight\n",
      "transformer.encoder.layers.27.self_attention.query_key_value.weight\n",
      "transformer.encoder.layers.27.self_attention.query_key_value.bias\n",
      "transformer.encoder.layers.27.self_attention.dense.weight\n",
      "transformer.encoder.layers.27.post_attention_layernorm.weight\n",
      "transformer.encoder.layers.27.mlp.dense_h_to_4h.weight\n",
      "transformer.encoder.layers.27.mlp.dense_4h_to_h.weight\n",
      "transformer.encoder.final_layernorm.weight\n",
      "transformer.output_layer.weight\n"
     ]
    }
   ],
   "source": [
    "# 查看模型参数\n",
    "for name, param in model.named_parameters():\n",
    "    print(name)"
   ]
  },
  {
   "cell_type": "markdown",
   "metadata": {},
   "source": [
    "### 1、PEFT 步骤1 配置文件"
   ]
  },
  {
   "cell_type": "code",
   "execution_count": 13,
   "metadata": {},
   "outputs": [
    {
     "data": {
      "text/plain": [
       "LoraConfig(peft_type=<PeftType.LORA: 'LORA'>, auto_mapping=None, base_model_name_or_path=None, revision=None, task_type=<TaskType.CAUSAL_LM: 'CAUSAL_LM'>, inference_mode=False, r=8, target_modules={'query_key_value'}, lora_alpha=32, lora_dropout=0.1, fan_in_fan_out=False, bias='none', use_rslora=False, modules_to_save=None, init_lora_weights=True, layers_to_transform=None, layers_pattern=None, rank_pattern={}, alpha_pattern={}, megatron_config=None, megatron_core='megatron.core', loftq_config={}, use_dora=False, layer_replication=None, runtime_config=LoraRuntimeConfig(ephemeral_gpu_offload=False))"
      ]
     },
     "execution_count": 13,
     "metadata": {},
     "output_type": "execute_result"
    }
   ],
   "source": [
    "from peft import LoraConfig, TaskType, get_peft_model, PeftModel\n",
    "\n",
    "config = LoraConfig(\n",
    "    task_type=TaskType.CAUSAL_LM, \n",
    "    target_modules=[\"query_key_value\"], \n",
    "    inference_mode=False, # 训练模式\n",
    "    r=8, # Lora 秩\n",
    "    lora_alpha=32, # Lora alaph，具体作用参见 Lora 原理\n",
    "    lora_dropout=0.1# Dropout 比例\n",
    ")\n",
    "config"
   ]
  },
  {
   "cell_type": "markdown",
   "metadata": {},
   "source": [
    "### 2、PEFT 步骤2 创建模型"
   ]
  },
  {
   "cell_type": "code",
   "execution_count": 14,
   "metadata": {
    "tags": []
   },
   "outputs": [
    {
     "data": {
      "text/plain": [
       "PeftModelForCausalLM(\n",
       "  (base_model): LoraModel(\n",
       "    (model): ChatGLMForConditionalGeneration(\n",
       "      (transformer): ChatGLMModel(\n",
       "        (embedding): Embedding(\n",
       "          (word_embeddings): Embedding(65024, 4096)\n",
       "        )\n",
       "        (rotary_pos_emb): RotaryEmbedding()\n",
       "        (encoder): GLMTransformer(\n",
       "          (layers): ModuleList(\n",
       "            (0-27): 28 x GLMBlock(\n",
       "              (input_layernorm): RMSNorm()\n",
       "              (self_attention): SelfAttention(\n",
       "                (query_key_value): lora.Linear(\n",
       "                  (base_layer): Linear(in_features=4096, out_features=4608, bias=True)\n",
       "                  (lora_dropout): ModuleDict(\n",
       "                    (default): Dropout(p=0.1, inplace=False)\n",
       "                  )\n",
       "                  (lora_A): ModuleDict(\n",
       "                    (default): Linear(in_features=4096, out_features=8, bias=False)\n",
       "                  )\n",
       "                  (lora_B): ModuleDict(\n",
       "                    (default): Linear(in_features=8, out_features=4608, bias=False)\n",
       "                  )\n",
       "                  (lora_embedding_A): ParameterDict()\n",
       "                  (lora_embedding_B): ParameterDict()\n",
       "                  (lora_magnitude_vector): ModuleDict()\n",
       "                )\n",
       "                (core_attention): CoreAttention(\n",
       "                  (attention_dropout): Dropout(p=0.0, inplace=False)\n",
       "                )\n",
       "                (dense): Linear(in_features=4096, out_features=4096, bias=False)\n",
       "              )\n",
       "              (post_attention_layernorm): RMSNorm()\n",
       "              (mlp): MLP(\n",
       "                (dense_h_to_4h): Linear(in_features=4096, out_features=27392, bias=False)\n",
       "                (dense_4h_to_h): Linear(in_features=13696, out_features=4096, bias=False)\n",
       "              )\n",
       "            )\n",
       "          )\n",
       "          (final_layernorm): RMSNorm()\n",
       "        )\n",
       "        (output_layer): Linear(in_features=4096, out_features=65024, bias=False)\n",
       "      )\n",
       "    )\n",
       "  )\n",
       ")"
      ]
     },
     "execution_count": 14,
     "metadata": {},
     "output_type": "execute_result"
    }
   ],
   "source": [
    "model = get_peft_model(model, config)\n",
    "model"
   ]
  },
  {
   "cell_type": "code",
   "execution_count": 15,
   "metadata": {},
   "outputs": [
    {
     "name": "stdout",
     "output_type": "stream",
     "text": [
      "trainable params: 1,949,696 || all params: 6,245,533,696 || trainable%: 0.0312\n"
     ]
    }
   ],
   "source": [
    "# 打印出模型中可训练参数的数量\n",
    "model.print_trainable_parameters()"
   ]
  },
  {
   "cell_type": "code",
   "execution_count": 16,
   "metadata": {
    "tags": []
   },
   "outputs": [
    {
     "name": "stdout",
     "output_type": "stream",
     "text": [
      "base_model.model.transformer.embedding.word_embeddings.weight torch.Size([65024, 4096]) torch.float16\n",
      "base_model.model.transformer.encoder.layers.0.input_layernorm.weight torch.Size([4096]) torch.float16\n",
      "base_model.model.transformer.encoder.layers.0.self_attention.query_key_value.base_layer.weight torch.Size([4608, 4096]) torch.float16\n",
      "base_model.model.transformer.encoder.layers.0.self_attention.query_key_value.base_layer.bias torch.Size([4608]) torch.float16\n",
      "base_model.model.transformer.encoder.layers.0.self_attention.query_key_value.lora_A.default.weight torch.Size([8, 4096]) torch.float32\n",
      "base_model.model.transformer.encoder.layers.0.self_attention.query_key_value.lora_B.default.weight torch.Size([4608, 8]) torch.float32\n",
      "base_model.model.transformer.encoder.layers.0.self_attention.dense.weight torch.Size([4096, 4096]) torch.float16\n",
      "base_model.model.transformer.encoder.layers.0.post_attention_layernorm.weight torch.Size([4096]) torch.float16\n",
      "base_model.model.transformer.encoder.layers.0.mlp.dense_h_to_4h.weight torch.Size([27392, 4096]) torch.float16\n",
      "base_model.model.transformer.encoder.layers.0.mlp.dense_4h_to_h.weight torch.Size([4096, 13696]) torch.float16\n",
      "base_model.model.transformer.encoder.layers.1.input_layernorm.weight torch.Size([4096]) torch.float16\n",
      "base_model.model.transformer.encoder.layers.1.self_attention.query_key_value.base_layer.weight torch.Size([4608, 4096]) torch.float16\n",
      "base_model.model.transformer.encoder.layers.1.self_attention.query_key_value.base_layer.bias torch.Size([4608]) torch.float16\n",
      "base_model.model.transformer.encoder.layers.1.self_attention.query_key_value.lora_A.default.weight torch.Size([8, 4096]) torch.float32\n",
      "base_model.model.transformer.encoder.layers.1.self_attention.query_key_value.lora_B.default.weight torch.Size([4608, 8]) torch.float32\n",
      "base_model.model.transformer.encoder.layers.1.self_attention.dense.weight torch.Size([4096, 4096]) torch.float16\n",
      "base_model.model.transformer.encoder.layers.1.post_attention_layernorm.weight torch.Size([4096]) torch.float16\n",
      "base_model.model.transformer.encoder.layers.1.mlp.dense_h_to_4h.weight torch.Size([27392, 4096]) torch.float16\n",
      "base_model.model.transformer.encoder.layers.1.mlp.dense_4h_to_h.weight torch.Size([4096, 13696]) torch.float16\n",
      "base_model.model.transformer.encoder.layers.2.input_layernorm.weight torch.Size([4096]) torch.float16\n",
      "base_model.model.transformer.encoder.layers.2.self_attention.query_key_value.base_layer.weight torch.Size([4608, 4096]) torch.float16\n",
      "base_model.model.transformer.encoder.layers.2.self_attention.query_key_value.base_layer.bias torch.Size([4608]) torch.float16\n",
      "base_model.model.transformer.encoder.layers.2.self_attention.query_key_value.lora_A.default.weight torch.Size([8, 4096]) torch.float32\n",
      "base_model.model.transformer.encoder.layers.2.self_attention.query_key_value.lora_B.default.weight torch.Size([4608, 8]) torch.float32\n",
      "base_model.model.transformer.encoder.layers.2.self_attention.dense.weight torch.Size([4096, 4096]) torch.float16\n",
      "base_model.model.transformer.encoder.layers.2.post_attention_layernorm.weight torch.Size([4096]) torch.float16\n",
      "base_model.model.transformer.encoder.layers.2.mlp.dense_h_to_4h.weight torch.Size([27392, 4096]) torch.float16\n",
      "base_model.model.transformer.encoder.layers.2.mlp.dense_4h_to_h.weight torch.Size([4096, 13696]) torch.float16\n",
      "base_model.model.transformer.encoder.layers.3.input_layernorm.weight torch.Size([4096]) torch.float16\n",
      "base_model.model.transformer.encoder.layers.3.self_attention.query_key_value.base_layer.weight torch.Size([4608, 4096]) torch.float16\n",
      "base_model.model.transformer.encoder.layers.3.self_attention.query_key_value.base_layer.bias torch.Size([4608]) torch.float16\n",
      "base_model.model.transformer.encoder.layers.3.self_attention.query_key_value.lora_A.default.weight torch.Size([8, 4096]) torch.float32\n",
      "base_model.model.transformer.encoder.layers.3.self_attention.query_key_value.lora_B.default.weight torch.Size([4608, 8]) torch.float32\n",
      "base_model.model.transformer.encoder.layers.3.self_attention.dense.weight torch.Size([4096, 4096]) torch.float16\n",
      "base_model.model.transformer.encoder.layers.3.post_attention_layernorm.weight torch.Size([4096]) torch.float16\n",
      "base_model.model.transformer.encoder.layers.3.mlp.dense_h_to_4h.weight torch.Size([27392, 4096]) torch.float16\n",
      "base_model.model.transformer.encoder.layers.3.mlp.dense_4h_to_h.weight torch.Size([4096, 13696]) torch.float16\n",
      "base_model.model.transformer.encoder.layers.4.input_layernorm.weight torch.Size([4096]) torch.float16\n",
      "base_model.model.transformer.encoder.layers.4.self_attention.query_key_value.base_layer.weight torch.Size([4608, 4096]) torch.float16\n",
      "base_model.model.transformer.encoder.layers.4.self_attention.query_key_value.base_layer.bias torch.Size([4608]) torch.float16\n",
      "base_model.model.transformer.encoder.layers.4.self_attention.query_key_value.lora_A.default.weight torch.Size([8, 4096]) torch.float32\n",
      "base_model.model.transformer.encoder.layers.4.self_attention.query_key_value.lora_B.default.weight torch.Size([4608, 8]) torch.float32\n",
      "base_model.model.transformer.encoder.layers.4.self_attention.dense.weight torch.Size([4096, 4096]) torch.float16\n",
      "base_model.model.transformer.encoder.layers.4.post_attention_layernorm.weight torch.Size([4096]) torch.float16\n",
      "base_model.model.transformer.encoder.layers.4.mlp.dense_h_to_4h.weight torch.Size([27392, 4096]) torch.float16\n",
      "base_model.model.transformer.encoder.layers.4.mlp.dense_4h_to_h.weight torch.Size([4096, 13696]) torch.float16\n",
      "base_model.model.transformer.encoder.layers.5.input_layernorm.weight torch.Size([4096]) torch.float16\n",
      "base_model.model.transformer.encoder.layers.5.self_attention.query_key_value.base_layer.weight torch.Size([4608, 4096]) torch.float16\n",
      "base_model.model.transformer.encoder.layers.5.self_attention.query_key_value.base_layer.bias torch.Size([4608]) torch.float16\n",
      "base_model.model.transformer.encoder.layers.5.self_attention.query_key_value.lora_A.default.weight torch.Size([8, 4096]) torch.float32\n",
      "base_model.model.transformer.encoder.layers.5.self_attention.query_key_value.lora_B.default.weight torch.Size([4608, 8]) torch.float32\n",
      "base_model.model.transformer.encoder.layers.5.self_attention.dense.weight torch.Size([4096, 4096]) torch.float16\n",
      "base_model.model.transformer.encoder.layers.5.post_attention_layernorm.weight torch.Size([4096]) torch.float16\n",
      "base_model.model.transformer.encoder.layers.5.mlp.dense_h_to_4h.weight torch.Size([27392, 4096]) torch.float16\n",
      "base_model.model.transformer.encoder.layers.5.mlp.dense_4h_to_h.weight torch.Size([4096, 13696]) torch.float16\n",
      "base_model.model.transformer.encoder.layers.6.input_layernorm.weight torch.Size([4096]) torch.float16\n",
      "base_model.model.transformer.encoder.layers.6.self_attention.query_key_value.base_layer.weight torch.Size([4608, 4096]) torch.float16\n",
      "base_model.model.transformer.encoder.layers.6.self_attention.query_key_value.base_layer.bias torch.Size([4608]) torch.float16\n",
      "base_model.model.transformer.encoder.layers.6.self_attention.query_key_value.lora_A.default.weight torch.Size([8, 4096]) torch.float32\n",
      "base_model.model.transformer.encoder.layers.6.self_attention.query_key_value.lora_B.default.weight torch.Size([4608, 8]) torch.float32\n",
      "base_model.model.transformer.encoder.layers.6.self_attention.dense.weight torch.Size([4096, 4096]) torch.float16\n",
      "base_model.model.transformer.encoder.layers.6.post_attention_layernorm.weight torch.Size([4096]) torch.float16\n",
      "base_model.model.transformer.encoder.layers.6.mlp.dense_h_to_4h.weight torch.Size([27392, 4096]) torch.float16\n",
      "base_model.model.transformer.encoder.layers.6.mlp.dense_4h_to_h.weight torch.Size([4096, 13696]) torch.float16\n",
      "base_model.model.transformer.encoder.layers.7.input_layernorm.weight torch.Size([4096]) torch.float16\n",
      "base_model.model.transformer.encoder.layers.7.self_attention.query_key_value.base_layer.weight torch.Size([4608, 4096]) torch.float16\n",
      "base_model.model.transformer.encoder.layers.7.self_attention.query_key_value.base_layer.bias torch.Size([4608]) torch.float16\n",
      "base_model.model.transformer.encoder.layers.7.self_attention.query_key_value.lora_A.default.weight torch.Size([8, 4096]) torch.float32\n",
      "base_model.model.transformer.encoder.layers.7.self_attention.query_key_value.lora_B.default.weight torch.Size([4608, 8]) torch.float32\n",
      "base_model.model.transformer.encoder.layers.7.self_attention.dense.weight torch.Size([4096, 4096]) torch.float16\n",
      "base_model.model.transformer.encoder.layers.7.post_attention_layernorm.weight torch.Size([4096]) torch.float16\n",
      "base_model.model.transformer.encoder.layers.7.mlp.dense_h_to_4h.weight torch.Size([27392, 4096]) torch.float16\n",
      "base_model.model.transformer.encoder.layers.7.mlp.dense_4h_to_h.weight torch.Size([4096, 13696]) torch.float16\n",
      "base_model.model.transformer.encoder.layers.8.input_layernorm.weight torch.Size([4096]) torch.float16\n",
      "base_model.model.transformer.encoder.layers.8.self_attention.query_key_value.base_layer.weight torch.Size([4608, 4096]) torch.float16\n",
      "base_model.model.transformer.encoder.layers.8.self_attention.query_key_value.base_layer.bias torch.Size([4608]) torch.float16\n",
      "base_model.model.transformer.encoder.layers.8.self_attention.query_key_value.lora_A.default.weight torch.Size([8, 4096]) torch.float32\n",
      "base_model.model.transformer.encoder.layers.8.self_attention.query_key_value.lora_B.default.weight torch.Size([4608, 8]) torch.float32\n",
      "base_model.model.transformer.encoder.layers.8.self_attention.dense.weight torch.Size([4096, 4096]) torch.float16\n",
      "base_model.model.transformer.encoder.layers.8.post_attention_layernorm.weight torch.Size([4096]) torch.float16\n",
      "base_model.model.transformer.encoder.layers.8.mlp.dense_h_to_4h.weight torch.Size([27392, 4096]) torch.float16\n",
      "base_model.model.transformer.encoder.layers.8.mlp.dense_4h_to_h.weight torch.Size([4096, 13696]) torch.float16\n",
      "base_model.model.transformer.encoder.layers.9.input_layernorm.weight torch.Size([4096]) torch.float16\n",
      "base_model.model.transformer.encoder.layers.9.self_attention.query_key_value.base_layer.weight torch.Size([4608, 4096]) torch.float16\n",
      "base_model.model.transformer.encoder.layers.9.self_attention.query_key_value.base_layer.bias torch.Size([4608]) torch.float16\n",
      "base_model.model.transformer.encoder.layers.9.self_attention.query_key_value.lora_A.default.weight torch.Size([8, 4096]) torch.float32\n",
      "base_model.model.transformer.encoder.layers.9.self_attention.query_key_value.lora_B.default.weight torch.Size([4608, 8]) torch.float32\n",
      "base_model.model.transformer.encoder.layers.9.self_attention.dense.weight torch.Size([4096, 4096]) torch.float16\n",
      "base_model.model.transformer.encoder.layers.9.post_attention_layernorm.weight torch.Size([4096]) torch.float16\n",
      "base_model.model.transformer.encoder.layers.9.mlp.dense_h_to_4h.weight torch.Size([27392, 4096]) torch.float16\n",
      "base_model.model.transformer.encoder.layers.9.mlp.dense_4h_to_h.weight torch.Size([4096, 13696]) torch.float16\n",
      "base_model.model.transformer.encoder.layers.10.input_layernorm.weight torch.Size([4096]) torch.float16\n",
      "base_model.model.transformer.encoder.layers.10.self_attention.query_key_value.base_layer.weight torch.Size([4608, 4096]) torch.float16\n",
      "base_model.model.transformer.encoder.layers.10.self_attention.query_key_value.base_layer.bias torch.Size([4608]) torch.float16\n",
      "base_model.model.transformer.encoder.layers.10.self_attention.query_key_value.lora_A.default.weight torch.Size([8, 4096]) torch.float32\n",
      "base_model.model.transformer.encoder.layers.10.self_attention.query_key_value.lora_B.default.weight torch.Size([4608, 8]) torch.float32\n",
      "base_model.model.transformer.encoder.layers.10.self_attention.dense.weight torch.Size([4096, 4096]) torch.float16\n",
      "base_model.model.transformer.encoder.layers.10.post_attention_layernorm.weight torch.Size([4096]) torch.float16\n",
      "base_model.model.transformer.encoder.layers.10.mlp.dense_h_to_4h.weight torch.Size([27392, 4096]) torch.float16\n",
      "base_model.model.transformer.encoder.layers.10.mlp.dense_4h_to_h.weight torch.Size([4096, 13696]) torch.float16\n",
      "base_model.model.transformer.encoder.layers.11.input_layernorm.weight torch.Size([4096]) torch.float16\n",
      "base_model.model.transformer.encoder.layers.11.self_attention.query_key_value.base_layer.weight torch.Size([4608, 4096]) torch.float16\n",
      "base_model.model.transformer.encoder.layers.11.self_attention.query_key_value.base_layer.bias torch.Size([4608]) torch.float16\n",
      "base_model.model.transformer.encoder.layers.11.self_attention.query_key_value.lora_A.default.weight torch.Size([8, 4096]) torch.float32\n",
      "base_model.model.transformer.encoder.layers.11.self_attention.query_key_value.lora_B.default.weight torch.Size([4608, 8]) torch.float32\n",
      "base_model.model.transformer.encoder.layers.11.self_attention.dense.weight torch.Size([4096, 4096]) torch.float16\n",
      "base_model.model.transformer.encoder.layers.11.post_attention_layernorm.weight torch.Size([4096]) torch.float16\n",
      "base_model.model.transformer.encoder.layers.11.mlp.dense_h_to_4h.weight torch.Size([27392, 4096]) torch.float16\n",
      "base_model.model.transformer.encoder.layers.11.mlp.dense_4h_to_h.weight torch.Size([4096, 13696]) torch.float16\n",
      "base_model.model.transformer.encoder.layers.12.input_layernorm.weight torch.Size([4096]) torch.float16\n",
      "base_model.model.transformer.encoder.layers.12.self_attention.query_key_value.base_layer.weight torch.Size([4608, 4096]) torch.float16\n",
      "base_model.model.transformer.encoder.layers.12.self_attention.query_key_value.base_layer.bias torch.Size([4608]) torch.float16\n",
      "base_model.model.transformer.encoder.layers.12.self_attention.query_key_value.lora_A.default.weight torch.Size([8, 4096]) torch.float32\n",
      "base_model.model.transformer.encoder.layers.12.self_attention.query_key_value.lora_B.default.weight torch.Size([4608, 8]) torch.float32\n",
      "base_model.model.transformer.encoder.layers.12.self_attention.dense.weight torch.Size([4096, 4096]) torch.float16\n",
      "base_model.model.transformer.encoder.layers.12.post_attention_layernorm.weight torch.Size([4096]) torch.float16\n",
      "base_model.model.transformer.encoder.layers.12.mlp.dense_h_to_4h.weight torch.Size([27392, 4096]) torch.float16\n",
      "base_model.model.transformer.encoder.layers.12.mlp.dense_4h_to_h.weight torch.Size([4096, 13696]) torch.float16\n",
      "base_model.model.transformer.encoder.layers.13.input_layernorm.weight torch.Size([4096]) torch.float16\n",
      "base_model.model.transformer.encoder.layers.13.self_attention.query_key_value.base_layer.weight torch.Size([4608, 4096]) torch.float16\n",
      "base_model.model.transformer.encoder.layers.13.self_attention.query_key_value.base_layer.bias torch.Size([4608]) torch.float16\n",
      "base_model.model.transformer.encoder.layers.13.self_attention.query_key_value.lora_A.default.weight torch.Size([8, 4096]) torch.float32\n",
      "base_model.model.transformer.encoder.layers.13.self_attention.query_key_value.lora_B.default.weight torch.Size([4608, 8]) torch.float32\n",
      "base_model.model.transformer.encoder.layers.13.self_attention.dense.weight torch.Size([4096, 4096]) torch.float16\n",
      "base_model.model.transformer.encoder.layers.13.post_attention_layernorm.weight torch.Size([4096]) torch.float16\n",
      "base_model.model.transformer.encoder.layers.13.mlp.dense_h_to_4h.weight torch.Size([27392, 4096]) torch.float16\n",
      "base_model.model.transformer.encoder.layers.13.mlp.dense_4h_to_h.weight torch.Size([4096, 13696]) torch.float16\n",
      "base_model.model.transformer.encoder.layers.14.input_layernorm.weight torch.Size([4096]) torch.float16\n",
      "base_model.model.transformer.encoder.layers.14.self_attention.query_key_value.base_layer.weight torch.Size([4608, 4096]) torch.float16\n",
      "base_model.model.transformer.encoder.layers.14.self_attention.query_key_value.base_layer.bias torch.Size([4608]) torch.float16\n",
      "base_model.model.transformer.encoder.layers.14.self_attention.query_key_value.lora_A.default.weight torch.Size([8, 4096]) torch.float32\n",
      "base_model.model.transformer.encoder.layers.14.self_attention.query_key_value.lora_B.default.weight torch.Size([4608, 8]) torch.float32\n",
      "base_model.model.transformer.encoder.layers.14.self_attention.dense.weight torch.Size([4096, 4096]) torch.float16\n",
      "base_model.model.transformer.encoder.layers.14.post_attention_layernorm.weight torch.Size([4096]) torch.float16\n",
      "base_model.model.transformer.encoder.layers.14.mlp.dense_h_to_4h.weight torch.Size([27392, 4096]) torch.float16\n",
      "base_model.model.transformer.encoder.layers.14.mlp.dense_4h_to_h.weight torch.Size([4096, 13696]) torch.float16\n",
      "base_model.model.transformer.encoder.layers.15.input_layernorm.weight torch.Size([4096]) torch.float16\n",
      "base_model.model.transformer.encoder.layers.15.self_attention.query_key_value.base_layer.weight torch.Size([4608, 4096]) torch.float16\n",
      "base_model.model.transformer.encoder.layers.15.self_attention.query_key_value.base_layer.bias torch.Size([4608]) torch.float16\n",
      "base_model.model.transformer.encoder.layers.15.self_attention.query_key_value.lora_A.default.weight torch.Size([8, 4096]) torch.float32\n",
      "base_model.model.transformer.encoder.layers.15.self_attention.query_key_value.lora_B.default.weight torch.Size([4608, 8]) torch.float32\n",
      "base_model.model.transformer.encoder.layers.15.self_attention.dense.weight torch.Size([4096, 4096]) torch.float16\n",
      "base_model.model.transformer.encoder.layers.15.post_attention_layernorm.weight torch.Size([4096]) torch.float16\n",
      "base_model.model.transformer.encoder.layers.15.mlp.dense_h_to_4h.weight torch.Size([27392, 4096]) torch.float16\n",
      "base_model.model.transformer.encoder.layers.15.mlp.dense_4h_to_h.weight torch.Size([4096, 13696]) torch.float16\n",
      "base_model.model.transformer.encoder.layers.16.input_layernorm.weight torch.Size([4096]) torch.float16\n",
      "base_model.model.transformer.encoder.layers.16.self_attention.query_key_value.base_layer.weight torch.Size([4608, 4096]) torch.float16\n",
      "base_model.model.transformer.encoder.layers.16.self_attention.query_key_value.base_layer.bias torch.Size([4608]) torch.float16\n",
      "base_model.model.transformer.encoder.layers.16.self_attention.query_key_value.lora_A.default.weight torch.Size([8, 4096]) torch.float32\n",
      "base_model.model.transformer.encoder.layers.16.self_attention.query_key_value.lora_B.default.weight torch.Size([4608, 8]) torch.float32\n",
      "base_model.model.transformer.encoder.layers.16.self_attention.dense.weight torch.Size([4096, 4096]) torch.float16\n",
      "base_model.model.transformer.encoder.layers.16.post_attention_layernorm.weight torch.Size([4096]) torch.float16\n",
      "base_model.model.transformer.encoder.layers.16.mlp.dense_h_to_4h.weight torch.Size([27392, 4096]) torch.float16\n",
      "base_model.model.transformer.encoder.layers.16.mlp.dense_4h_to_h.weight torch.Size([4096, 13696]) torch.float16\n",
      "base_model.model.transformer.encoder.layers.17.input_layernorm.weight torch.Size([4096]) torch.float16\n",
      "base_model.model.transformer.encoder.layers.17.self_attention.query_key_value.base_layer.weight torch.Size([4608, 4096]) torch.float16\n",
      "base_model.model.transformer.encoder.layers.17.self_attention.query_key_value.base_layer.bias torch.Size([4608]) torch.float16\n",
      "base_model.model.transformer.encoder.layers.17.self_attention.query_key_value.lora_A.default.weight torch.Size([8, 4096]) torch.float32\n",
      "base_model.model.transformer.encoder.layers.17.self_attention.query_key_value.lora_B.default.weight torch.Size([4608, 8]) torch.float32\n",
      "base_model.model.transformer.encoder.layers.17.self_attention.dense.weight torch.Size([4096, 4096]) torch.float16\n",
      "base_model.model.transformer.encoder.layers.17.post_attention_layernorm.weight torch.Size([4096]) torch.float16\n",
      "base_model.model.transformer.encoder.layers.17.mlp.dense_h_to_4h.weight torch.Size([27392, 4096]) torch.float16\n",
      "base_model.model.transformer.encoder.layers.17.mlp.dense_4h_to_h.weight torch.Size([4096, 13696]) torch.float16\n",
      "base_model.model.transformer.encoder.layers.18.input_layernorm.weight torch.Size([4096]) torch.float16\n",
      "base_model.model.transformer.encoder.layers.18.self_attention.query_key_value.base_layer.weight torch.Size([4608, 4096]) torch.float16\n",
      "base_model.model.transformer.encoder.layers.18.self_attention.query_key_value.base_layer.bias torch.Size([4608]) torch.float16\n",
      "base_model.model.transformer.encoder.layers.18.self_attention.query_key_value.lora_A.default.weight torch.Size([8, 4096]) torch.float32\n",
      "base_model.model.transformer.encoder.layers.18.self_attention.query_key_value.lora_B.default.weight torch.Size([4608, 8]) torch.float32\n",
      "base_model.model.transformer.encoder.layers.18.self_attention.dense.weight torch.Size([4096, 4096]) torch.float16\n",
      "base_model.model.transformer.encoder.layers.18.post_attention_layernorm.weight torch.Size([4096]) torch.float16\n",
      "base_model.model.transformer.encoder.layers.18.mlp.dense_h_to_4h.weight torch.Size([27392, 4096]) torch.float16\n",
      "base_model.model.transformer.encoder.layers.18.mlp.dense_4h_to_h.weight torch.Size([4096, 13696]) torch.float16\n",
      "base_model.model.transformer.encoder.layers.19.input_layernorm.weight torch.Size([4096]) torch.float16\n",
      "base_model.model.transformer.encoder.layers.19.self_attention.query_key_value.base_layer.weight torch.Size([4608, 4096]) torch.float16\n",
      "base_model.model.transformer.encoder.layers.19.self_attention.query_key_value.base_layer.bias torch.Size([4608]) torch.float16\n",
      "base_model.model.transformer.encoder.layers.19.self_attention.query_key_value.lora_A.default.weight torch.Size([8, 4096]) torch.float32\n",
      "base_model.model.transformer.encoder.layers.19.self_attention.query_key_value.lora_B.default.weight torch.Size([4608, 8]) torch.float32\n",
      "base_model.model.transformer.encoder.layers.19.self_attention.dense.weight torch.Size([4096, 4096]) torch.float16\n",
      "base_model.model.transformer.encoder.layers.19.post_attention_layernorm.weight torch.Size([4096]) torch.float16\n",
      "base_model.model.transformer.encoder.layers.19.mlp.dense_h_to_4h.weight torch.Size([27392, 4096]) torch.float16\n",
      "base_model.model.transformer.encoder.layers.19.mlp.dense_4h_to_h.weight torch.Size([4096, 13696]) torch.float16\n",
      "base_model.model.transformer.encoder.layers.20.input_layernorm.weight torch.Size([4096]) torch.float16\n",
      "base_model.model.transformer.encoder.layers.20.self_attention.query_key_value.base_layer.weight torch.Size([4608, 4096]) torch.float16\n",
      "base_model.model.transformer.encoder.layers.20.self_attention.query_key_value.base_layer.bias torch.Size([4608]) torch.float16\n",
      "base_model.model.transformer.encoder.layers.20.self_attention.query_key_value.lora_A.default.weight torch.Size([8, 4096]) torch.float32\n",
      "base_model.model.transformer.encoder.layers.20.self_attention.query_key_value.lora_B.default.weight torch.Size([4608, 8]) torch.float32\n",
      "base_model.model.transformer.encoder.layers.20.self_attention.dense.weight torch.Size([4096, 4096]) torch.float16\n",
      "base_model.model.transformer.encoder.layers.20.post_attention_layernorm.weight torch.Size([4096]) torch.float16\n",
      "base_model.model.transformer.encoder.layers.20.mlp.dense_h_to_4h.weight torch.Size([27392, 4096]) torch.float16\n",
      "base_model.model.transformer.encoder.layers.20.mlp.dense_4h_to_h.weight torch.Size([4096, 13696]) torch.float16\n",
      "base_model.model.transformer.encoder.layers.21.input_layernorm.weight torch.Size([4096]) torch.float16\n",
      "base_model.model.transformer.encoder.layers.21.self_attention.query_key_value.base_layer.weight torch.Size([4608, 4096]) torch.float16\n",
      "base_model.model.transformer.encoder.layers.21.self_attention.query_key_value.base_layer.bias torch.Size([4608]) torch.float16\n",
      "base_model.model.transformer.encoder.layers.21.self_attention.query_key_value.lora_A.default.weight torch.Size([8, 4096]) torch.float32\n",
      "base_model.model.transformer.encoder.layers.21.self_attention.query_key_value.lora_B.default.weight torch.Size([4608, 8]) torch.float32\n",
      "base_model.model.transformer.encoder.layers.21.self_attention.dense.weight torch.Size([4096, 4096]) torch.float16\n",
      "base_model.model.transformer.encoder.layers.21.post_attention_layernorm.weight torch.Size([4096]) torch.float16\n",
      "base_model.model.transformer.encoder.layers.21.mlp.dense_h_to_4h.weight torch.Size([27392, 4096]) torch.float16\n",
      "base_model.model.transformer.encoder.layers.21.mlp.dense_4h_to_h.weight torch.Size([4096, 13696]) torch.float16\n",
      "base_model.model.transformer.encoder.layers.22.input_layernorm.weight torch.Size([4096]) torch.float16\n",
      "base_model.model.transformer.encoder.layers.22.self_attention.query_key_value.base_layer.weight torch.Size([4608, 4096]) torch.float16\n",
      "base_model.model.transformer.encoder.layers.22.self_attention.query_key_value.base_layer.bias torch.Size([4608]) torch.float16\n",
      "base_model.model.transformer.encoder.layers.22.self_attention.query_key_value.lora_A.default.weight torch.Size([8, 4096]) torch.float32\n",
      "base_model.model.transformer.encoder.layers.22.self_attention.query_key_value.lora_B.default.weight torch.Size([4608, 8]) torch.float32\n",
      "base_model.model.transformer.encoder.layers.22.self_attention.dense.weight torch.Size([4096, 4096]) torch.float16\n",
      "base_model.model.transformer.encoder.layers.22.post_attention_layernorm.weight torch.Size([4096]) torch.float16\n",
      "base_model.model.transformer.encoder.layers.22.mlp.dense_h_to_4h.weight torch.Size([27392, 4096]) torch.float16\n",
      "base_model.model.transformer.encoder.layers.22.mlp.dense_4h_to_h.weight torch.Size([4096, 13696]) torch.float16\n",
      "base_model.model.transformer.encoder.layers.23.input_layernorm.weight torch.Size([4096]) torch.float16\n",
      "base_model.model.transformer.encoder.layers.23.self_attention.query_key_value.base_layer.weight torch.Size([4608, 4096]) torch.float16\n",
      "base_model.model.transformer.encoder.layers.23.self_attention.query_key_value.base_layer.bias torch.Size([4608]) torch.float16\n",
      "base_model.model.transformer.encoder.layers.23.self_attention.query_key_value.lora_A.default.weight torch.Size([8, 4096]) torch.float32\n",
      "base_model.model.transformer.encoder.layers.23.self_attention.query_key_value.lora_B.default.weight torch.Size([4608, 8]) torch.float32\n",
      "base_model.model.transformer.encoder.layers.23.self_attention.dense.weight torch.Size([4096, 4096]) torch.float16\n",
      "base_model.model.transformer.encoder.layers.23.post_attention_layernorm.weight torch.Size([4096]) torch.float16\n",
      "base_model.model.transformer.encoder.layers.23.mlp.dense_h_to_4h.weight torch.Size([27392, 4096]) torch.float16\n",
      "base_model.model.transformer.encoder.layers.23.mlp.dense_4h_to_h.weight torch.Size([4096, 13696]) torch.float16\n",
      "base_model.model.transformer.encoder.layers.24.input_layernorm.weight torch.Size([4096]) torch.float16\n",
      "base_model.model.transformer.encoder.layers.24.self_attention.query_key_value.base_layer.weight torch.Size([4608, 4096]) torch.float16\n",
      "base_model.model.transformer.encoder.layers.24.self_attention.query_key_value.base_layer.bias torch.Size([4608]) torch.float16\n",
      "base_model.model.transformer.encoder.layers.24.self_attention.query_key_value.lora_A.default.weight torch.Size([8, 4096]) torch.float32\n",
      "base_model.model.transformer.encoder.layers.24.self_attention.query_key_value.lora_B.default.weight torch.Size([4608, 8]) torch.float32\n",
      "base_model.model.transformer.encoder.layers.24.self_attention.dense.weight torch.Size([4096, 4096]) torch.float16\n",
      "base_model.model.transformer.encoder.layers.24.post_attention_layernorm.weight torch.Size([4096]) torch.float16\n",
      "base_model.model.transformer.encoder.layers.24.mlp.dense_h_to_4h.weight torch.Size([27392, 4096]) torch.float16\n",
      "base_model.model.transformer.encoder.layers.24.mlp.dense_4h_to_h.weight torch.Size([4096, 13696]) torch.float16\n",
      "base_model.model.transformer.encoder.layers.25.input_layernorm.weight torch.Size([4096]) torch.float16\n",
      "base_model.model.transformer.encoder.layers.25.self_attention.query_key_value.base_layer.weight torch.Size([4608, 4096]) torch.float16\n",
      "base_model.model.transformer.encoder.layers.25.self_attention.query_key_value.base_layer.bias torch.Size([4608]) torch.float16\n",
      "base_model.model.transformer.encoder.layers.25.self_attention.query_key_value.lora_A.default.weight torch.Size([8, 4096]) torch.float32\n",
      "base_model.model.transformer.encoder.layers.25.self_attention.query_key_value.lora_B.default.weight torch.Size([4608, 8]) torch.float32\n",
      "base_model.model.transformer.encoder.layers.25.self_attention.dense.weight torch.Size([4096, 4096]) torch.float16\n",
      "base_model.model.transformer.encoder.layers.25.post_attention_layernorm.weight torch.Size([4096]) torch.float16\n",
      "base_model.model.transformer.encoder.layers.25.mlp.dense_h_to_4h.weight torch.Size([27392, 4096]) torch.float16\n",
      "base_model.model.transformer.encoder.layers.25.mlp.dense_4h_to_h.weight torch.Size([4096, 13696]) torch.float16\n",
      "base_model.model.transformer.encoder.layers.26.input_layernorm.weight torch.Size([4096]) torch.float16\n",
      "base_model.model.transformer.encoder.layers.26.self_attention.query_key_value.base_layer.weight torch.Size([4608, 4096]) torch.float16\n",
      "base_model.model.transformer.encoder.layers.26.self_attention.query_key_value.base_layer.bias torch.Size([4608]) torch.float16\n",
      "base_model.model.transformer.encoder.layers.26.self_attention.query_key_value.lora_A.default.weight torch.Size([8, 4096]) torch.float32\n",
      "base_model.model.transformer.encoder.layers.26.self_attention.query_key_value.lora_B.default.weight torch.Size([4608, 8]) torch.float32\n",
      "base_model.model.transformer.encoder.layers.26.self_attention.dense.weight torch.Size([4096, 4096]) torch.float16\n",
      "base_model.model.transformer.encoder.layers.26.post_attention_layernorm.weight torch.Size([4096]) torch.float16\n",
      "base_model.model.transformer.encoder.layers.26.mlp.dense_h_to_4h.weight torch.Size([27392, 4096]) torch.float16\n",
      "base_model.model.transformer.encoder.layers.26.mlp.dense_4h_to_h.weight torch.Size([4096, 13696]) torch.float16\n",
      "base_model.model.transformer.encoder.layers.27.input_layernorm.weight torch.Size([4096]) torch.float16\n",
      "base_model.model.transformer.encoder.layers.27.self_attention.query_key_value.base_layer.weight torch.Size([4608, 4096]) torch.float16\n",
      "base_model.model.transformer.encoder.layers.27.self_attention.query_key_value.base_layer.bias torch.Size([4608]) torch.float16\n",
      "base_model.model.transformer.encoder.layers.27.self_attention.query_key_value.lora_A.default.weight torch.Size([8, 4096]) torch.float32\n",
      "base_model.model.transformer.encoder.layers.27.self_attention.query_key_value.lora_B.default.weight torch.Size([4608, 8]) torch.float32\n",
      "base_model.model.transformer.encoder.layers.27.self_attention.dense.weight torch.Size([4096, 4096]) torch.float16\n",
      "base_model.model.transformer.encoder.layers.27.post_attention_layernorm.weight torch.Size([4096]) torch.float16\n",
      "base_model.model.transformer.encoder.layers.27.mlp.dense_h_to_4h.weight torch.Size([27392, 4096]) torch.float16\n",
      "base_model.model.transformer.encoder.layers.27.mlp.dense_4h_to_h.weight torch.Size([4096, 13696]) torch.float16\n",
      "base_model.model.transformer.encoder.final_layernorm.weight torch.Size([4096]) torch.float16\n",
      "base_model.model.transformer.output_layer.weight torch.Size([65024, 4096]) torch.float16\n"
     ]
    }
   ],
   "source": [
    "# 查看模型参数，查看LoRA层添加到哪\n",
    "for name, param in model.named_parameters():\n",
    "    print(name, param.shape, param.dtype)"
   ]
  },
  {
   "cell_type": "markdown",
   "metadata": {},
   "source": [
    "## 步骤5 配置训练参数"
   ]
  },
  {
   "cell_type": "code",
   "execution_count": 17,
   "metadata": {},
   "outputs": [],
   "source": [
    "args = TrainingArguments(\n",
    "    output_dir=\"/root/autodl-tmp/chatglm2output\", #输出目录，用于存储模型和日志文件。\n",
    "    per_device_train_batch_size=1, # 每个设备的训练批次大小，即每个设备每次处理的数据量，批次越大，训练时需要资源越多\n",
    "    gradient_accumulation_steps=8, # 指定梯度累积步数。用于控制梯度更新的频率。在每个累积步中，模型会计算多个批次的梯度，然后一次性更新权重。这可以减少内存占用并提高训练速度。在本例子中，每16个步骤进行一次梯度更新。\n",
    "    logging_steps=10, #日志记录步数，用于控制每隔多少步记录一次训练日志。\n",
    "    save_steps=50,  # 每隔多少步保存一次模型\n",
    "    num_train_epochs=20, #训练轮数，即模型在整个训练集上进行迭代的次数。正常情况会训练很多轮\n",
    "    learning_rate=1e-4, #学习率，控制模型参数更新的速度。较小的学习率会使模型收敛得更快，但可能需要更多的训练轮数\n",
    "    # gradient_checkpointing=True,  # 是否启用梯度检查点（减少内存占用）\n",
    "    adam_epsilon=1e-4, #Adam优化器的epsilon值，用于防止除以零的情况。\n",
    "    remove_unused_columns=False #是否移除未使用的列，如果设置为False，则保留所有列，否则只保留模型所需的列。\n",
    ")"
   ]
  },
  {
   "cell_type": "markdown",
   "metadata": {},
   "source": [
    "## 步骤6 创建训练器"
   ]
  },
  {
   "cell_type": "code",
   "execution_count": 18,
   "metadata": {},
   "outputs": [],
   "source": [
    "trainer = Trainer(\n",
    "    model=model,\n",
    "    args=args,\n",
    "    train_dataset=tokenized_ds,\n",
    "    data_collator=DataCollatorForSeq2Seq(tokenizer=tokenizer, padding=True),\n",
    ")"
   ]
  },
  {
   "cell_type": "markdown",
   "metadata": {},
   "source": [
    "## 步骤7 模型训练"
   ]
  },
  {
   "cell_type": "code",
   "execution_count": 19,
   "metadata": {},
   "outputs": [
    {
     "data": {
      "text/html": [
       "\n",
       "    <div>\n",
       "      \n",
       "      <progress value='220' max='220' style='width:300px; height:20px; vertical-align: middle;'></progress>\n",
       "      [220/220 06:00, Epoch 19/20]\n",
       "    </div>\n",
       "    <table border=\"1\" class=\"dataframe\">\n",
       "  <thead>\n",
       " <tr style=\"text-align: left;\">\n",
       "      <th>Step</th>\n",
       "      <th>Training Loss</th>\n",
       "    </tr>\n",
       "  </thead>\n",
       "  <tbody>\n",
       "    <tr>\n",
       "      <td>10</td>\n",
       "      <td>3.303000</td>\n",
       "    </tr>\n",
       "    <tr>\n",
       "      <td>20</td>\n",
       "      <td>3.059000</td>\n",
       "    </tr>\n",
       "    <tr>\n",
       "      <td>30</td>\n",
       "      <td>2.545600</td>\n",
       "    </tr>\n",
       "    <tr>\n",
       "      <td>40</td>\n",
       "      <td>2.029700</td>\n",
       "    </tr>\n",
       "    <tr>\n",
       "      <td>50</td>\n",
       "      <td>1.458000</td>\n",
       "    </tr>\n",
       "    <tr>\n",
       "      <td>60</td>\n",
       "      <td>1.248400</td>\n",
       "    </tr>\n",
       "    <tr>\n",
       "      <td>70</td>\n",
       "      <td>1.124400</td>\n",
       "    </tr>\n",
       "    <tr>\n",
       "      <td>80</td>\n",
       "      <td>0.957500</td>\n",
       "    </tr>\n",
       "    <tr>\n",
       "      <td>90</td>\n",
       "      <td>0.873500</td>\n",
       "    </tr>\n",
       "    <tr>\n",
       "      <td>100</td>\n",
       "      <td>0.819500</td>\n",
       "    </tr>\n",
       "    <tr>\n",
       "      <td>110</td>\n",
       "      <td>0.865100</td>\n",
       "    </tr>\n",
       "    <tr>\n",
       "      <td>120</td>\n",
       "      <td>0.679400</td>\n",
       "    </tr>\n",
       "    <tr>\n",
       "      <td>130</td>\n",
       "      <td>0.711600</td>\n",
       "    </tr>\n",
       "    <tr>\n",
       "      <td>140</td>\n",
       "      <td>0.644100</td>\n",
       "    </tr>\n",
       "    <tr>\n",
       "      <td>150</td>\n",
       "      <td>0.588600</td>\n",
       "    </tr>\n",
       "    <tr>\n",
       "      <td>160</td>\n",
       "      <td>0.604500</td>\n",
       "    </tr>\n",
       "    <tr>\n",
       "      <td>170</td>\n",
       "      <td>0.548500</td>\n",
       "    </tr>\n",
       "    <tr>\n",
       "      <td>180</td>\n",
       "      <td>0.580200</td>\n",
       "    </tr>\n",
       "    <tr>\n",
       "      <td>190</td>\n",
       "      <td>0.446900</td>\n",
       "    </tr>\n",
       "    <tr>\n",
       "      <td>200</td>\n",
       "      <td>0.520600</td>\n",
       "    </tr>\n",
       "    <tr>\n",
       "      <td>210</td>\n",
       "      <td>0.523300</td>\n",
       "    </tr>\n",
       "    <tr>\n",
       "      <td>220</td>\n",
       "      <td>0.526900</td>\n",
       "    </tr>\n",
       "  </tbody>\n",
       "</table><p>"
      ],
      "text/plain": [
       "<IPython.core.display.HTML object>"
      ]
     },
     "metadata": {},
     "output_type": "display_data"
    },
    {
     "data": {
      "text/plain": [
       "TrainOutput(global_step=220, training_loss=1.120823376828974, metrics={'train_runtime': 364.1551, 'train_samples_per_second': 4.998, 'train_steps_per_second': 0.604, 'total_flos': 2599084486557696.0, 'train_loss': 1.120823376828974, 'epoch': 19.34065934065934})"
      ]
     },
     "execution_count": 19,
     "metadata": {},
     "output_type": "execute_result"
    }
   ],
   "source": [
    "trainer.train()"
   ]
  },
  {
   "cell_type": "markdown",
   "metadata": {},
   "source": [
    "## 步骤8 模型保存"
   ]
  },
  {
   "cell_type": "code",
   "execution_count": 20,
   "metadata": {},
   "outputs": [],
   "source": [
    "# 保存模型及训练状态\n",
    "model.save_pretrained(train_output_dir)"
   ]
  },
  {
   "cell_type": "markdown",
   "metadata": {},
   "source": [
    "## 步骤9 模型推理\n",
    "- <span style=\"background-color: yellow;\">需要重启并切换jupyter内核</span>"
   ]
  },
  {
   "cell_type": "code",
   "execution_count": 1,
   "metadata": {},
   "outputs": [
    {
     "data": {
      "application/vnd.jupyter.widget-view+json": {
       "model_id": "a813e164d4204d11822572e52cc1eb60",
       "version_major": 2,
       "version_minor": 0
      },
      "text/plain": [
       "Loading checkpoint shards:   0%|          | 0/7 [00:00<?, ?it/s]"
      ]
     },
     "metadata": {},
     "output_type": "display_data"
    }
   ],
   "source": [
    "import torch\n",
    "from datasets import Dataset\n",
    "from transformers import AutoTokenizer, AutoModelForCausalLM, DataCollatorForSeq2Seq, TrainingArguments, Trainer\n",
    "from peft import PeftModel\n",
    "\n",
    "# 设置关键参数\n",
    "model_name_or_path = \"models/ZhipuAI/chatglm3-6b-base\"\n",
    "train_output_dir = \"saves/lora/chatglm3-6b-base\"\n",
    "\n",
    "# 加载tokenizer\n",
    "tokenizer = AutoTokenizer.from_pretrained(model_name_or_path, trust_remote_code=True)\n",
    "\n",
    "# 加载Base模型\n",
    "base_model = AutoModelForCausalLM.from_pretrained(model_name_or_path,\n",
    "                                                  low_cpu_mem_usage=True,\n",
    "                                                  device_map=\"auto\",\n",
    "                                                  trust_remote_code=True\n",
    "                                                 ).eval()\n",
    "\n",
    "# 加载lora权重\n",
    "model = PeftModel.from_pretrained(base_model, train_output_dir)"
   ]
  },
  {
   "cell_type": "code",
   "execution_count": 3,
   "metadata": {},
   "outputs": [
    {
     "data": {
      "text/plain": [
       "'您好，我是 夜行者，由 木子 打造的人工智能助手。请问有什么需要帮助的吗？'"
      ]
     },
     "execution_count": 3,
     "metadata": {},
     "output_type": "execute_result"
    }
   ],
   "source": [
    "# 模型推理\n",
    "# model.eval()\n",
    "c,_=model.chat(tokenizer, \"你是谁？\", history=[])\n",
    "c['name']"
   ]
  },
  {
   "cell_type": "code",
   "execution_count": null,
   "metadata": {},
   "outputs": [],
   "source": []
  }
 ],
 "metadata": {
  "kernelspec": {
   "display_name": "Python 3(transformers2)",
   "language": "python",
   "name": "transformers2"
  },
  "language_info": {
   "codemirror_mode": {
    "name": "ipython",
    "version": 3
   },
   "file_extension": ".py",
   "mimetype": "text/x-python",
   "name": "python",
   "nbconvert_exporter": "python",
   "pygments_lexer": "ipython3",
   "version": "3.11.9"
  }
 },
 "nbformat": 4,
 "nbformat_minor": 4
}
