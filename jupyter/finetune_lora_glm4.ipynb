{
 "cells": [
  {
   "cell_type": "markdown",
   "metadata": {},
   "source": [
    "# GLM-4-9B-Chat微调实战-LoRA技术微调"
   ]
  },
  {
   "cell_type": "markdown",
   "metadata": {},
   "source": [
    "## 步骤1 导入相关包"
   ]
  },
  {
   "cell_type": "code",
   "execution_count": 1,
   "metadata": {},
   "outputs": [
    {
     "name": "stderr",
     "output_type": "stream",
     "text": [
      "/root/autodl-tmp/conda/envs/transformers/lib/python3.11/site-packages/tqdm/auto.py:21: TqdmWarning: IProgress not found. Please update jupyter and ipywidgets. See https://ipywidgets.readthedocs.io/en/stable/user_install.html\n",
      "  from .autonotebook import tqdm as notebook_tqdm\n",
      "2024-09-03 10:01:39,486 - modelscope - WARNING - Model revision not specified, use revision: v1.0.1\n"
     ]
    }
   ],
   "source": [
    "from datasets import load_dataset\n",
    "from transformers import AutoTokenizer, AutoModelForCausalLM, DataCollatorForSeq2Seq, TrainingArguments, Trainer\n",
    "\n",
    "# 模型下载\n",
    "from modelscope import snapshot_download\n",
    "model_dir = snapshot_download('ZhipuAI/chatglm3-6b-base')\n",
    "\n",
    "# 设置关键参数\n",
    "dataset_name_or_path = \"llm-wizard/alpaca-gpt4-data-zh\"\n",
    "model_name_or_path = \"/root/autodl-tmp/cache/modelscope/hub/ZhipuAI/chatglm3-6b-base\"\n",
    "train_output_dir = \"/root/autodl-tmp/cache/finetuning/chatglm3-6b-base-lora\""
   ]
  },
  {
   "cell_type": "markdown",
   "metadata": {},
   "source": [
    "## 步骤2 加载数据集"
   ]
  },
  {
   "cell_type": "code",
   "execution_count": 2,
   "metadata": {},
   "outputs": [
    {
     "data": {
      "text/plain": [
       "Dataset({\n",
       "    features: ['instruction', 'input', 'output'],\n",
       "    num_rows: 48818\n",
       "})"
      ]
     },
     "execution_count": 2,
     "metadata": {},
     "output_type": "execute_result"
    }
   ],
   "source": [
    "ds = load_dataset(dataset_name_or_path,split='train')\n",
    "ds"
   ]
  },
  {
   "cell_type": "code",
   "execution_count": 3,
   "metadata": {},
   "outputs": [
    {
     "data": {
      "text/plain": [
       "{'instruction': ['保持健康的三个提示。'],\n",
       " 'input': [''],\n",
       " 'output': ['以下是保持健康的三个提示：\\n\\n1. 保持身体活动。每天做适当的身体运动，如散步、跑步或游泳，能促进心血管健康，增强肌肉力量，并有助于减少体重。\\n\\n2. 均衡饮食。每天食用新鲜的蔬菜、水果、全谷物和脂肪含量低的蛋白质食物，避免高糖、高脂肪和加工食品，以保持健康的饮食习惯。\\n\\n3. 睡眠充足。睡眠对人体健康至关重要，成年人每天应保证 7-8 小时的睡眠。良好的睡眠有助于减轻压力，促进身体恢复，并提高注意力和记忆力。']}"
      ]
     },
     "execution_count": 3,
     "metadata": {},
     "output_type": "execute_result"
    }
   ],
   "source": [
    "ds[:1]"
   ]
  },
  {
   "cell_type": "markdown",
   "metadata": {},
   "source": [
    "## 步骤3 数据集预处理"
   ]
  },
  {
   "cell_type": "code",
   "execution_count": 4,
   "metadata": {},
   "outputs": [
    {
     "data": {
      "text/plain": [
       "ChatGLMTokenizer(name_or_path='/root/autodl-tmp/cache/modelscope/hub/ZhipuAI/chatglm3-6b-base', vocab_size=64798, model_max_length=1000000000000000019884624838656, is_fast=False, padding_side='left', truncation_side='right', special_tokens={'eos_token': '</s>', 'unk_token': '<unk>', 'pad_token': '<unk>'}, clean_up_tokenization_spaces=False),  added_tokens_decoder={\n",
       "\t\n",
       "}"
      ]
     },
     "execution_count": 4,
     "metadata": {},
     "output_type": "execute_result"
    }
   ],
   "source": [
    "#加载本地模型，提前下载到本地\n",
    "tokenizer = AutoTokenizer.from_pretrained(model_name_or_path, trust_remote_code=True)\n",
    "tokenizer"
   ]
  },
  {
   "cell_type": "code",
   "execution_count": 5,
   "metadata": {},
   "outputs": [],
   "source": [
    "def process_func(example):\n",
    "    MAX_LENGTH = 256 # 设置最大长度为256\n",
    "    input_ids, attention_mask, labels = [], [], [] # 初始化输入ID、注意力掩码和标签列表\n",
    "    instruction = \"\\n\".join([example[\"instruction\"], example[\"input\"]]).strip()     # prompt\n",
    "    instruction = tokenizer.build_chat_input(instruction, history=[], role=\"user\")  # [gMASK]sop<|user|> \\n prompt <|assistant|>\n",
    "    response = tokenizer(\"\\n\" + example[\"output\"], add_special_tokens=False)        # \\n response\n",
    "    input_ids = instruction[\"input_ids\"][0].numpy().tolist() + response[\"input_ids\"] + [tokenizer.eos_token_id] #eos token\n",
    "    attention_mask = instruction[\"attention_mask\"][0].numpy().tolist() + response[\"attention_mask\"] + [1]\n",
    "    labels = [-100] * len(instruction[\"input_ids\"][0].numpy().tolist()) + response[\"input_ids\"] + [tokenizer.eos_token_id]\n",
    "    if len(input_ids) > MAX_LENGTH:\n",
    "        input_ids = input_ids[:MAX_LENGTH]\n",
    "        attention_mask = attention_mask[:MAX_LENGTH]\n",
    "        labels = labels[:MAX_LENGTH]\n",
    "    return {\n",
    "        \"input_ids\": input_ids,\n",
    "        \"attention_mask\": attention_mask,\n",
    "        \"labels\": labels\n",
    "    }"
   ]
  },
  {
   "cell_type": "code",
   "execution_count": 6,
   "metadata": {},
   "outputs": [
    {
     "data": {
      "text/plain": [
       "Dataset({\n",
       "    features: ['input_ids', 'attention_mask', 'labels'],\n",
       "    num_rows: 48818\n",
       "})"
      ]
     },
     "execution_count": 6,
     "metadata": {},
     "output_type": "execute_result"
    }
   ],
   "source": [
    "tokenized_ds = ds.map(process_func, remove_columns=ds.column_names)\n",
    "tokenized_ds"
   ]
  },
  {
   "cell_type": "code",
   "execution_count": 7,
   "metadata": {},
   "outputs": [
    {
     "data": {
      "text/plain": [
       "'[gMASK]sop<|user|> \\n 三原色是什么？<|assistant|> \\n三原色通常指的是红色、绿色和蓝色（RGB）。它们是通过加色混合原理创建色彩的三种基础颜色。在以发光为基础的显示设备中（如电视、计算机显示器、智能手机和平板电脑显示屏）, 三原色可混合产生大量色彩。其中红色和绿色可以混合生成黄色，红色和蓝色可以混合生成品红色，蓝色和绿色可以混合生成青色。当红色、绿色和蓝色按相等比例混合时，可以产生白色或灰色。\\n\\n此外，在印刷和绘画中，三原色指的是以颜料为基础的红、黄和蓝颜色（RYB）。这三种颜色用以通过减色混合原理来创建色彩。不过，三原色的具体定义并不唯一，不同的颜色系统可能会采用不同的三原色。'"
      ]
     },
     "execution_count": 7,
     "metadata": {},
     "output_type": "execute_result"
    }
   ],
   "source": [
    "# 检查input_ids的格式\n",
    "tokenizer.decode(tokenized_ds[1][\"input_ids\"])"
   ]
  },
  {
   "cell_type": "code",
   "execution_count": 8,
   "metadata": {},
   "outputs": [
    {
     "data": {
      "text/plain": [
       "'\\n三原色通常指的是红色、绿色和蓝色（RGB）。它们是通过加色混合原理创建色彩的三种基础颜色。在以发光为基础的显示设备中（如电视、计算机显示器、智能手机和平板电脑显示屏）, 三原色可混合产生大量色彩。其中红色和绿色可以混合生成黄色，红色和蓝色可以混合生成品红色，蓝色和绿色可以混合生成青色。当红色、绿色和蓝色按相等比例混合时，可以产生白色或灰色。\\n\\n此外，在印刷和绘画中，三原色指的是以颜料为基础的红、黄和蓝颜色（RYB）。这三种颜色用以通过减色混合原理来创建色彩。不过，三原色的具体定义并不唯一，不同的颜色系统可能会采用不同的三原色。'"
      ]
     },
     "execution_count": 8,
     "metadata": {},
     "output_type": "execute_result"
    }
   ],
   "source": [
    "# 检查labels数据格式\n",
    "tokenizer.decode(list(filter(lambda x: x != -100, tokenized_ds[1][\"labels\"])))"
   ]
  },
  {
   "cell_type": "markdown",
   "metadata": {},
   "source": [
    "## 步骤4 创建模型"
   ]
  },
  {
   "cell_type": "code",
   "execution_count": 9,
   "metadata": {},
   "outputs": [
    {
     "name": "stderr",
     "output_type": "stream",
     "text": [
      "Loading checkpoint shards: 100%|██████████| 7/7 [00:05<00:00,  1.39it/s]\n"
     ]
    },
    {
     "data": {
      "text/plain": [
       "torch.float16"
      ]
     },
     "execution_count": 9,
     "metadata": {},
     "output_type": "execute_result"
    }
   ],
   "source": [
    "import torch\n",
    "model = AutoModelForCausalLM.from_pretrained(model_name_or_path, \n",
    "                                             low_cpu_mem_usage=True,\n",
    "                                             torch_dtype=torch.half,\n",
    "                                             device_map=\"auto\",\n",
    "                                             trust_remote_code=True\n",
    "                                            )\n",
    "model.dtype"
   ]
  },
  {
   "cell_type": "code",
   "execution_count": 10,
   "metadata": {
    "tags": []
   },
   "outputs": [
    {
     "name": "stdout",
     "output_type": "stream",
     "text": [
      "transformer.embedding.word_embeddings.weight\n",
      "transformer.encoder.layers.0.input_layernorm.weight\n",
      "transformer.encoder.layers.0.self_attention.query_key_value.weight\n",
      "transformer.encoder.layers.0.self_attention.query_key_value.bias\n",
      "transformer.encoder.layers.0.self_attention.dense.weight\n",
      "transformer.encoder.layers.0.post_attention_layernorm.weight\n",
      "transformer.encoder.layers.0.mlp.dense_h_to_4h.weight\n",
      "transformer.encoder.layers.0.mlp.dense_4h_to_h.weight\n",
      "transformer.encoder.layers.1.input_layernorm.weight\n",
      "transformer.encoder.layers.1.self_attention.query_key_value.weight\n",
      "transformer.encoder.layers.1.self_attention.query_key_value.bias\n",
      "transformer.encoder.layers.1.self_attention.dense.weight\n",
      "transformer.encoder.layers.1.post_attention_layernorm.weight\n",
      "transformer.encoder.layers.1.mlp.dense_h_to_4h.weight\n",
      "transformer.encoder.layers.1.mlp.dense_4h_to_h.weight\n",
      "transformer.encoder.layers.2.input_layernorm.weight\n",
      "transformer.encoder.layers.2.self_attention.query_key_value.weight\n",
      "transformer.encoder.layers.2.self_attention.query_key_value.bias\n",
      "transformer.encoder.layers.2.self_attention.dense.weight\n",
      "transformer.encoder.layers.2.post_attention_layernorm.weight\n",
      "transformer.encoder.layers.2.mlp.dense_h_to_4h.weight\n",
      "transformer.encoder.layers.2.mlp.dense_4h_to_h.weight\n",
      "transformer.encoder.layers.3.input_layernorm.weight\n",
      "transformer.encoder.layers.3.self_attention.query_key_value.weight\n",
      "transformer.encoder.layers.3.self_attention.query_key_value.bias\n",
      "transformer.encoder.layers.3.self_attention.dense.weight\n",
      "transformer.encoder.layers.3.post_attention_layernorm.weight\n",
      "transformer.encoder.layers.3.mlp.dense_h_to_4h.weight\n",
      "transformer.encoder.layers.3.mlp.dense_4h_to_h.weight\n",
      "transformer.encoder.layers.4.input_layernorm.weight\n",
      "transformer.encoder.layers.4.self_attention.query_key_value.weight\n",
      "transformer.encoder.layers.4.self_attention.query_key_value.bias\n",
      "transformer.encoder.layers.4.self_attention.dense.weight\n",
      "transformer.encoder.layers.4.post_attention_layernorm.weight\n",
      "transformer.encoder.layers.4.mlp.dense_h_to_4h.weight\n",
      "transformer.encoder.layers.4.mlp.dense_4h_to_h.weight\n",
      "transformer.encoder.layers.5.input_layernorm.weight\n",
      "transformer.encoder.layers.5.self_attention.query_key_value.weight\n",
      "transformer.encoder.layers.5.self_attention.query_key_value.bias\n",
      "transformer.encoder.layers.5.self_attention.dense.weight\n",
      "transformer.encoder.layers.5.post_attention_layernorm.weight\n",
      "transformer.encoder.layers.5.mlp.dense_h_to_4h.weight\n",
      "transformer.encoder.layers.5.mlp.dense_4h_to_h.weight\n",
      "transformer.encoder.layers.6.input_layernorm.weight\n",
      "transformer.encoder.layers.6.self_attention.query_key_value.weight\n",
      "transformer.encoder.layers.6.self_attention.query_key_value.bias\n",
      "transformer.encoder.layers.6.self_attention.dense.weight\n",
      "transformer.encoder.layers.6.post_attention_layernorm.weight\n",
      "transformer.encoder.layers.6.mlp.dense_h_to_4h.weight\n",
      "transformer.encoder.layers.6.mlp.dense_4h_to_h.weight\n",
      "transformer.encoder.layers.7.input_layernorm.weight\n",
      "transformer.encoder.layers.7.self_attention.query_key_value.weight\n",
      "transformer.encoder.layers.7.self_attention.query_key_value.bias\n",
      "transformer.encoder.layers.7.self_attention.dense.weight\n",
      "transformer.encoder.layers.7.post_attention_layernorm.weight\n",
      "transformer.encoder.layers.7.mlp.dense_h_to_4h.weight\n",
      "transformer.encoder.layers.7.mlp.dense_4h_to_h.weight\n",
      "transformer.encoder.layers.8.input_layernorm.weight\n",
      "transformer.encoder.layers.8.self_attention.query_key_value.weight\n",
      "transformer.encoder.layers.8.self_attention.query_key_value.bias\n",
      "transformer.encoder.layers.8.self_attention.dense.weight\n",
      "transformer.encoder.layers.8.post_attention_layernorm.weight\n",
      "transformer.encoder.layers.8.mlp.dense_h_to_4h.weight\n",
      "transformer.encoder.layers.8.mlp.dense_4h_to_h.weight\n",
      "transformer.encoder.layers.9.input_layernorm.weight\n",
      "transformer.encoder.layers.9.self_attention.query_key_value.weight\n",
      "transformer.encoder.layers.9.self_attention.query_key_value.bias\n",
      "transformer.encoder.layers.9.self_attention.dense.weight\n",
      "transformer.encoder.layers.9.post_attention_layernorm.weight\n",
      "transformer.encoder.layers.9.mlp.dense_h_to_4h.weight\n",
      "transformer.encoder.layers.9.mlp.dense_4h_to_h.weight\n",
      "transformer.encoder.layers.10.input_layernorm.weight\n",
      "transformer.encoder.layers.10.self_attention.query_key_value.weight\n",
      "transformer.encoder.layers.10.self_attention.query_key_value.bias\n",
      "transformer.encoder.layers.10.self_attention.dense.weight\n",
      "transformer.encoder.layers.10.post_attention_layernorm.weight\n",
      "transformer.encoder.layers.10.mlp.dense_h_to_4h.weight\n",
      "transformer.encoder.layers.10.mlp.dense_4h_to_h.weight\n",
      "transformer.encoder.layers.11.input_layernorm.weight\n",
      "transformer.encoder.layers.11.self_attention.query_key_value.weight\n",
      "transformer.encoder.layers.11.self_attention.query_key_value.bias\n",
      "transformer.encoder.layers.11.self_attention.dense.weight\n",
      "transformer.encoder.layers.11.post_attention_layernorm.weight\n",
      "transformer.encoder.layers.11.mlp.dense_h_to_4h.weight\n",
      "transformer.encoder.layers.11.mlp.dense_4h_to_h.weight\n",
      "transformer.encoder.layers.12.input_layernorm.weight\n",
      "transformer.encoder.layers.12.self_attention.query_key_value.weight\n",
      "transformer.encoder.layers.12.self_attention.query_key_value.bias\n",
      "transformer.encoder.layers.12.self_attention.dense.weight\n",
      "transformer.encoder.layers.12.post_attention_layernorm.weight\n",
      "transformer.encoder.layers.12.mlp.dense_h_to_4h.weight\n",
      "transformer.encoder.layers.12.mlp.dense_4h_to_h.weight\n",
      "transformer.encoder.layers.13.input_layernorm.weight\n",
      "transformer.encoder.layers.13.self_attention.query_key_value.weight\n",
      "transformer.encoder.layers.13.self_attention.query_key_value.bias\n",
      "transformer.encoder.layers.13.self_attention.dense.weight\n",
      "transformer.encoder.layers.13.post_attention_layernorm.weight\n",
      "transformer.encoder.layers.13.mlp.dense_h_to_4h.weight\n",
      "transformer.encoder.layers.13.mlp.dense_4h_to_h.weight\n",
      "transformer.encoder.layers.14.input_layernorm.weight\n",
      "transformer.encoder.layers.14.self_attention.query_key_value.weight\n",
      "transformer.encoder.layers.14.self_attention.query_key_value.bias\n",
      "transformer.encoder.layers.14.self_attention.dense.weight\n",
      "transformer.encoder.layers.14.post_attention_layernorm.weight\n",
      "transformer.encoder.layers.14.mlp.dense_h_to_4h.weight\n",
      "transformer.encoder.layers.14.mlp.dense_4h_to_h.weight\n",
      "transformer.encoder.layers.15.input_layernorm.weight\n",
      "transformer.encoder.layers.15.self_attention.query_key_value.weight\n",
      "transformer.encoder.layers.15.self_attention.query_key_value.bias\n",
      "transformer.encoder.layers.15.self_attention.dense.weight\n",
      "transformer.encoder.layers.15.post_attention_layernorm.weight\n",
      "transformer.encoder.layers.15.mlp.dense_h_to_4h.weight\n",
      "transformer.encoder.layers.15.mlp.dense_4h_to_h.weight\n",
      "transformer.encoder.layers.16.input_layernorm.weight\n",
      "transformer.encoder.layers.16.self_attention.query_key_value.weight\n",
      "transformer.encoder.layers.16.self_attention.query_key_value.bias\n",
      "transformer.encoder.layers.16.self_attention.dense.weight\n",
      "transformer.encoder.layers.16.post_attention_layernorm.weight\n",
      "transformer.encoder.layers.16.mlp.dense_h_to_4h.weight\n",
      "transformer.encoder.layers.16.mlp.dense_4h_to_h.weight\n",
      "transformer.encoder.layers.17.input_layernorm.weight\n",
      "transformer.encoder.layers.17.self_attention.query_key_value.weight\n",
      "transformer.encoder.layers.17.self_attention.query_key_value.bias\n",
      "transformer.encoder.layers.17.self_attention.dense.weight\n",
      "transformer.encoder.layers.17.post_attention_layernorm.weight\n",
      "transformer.encoder.layers.17.mlp.dense_h_to_4h.weight\n",
      "transformer.encoder.layers.17.mlp.dense_4h_to_h.weight\n",
      "transformer.encoder.layers.18.input_layernorm.weight\n",
      "transformer.encoder.layers.18.self_attention.query_key_value.weight\n",
      "transformer.encoder.layers.18.self_attention.query_key_value.bias\n",
      "transformer.encoder.layers.18.self_attention.dense.weight\n",
      "transformer.encoder.layers.18.post_attention_layernorm.weight\n",
      "transformer.encoder.layers.18.mlp.dense_h_to_4h.weight\n",
      "transformer.encoder.layers.18.mlp.dense_4h_to_h.weight\n",
      "transformer.encoder.layers.19.input_layernorm.weight\n",
      "transformer.encoder.layers.19.self_attention.query_key_value.weight\n",
      "transformer.encoder.layers.19.self_attention.query_key_value.bias\n",
      "transformer.encoder.layers.19.self_attention.dense.weight\n",
      "transformer.encoder.layers.19.post_attention_layernorm.weight\n",
      "transformer.encoder.layers.19.mlp.dense_h_to_4h.weight\n",
      "transformer.encoder.layers.19.mlp.dense_4h_to_h.weight\n",
      "transformer.encoder.layers.20.input_layernorm.weight\n",
      "transformer.encoder.layers.20.self_attention.query_key_value.weight\n",
      "transformer.encoder.layers.20.self_attention.query_key_value.bias\n",
      "transformer.encoder.layers.20.self_attention.dense.weight\n",
      "transformer.encoder.layers.20.post_attention_layernorm.weight\n",
      "transformer.encoder.layers.20.mlp.dense_h_to_4h.weight\n",
      "transformer.encoder.layers.20.mlp.dense_4h_to_h.weight\n",
      "transformer.encoder.layers.21.input_layernorm.weight\n",
      "transformer.encoder.layers.21.self_attention.query_key_value.weight\n",
      "transformer.encoder.layers.21.self_attention.query_key_value.bias\n",
      "transformer.encoder.layers.21.self_attention.dense.weight\n",
      "transformer.encoder.layers.21.post_attention_layernorm.weight\n",
      "transformer.encoder.layers.21.mlp.dense_h_to_4h.weight\n",
      "transformer.encoder.layers.21.mlp.dense_4h_to_h.weight\n",
      "transformer.encoder.layers.22.input_layernorm.weight\n",
      "transformer.encoder.layers.22.self_attention.query_key_value.weight\n",
      "transformer.encoder.layers.22.self_attention.query_key_value.bias\n",
      "transformer.encoder.layers.22.self_attention.dense.weight\n",
      "transformer.encoder.layers.22.post_attention_layernorm.weight\n",
      "transformer.encoder.layers.22.mlp.dense_h_to_4h.weight\n",
      "transformer.encoder.layers.22.mlp.dense_4h_to_h.weight\n",
      "transformer.encoder.layers.23.input_layernorm.weight\n",
      "transformer.encoder.layers.23.self_attention.query_key_value.weight\n",
      "transformer.encoder.layers.23.self_attention.query_key_value.bias\n",
      "transformer.encoder.layers.23.self_attention.dense.weight\n",
      "transformer.encoder.layers.23.post_attention_layernorm.weight\n",
      "transformer.encoder.layers.23.mlp.dense_h_to_4h.weight\n",
      "transformer.encoder.layers.23.mlp.dense_4h_to_h.weight\n",
      "transformer.encoder.layers.24.input_layernorm.weight\n",
      "transformer.encoder.layers.24.self_attention.query_key_value.weight\n",
      "transformer.encoder.layers.24.self_attention.query_key_value.bias\n",
      "transformer.encoder.layers.24.self_attention.dense.weight\n",
      "transformer.encoder.layers.24.post_attention_layernorm.weight\n",
      "transformer.encoder.layers.24.mlp.dense_h_to_4h.weight\n",
      "transformer.encoder.layers.24.mlp.dense_4h_to_h.weight\n",
      "transformer.encoder.layers.25.input_layernorm.weight\n",
      "transformer.encoder.layers.25.self_attention.query_key_value.weight\n",
      "transformer.encoder.layers.25.self_attention.query_key_value.bias\n",
      "transformer.encoder.layers.25.self_attention.dense.weight\n",
      "transformer.encoder.layers.25.post_attention_layernorm.weight\n",
      "transformer.encoder.layers.25.mlp.dense_h_to_4h.weight\n",
      "transformer.encoder.layers.25.mlp.dense_4h_to_h.weight\n",
      "transformer.encoder.layers.26.input_layernorm.weight\n",
      "transformer.encoder.layers.26.self_attention.query_key_value.weight\n",
      "transformer.encoder.layers.26.self_attention.query_key_value.bias\n",
      "transformer.encoder.layers.26.self_attention.dense.weight\n",
      "transformer.encoder.layers.26.post_attention_layernorm.weight\n",
      "transformer.encoder.layers.26.mlp.dense_h_to_4h.weight\n",
      "transformer.encoder.layers.26.mlp.dense_4h_to_h.weight\n",
      "transformer.encoder.layers.27.input_layernorm.weight\n",
      "transformer.encoder.layers.27.self_attention.query_key_value.weight\n",
      "transformer.encoder.layers.27.self_attention.query_key_value.bias\n",
      "transformer.encoder.layers.27.self_attention.dense.weight\n",
      "transformer.encoder.layers.27.post_attention_layernorm.weight\n",
      "transformer.encoder.layers.27.mlp.dense_h_to_4h.weight\n",
      "transformer.encoder.layers.27.mlp.dense_4h_to_h.weight\n",
      "transformer.encoder.final_layernorm.weight\n",
      "transformer.output_layer.weight\n"
     ]
    }
   ],
   "source": [
    "for name, param in model.named_parameters():\n",
    "    print(name)"
   ]
  },
  {
   "cell_type": "markdown",
   "metadata": {},
   "source": [
    "### 1、PEFT 步骤1 配置文件"
   ]
  },
  {
   "cell_type": "code",
   "execution_count": 11,
   "metadata": {},
   "outputs": [
    {
     "data": {
      "text/plain": [
       "LoraConfig(peft_type=<PeftType.LORA: 'LORA'>, auto_mapping=None, base_model_name_or_path=None, revision=None, task_type=None, inference_mode=False, r=8, target_modules={'query_key_value'}, lora_alpha=8, lora_dropout=0.0, fan_in_fan_out=False, bias='none', use_rslora=False, modules_to_save=None, init_lora_weights=True, layers_to_transform=None, layers_pattern=None, rank_pattern={}, alpha_pattern={}, megatron_config=None, megatron_core='megatron.core', loftq_config={}, use_dora=False, layer_replication=None, runtime_config=LoraRuntimeConfig(ephemeral_gpu_offload=False))"
      ]
     },
     "execution_count": 11,
     "metadata": {},
     "output_type": "execute_result"
    }
   ],
   "source": [
    "from peft import LoraConfig, TaskType, get_peft_model, PeftModel\n",
    "\n",
    "config = LoraConfig(target_modules=[\"query_key_value\"])\n",
    "config"
   ]
  },
  {
   "cell_type": "markdown",
   "metadata": {},
   "source": [
    "### 2、PEFT 步骤2 创建模型"
   ]
  },
  {
   "cell_type": "code",
   "execution_count": 12,
   "metadata": {
    "tags": []
   },
   "outputs": [
    {
     "data": {
      "text/plain": [
       "PeftModel(\n",
       "  (base_model): LoraModel(\n",
       "    (model): ChatGLMForConditionalGeneration(\n",
       "      (transformer): ChatGLMModel(\n",
       "        (embedding): Embedding(\n",
       "          (word_embeddings): Embedding(65024, 4096)\n",
       "        )\n",
       "        (rotary_pos_emb): RotaryEmbedding()\n",
       "        (encoder): GLMTransformer(\n",
       "          (layers): ModuleList(\n",
       "            (0-27): 28 x GLMBlock(\n",
       "              (input_layernorm): RMSNorm()\n",
       "              (self_attention): SelfAttention(\n",
       "                (query_key_value): lora.Linear(\n",
       "                  (base_layer): Linear(in_features=4096, out_features=4608, bias=True)\n",
       "                  (lora_dropout): ModuleDict(\n",
       "                    (default): Identity()\n",
       "                  )\n",
       "                  (lora_A): ModuleDict(\n",
       "                    (default): Linear(in_features=4096, out_features=8, bias=False)\n",
       "                  )\n",
       "                  (lora_B): ModuleDict(\n",
       "                    (default): Linear(in_features=8, out_features=4608, bias=False)\n",
       "                  )\n",
       "                  (lora_embedding_A): ParameterDict()\n",
       "                  (lora_embedding_B): ParameterDict()\n",
       "                  (lora_magnitude_vector): ModuleDict()\n",
       "                )\n",
       "                (core_attention): CoreAttention(\n",
       "                  (attention_dropout): Dropout(p=0.0, inplace=False)\n",
       "                )\n",
       "                (dense): Linear(in_features=4096, out_features=4096, bias=False)\n",
       "              )\n",
       "              (post_attention_layernorm): RMSNorm()\n",
       "              (mlp): MLP(\n",
       "                (dense_h_to_4h): Linear(in_features=4096, out_features=27392, bias=False)\n",
       "                (dense_4h_to_h): Linear(in_features=13696, out_features=4096, bias=False)\n",
       "              )\n",
       "            )\n",
       "          )\n",
       "          (final_layernorm): RMSNorm()\n",
       "        )\n",
       "        (output_layer): Linear(in_features=4096, out_features=65024, bias=False)\n",
       "      )\n",
       "    )\n",
       "  )\n",
       ")"
      ]
     },
     "execution_count": 12,
     "metadata": {},
     "output_type": "execute_result"
    }
   ],
   "source": [
    "model = get_peft_model(model, config)\n",
    "model"
   ]
  },
  {
   "cell_type": "code",
   "execution_count": 13,
   "metadata": {},
   "outputs": [
    {
     "name": "stdout",
     "output_type": "stream",
     "text": [
      "trainable params: 1,949,696 || all params: 6,245,533,696 || trainable%: 0.0312\n"
     ]
    }
   ],
   "source": [
    "# 打印出模型中可训练参数的数量\n",
    "model.print_trainable_parameters()"
   ]
  },
  {
   "cell_type": "code",
   "execution_count": 14,
   "metadata": {
    "tags": []
   },
   "outputs": [
    {
     "name": "stdout",
     "output_type": "stream",
     "text": [
      "base_model.model.transformer.embedding.word_embeddings.weight torch.Size([65024, 4096]) torch.float16\n",
      "base_model.model.transformer.encoder.layers.0.input_layernorm.weight torch.Size([4096]) torch.float16\n",
      "base_model.model.transformer.encoder.layers.0.self_attention.query_key_value.base_layer.weight torch.Size([4608, 4096]) torch.float16\n",
      "base_model.model.transformer.encoder.layers.0.self_attention.query_key_value.base_layer.bias torch.Size([4608]) torch.float16\n",
      "base_model.model.transformer.encoder.layers.0.self_attention.query_key_value.lora_A.default.weight torch.Size([8, 4096]) torch.float32\n",
      "base_model.model.transformer.encoder.layers.0.self_attention.query_key_value.lora_B.default.weight torch.Size([4608, 8]) torch.float32\n",
      "base_model.model.transformer.encoder.layers.0.self_attention.dense.weight torch.Size([4096, 4096]) torch.float16\n",
      "base_model.model.transformer.encoder.layers.0.post_attention_layernorm.weight torch.Size([4096]) torch.float16\n",
      "base_model.model.transformer.encoder.layers.0.mlp.dense_h_to_4h.weight torch.Size([27392, 4096]) torch.float16\n",
      "base_model.model.transformer.encoder.layers.0.mlp.dense_4h_to_h.weight torch.Size([4096, 13696]) torch.float16\n",
      "base_model.model.transformer.encoder.layers.1.input_layernorm.weight torch.Size([4096]) torch.float16\n",
      "base_model.model.transformer.encoder.layers.1.self_attention.query_key_value.base_layer.weight torch.Size([4608, 4096]) torch.float16\n",
      "base_model.model.transformer.encoder.layers.1.self_attention.query_key_value.base_layer.bias torch.Size([4608]) torch.float16\n",
      "base_model.model.transformer.encoder.layers.1.self_attention.query_key_value.lora_A.default.weight torch.Size([8, 4096]) torch.float32\n",
      "base_model.model.transformer.encoder.layers.1.self_attention.query_key_value.lora_B.default.weight torch.Size([4608, 8]) torch.float32\n",
      "base_model.model.transformer.encoder.layers.1.self_attention.dense.weight torch.Size([4096, 4096]) torch.float16\n",
      "base_model.model.transformer.encoder.layers.1.post_attention_layernorm.weight torch.Size([4096]) torch.float16\n",
      "base_model.model.transformer.encoder.layers.1.mlp.dense_h_to_4h.weight torch.Size([27392, 4096]) torch.float16\n",
      "base_model.model.transformer.encoder.layers.1.mlp.dense_4h_to_h.weight torch.Size([4096, 13696]) torch.float16\n",
      "base_model.model.transformer.encoder.layers.2.input_layernorm.weight torch.Size([4096]) torch.float16\n",
      "base_model.model.transformer.encoder.layers.2.self_attention.query_key_value.base_layer.weight torch.Size([4608, 4096]) torch.float16\n",
      "base_model.model.transformer.encoder.layers.2.self_attention.query_key_value.base_layer.bias torch.Size([4608]) torch.float16\n",
      "base_model.model.transformer.encoder.layers.2.self_attention.query_key_value.lora_A.default.weight torch.Size([8, 4096]) torch.float32\n",
      "base_model.model.transformer.encoder.layers.2.self_attention.query_key_value.lora_B.default.weight torch.Size([4608, 8]) torch.float32\n",
      "base_model.model.transformer.encoder.layers.2.self_attention.dense.weight torch.Size([4096, 4096]) torch.float16\n",
      "base_model.model.transformer.encoder.layers.2.post_attention_layernorm.weight torch.Size([4096]) torch.float16\n",
      "base_model.model.transformer.encoder.layers.2.mlp.dense_h_to_4h.weight torch.Size([27392, 4096]) torch.float16\n",
      "base_model.model.transformer.encoder.layers.2.mlp.dense_4h_to_h.weight torch.Size([4096, 13696]) torch.float16\n",
      "base_model.model.transformer.encoder.layers.3.input_layernorm.weight torch.Size([4096]) torch.float16\n",
      "base_model.model.transformer.encoder.layers.3.self_attention.query_key_value.base_layer.weight torch.Size([4608, 4096]) torch.float16\n",
      "base_model.model.transformer.encoder.layers.3.self_attention.query_key_value.base_layer.bias torch.Size([4608]) torch.float16\n",
      "base_model.model.transformer.encoder.layers.3.self_attention.query_key_value.lora_A.default.weight torch.Size([8, 4096]) torch.float32\n",
      "base_model.model.transformer.encoder.layers.3.self_attention.query_key_value.lora_B.default.weight torch.Size([4608, 8]) torch.float32\n",
      "base_model.model.transformer.encoder.layers.3.self_attention.dense.weight torch.Size([4096, 4096]) torch.float16\n",
      "base_model.model.transformer.encoder.layers.3.post_attention_layernorm.weight torch.Size([4096]) torch.float16\n",
      "base_model.model.transformer.encoder.layers.3.mlp.dense_h_to_4h.weight torch.Size([27392, 4096]) torch.float16\n",
      "base_model.model.transformer.encoder.layers.3.mlp.dense_4h_to_h.weight torch.Size([4096, 13696]) torch.float16\n",
      "base_model.model.transformer.encoder.layers.4.input_layernorm.weight torch.Size([4096]) torch.float16\n",
      "base_model.model.transformer.encoder.layers.4.self_attention.query_key_value.base_layer.weight torch.Size([4608, 4096]) torch.float16\n",
      "base_model.model.transformer.encoder.layers.4.self_attention.query_key_value.base_layer.bias torch.Size([4608]) torch.float16\n",
      "base_model.model.transformer.encoder.layers.4.self_attention.query_key_value.lora_A.default.weight torch.Size([8, 4096]) torch.float32\n",
      "base_model.model.transformer.encoder.layers.4.self_attention.query_key_value.lora_B.default.weight torch.Size([4608, 8]) torch.float32\n",
      "base_model.model.transformer.encoder.layers.4.self_attention.dense.weight torch.Size([4096, 4096]) torch.float16\n",
      "base_model.model.transformer.encoder.layers.4.post_attention_layernorm.weight torch.Size([4096]) torch.float16\n",
      "base_model.model.transformer.encoder.layers.4.mlp.dense_h_to_4h.weight torch.Size([27392, 4096]) torch.float16\n",
      "base_model.model.transformer.encoder.layers.4.mlp.dense_4h_to_h.weight torch.Size([4096, 13696]) torch.float16\n",
      "base_model.model.transformer.encoder.layers.5.input_layernorm.weight torch.Size([4096]) torch.float16\n",
      "base_model.model.transformer.encoder.layers.5.self_attention.query_key_value.base_layer.weight torch.Size([4608, 4096]) torch.float16\n",
      "base_model.model.transformer.encoder.layers.5.self_attention.query_key_value.base_layer.bias torch.Size([4608]) torch.float16\n",
      "base_model.model.transformer.encoder.layers.5.self_attention.query_key_value.lora_A.default.weight torch.Size([8, 4096]) torch.float32\n",
      "base_model.model.transformer.encoder.layers.5.self_attention.query_key_value.lora_B.default.weight torch.Size([4608, 8]) torch.float32\n",
      "base_model.model.transformer.encoder.layers.5.self_attention.dense.weight torch.Size([4096, 4096]) torch.float16\n",
      "base_model.model.transformer.encoder.layers.5.post_attention_layernorm.weight torch.Size([4096]) torch.float16\n",
      "base_model.model.transformer.encoder.layers.5.mlp.dense_h_to_4h.weight torch.Size([27392, 4096]) torch.float16\n",
      "base_model.model.transformer.encoder.layers.5.mlp.dense_4h_to_h.weight torch.Size([4096, 13696]) torch.float16\n",
      "base_model.model.transformer.encoder.layers.6.input_layernorm.weight torch.Size([4096]) torch.float16\n",
      "base_model.model.transformer.encoder.layers.6.self_attention.query_key_value.base_layer.weight torch.Size([4608, 4096]) torch.float16\n",
      "base_model.model.transformer.encoder.layers.6.self_attention.query_key_value.base_layer.bias torch.Size([4608]) torch.float16\n",
      "base_model.model.transformer.encoder.layers.6.self_attention.query_key_value.lora_A.default.weight torch.Size([8, 4096]) torch.float32\n",
      "base_model.model.transformer.encoder.layers.6.self_attention.query_key_value.lora_B.default.weight torch.Size([4608, 8]) torch.float32\n",
      "base_model.model.transformer.encoder.layers.6.self_attention.dense.weight torch.Size([4096, 4096]) torch.float16\n",
      "base_model.model.transformer.encoder.layers.6.post_attention_layernorm.weight torch.Size([4096]) torch.float16\n",
      "base_model.model.transformer.encoder.layers.6.mlp.dense_h_to_4h.weight torch.Size([27392, 4096]) torch.float16\n",
      "base_model.model.transformer.encoder.layers.6.mlp.dense_4h_to_h.weight torch.Size([4096, 13696]) torch.float16\n",
      "base_model.model.transformer.encoder.layers.7.input_layernorm.weight torch.Size([4096]) torch.float16\n",
      "base_model.model.transformer.encoder.layers.7.self_attention.query_key_value.base_layer.weight torch.Size([4608, 4096]) torch.float16\n",
      "base_model.model.transformer.encoder.layers.7.self_attention.query_key_value.base_layer.bias torch.Size([4608]) torch.float16\n",
      "base_model.model.transformer.encoder.layers.7.self_attention.query_key_value.lora_A.default.weight torch.Size([8, 4096]) torch.float32\n",
      "base_model.model.transformer.encoder.layers.7.self_attention.query_key_value.lora_B.default.weight torch.Size([4608, 8]) torch.float32\n",
      "base_model.model.transformer.encoder.layers.7.self_attention.dense.weight torch.Size([4096, 4096]) torch.float16\n",
      "base_model.model.transformer.encoder.layers.7.post_attention_layernorm.weight torch.Size([4096]) torch.float16\n",
      "base_model.model.transformer.encoder.layers.7.mlp.dense_h_to_4h.weight torch.Size([27392, 4096]) torch.float16\n",
      "base_model.model.transformer.encoder.layers.7.mlp.dense_4h_to_h.weight torch.Size([4096, 13696]) torch.float16\n",
      "base_model.model.transformer.encoder.layers.8.input_layernorm.weight torch.Size([4096]) torch.float16\n",
      "base_model.model.transformer.encoder.layers.8.self_attention.query_key_value.base_layer.weight torch.Size([4608, 4096]) torch.float16\n",
      "base_model.model.transformer.encoder.layers.8.self_attention.query_key_value.base_layer.bias torch.Size([4608]) torch.float16\n",
      "base_model.model.transformer.encoder.layers.8.self_attention.query_key_value.lora_A.default.weight torch.Size([8, 4096]) torch.float32\n",
      "base_model.model.transformer.encoder.layers.8.self_attention.query_key_value.lora_B.default.weight torch.Size([4608, 8]) torch.float32\n",
      "base_model.model.transformer.encoder.layers.8.self_attention.dense.weight torch.Size([4096, 4096]) torch.float16\n",
      "base_model.model.transformer.encoder.layers.8.post_attention_layernorm.weight torch.Size([4096]) torch.float16\n",
      "base_model.model.transformer.encoder.layers.8.mlp.dense_h_to_4h.weight torch.Size([27392, 4096]) torch.float16\n",
      "base_model.model.transformer.encoder.layers.8.mlp.dense_4h_to_h.weight torch.Size([4096, 13696]) torch.float16\n",
      "base_model.model.transformer.encoder.layers.9.input_layernorm.weight torch.Size([4096]) torch.float16\n",
      "base_model.model.transformer.encoder.layers.9.self_attention.query_key_value.base_layer.weight torch.Size([4608, 4096]) torch.float16\n",
      "base_model.model.transformer.encoder.layers.9.self_attention.query_key_value.base_layer.bias torch.Size([4608]) torch.float16\n",
      "base_model.model.transformer.encoder.layers.9.self_attention.query_key_value.lora_A.default.weight torch.Size([8, 4096]) torch.float32\n",
      "base_model.model.transformer.encoder.layers.9.self_attention.query_key_value.lora_B.default.weight torch.Size([4608, 8]) torch.float32\n",
      "base_model.model.transformer.encoder.layers.9.self_attention.dense.weight torch.Size([4096, 4096]) torch.float16\n",
      "base_model.model.transformer.encoder.layers.9.post_attention_layernorm.weight torch.Size([4096]) torch.float16\n",
      "base_model.model.transformer.encoder.layers.9.mlp.dense_h_to_4h.weight torch.Size([27392, 4096]) torch.float16\n",
      "base_model.model.transformer.encoder.layers.9.mlp.dense_4h_to_h.weight torch.Size([4096, 13696]) torch.float16\n",
      "base_model.model.transformer.encoder.layers.10.input_layernorm.weight torch.Size([4096]) torch.float16\n",
      "base_model.model.transformer.encoder.layers.10.self_attention.query_key_value.base_layer.weight torch.Size([4608, 4096]) torch.float16\n",
      "base_model.model.transformer.encoder.layers.10.self_attention.query_key_value.base_layer.bias torch.Size([4608]) torch.float16\n",
      "base_model.model.transformer.encoder.layers.10.self_attention.query_key_value.lora_A.default.weight torch.Size([8, 4096]) torch.float32\n",
      "base_model.model.transformer.encoder.layers.10.self_attention.query_key_value.lora_B.default.weight torch.Size([4608, 8]) torch.float32\n",
      "base_model.model.transformer.encoder.layers.10.self_attention.dense.weight torch.Size([4096, 4096]) torch.float16\n",
      "base_model.model.transformer.encoder.layers.10.post_attention_layernorm.weight torch.Size([4096]) torch.float16\n",
      "base_model.model.transformer.encoder.layers.10.mlp.dense_h_to_4h.weight torch.Size([27392, 4096]) torch.float16\n",
      "base_model.model.transformer.encoder.layers.10.mlp.dense_4h_to_h.weight torch.Size([4096, 13696]) torch.float16\n",
      "base_model.model.transformer.encoder.layers.11.input_layernorm.weight torch.Size([4096]) torch.float16\n",
      "base_model.model.transformer.encoder.layers.11.self_attention.query_key_value.base_layer.weight torch.Size([4608, 4096]) torch.float16\n",
      "base_model.model.transformer.encoder.layers.11.self_attention.query_key_value.base_layer.bias torch.Size([4608]) torch.float16\n",
      "base_model.model.transformer.encoder.layers.11.self_attention.query_key_value.lora_A.default.weight torch.Size([8, 4096]) torch.float32\n",
      "base_model.model.transformer.encoder.layers.11.self_attention.query_key_value.lora_B.default.weight torch.Size([4608, 8]) torch.float32\n",
      "base_model.model.transformer.encoder.layers.11.self_attention.dense.weight torch.Size([4096, 4096]) torch.float16\n",
      "base_model.model.transformer.encoder.layers.11.post_attention_layernorm.weight torch.Size([4096]) torch.float16\n",
      "base_model.model.transformer.encoder.layers.11.mlp.dense_h_to_4h.weight torch.Size([27392, 4096]) torch.float16\n",
      "base_model.model.transformer.encoder.layers.11.mlp.dense_4h_to_h.weight torch.Size([4096, 13696]) torch.float16\n",
      "base_model.model.transformer.encoder.layers.12.input_layernorm.weight torch.Size([4096]) torch.float16\n",
      "base_model.model.transformer.encoder.layers.12.self_attention.query_key_value.base_layer.weight torch.Size([4608, 4096]) torch.float16\n",
      "base_model.model.transformer.encoder.layers.12.self_attention.query_key_value.base_layer.bias torch.Size([4608]) torch.float16\n",
      "base_model.model.transformer.encoder.layers.12.self_attention.query_key_value.lora_A.default.weight torch.Size([8, 4096]) torch.float32\n",
      "base_model.model.transformer.encoder.layers.12.self_attention.query_key_value.lora_B.default.weight torch.Size([4608, 8]) torch.float32\n",
      "base_model.model.transformer.encoder.layers.12.self_attention.dense.weight torch.Size([4096, 4096]) torch.float16\n",
      "base_model.model.transformer.encoder.layers.12.post_attention_layernorm.weight torch.Size([4096]) torch.float16\n",
      "base_model.model.transformer.encoder.layers.12.mlp.dense_h_to_4h.weight torch.Size([27392, 4096]) torch.float16\n",
      "base_model.model.transformer.encoder.layers.12.mlp.dense_4h_to_h.weight torch.Size([4096, 13696]) torch.float16\n",
      "base_model.model.transformer.encoder.layers.13.input_layernorm.weight torch.Size([4096]) torch.float16\n",
      "base_model.model.transformer.encoder.layers.13.self_attention.query_key_value.base_layer.weight torch.Size([4608, 4096]) torch.float16\n",
      "base_model.model.transformer.encoder.layers.13.self_attention.query_key_value.base_layer.bias torch.Size([4608]) torch.float16\n",
      "base_model.model.transformer.encoder.layers.13.self_attention.query_key_value.lora_A.default.weight torch.Size([8, 4096]) torch.float32\n",
      "base_model.model.transformer.encoder.layers.13.self_attention.query_key_value.lora_B.default.weight torch.Size([4608, 8]) torch.float32\n",
      "base_model.model.transformer.encoder.layers.13.self_attention.dense.weight torch.Size([4096, 4096]) torch.float16\n",
      "base_model.model.transformer.encoder.layers.13.post_attention_layernorm.weight torch.Size([4096]) torch.float16\n",
      "base_model.model.transformer.encoder.layers.13.mlp.dense_h_to_4h.weight torch.Size([27392, 4096]) torch.float16\n",
      "base_model.model.transformer.encoder.layers.13.mlp.dense_4h_to_h.weight torch.Size([4096, 13696]) torch.float16\n",
      "base_model.model.transformer.encoder.layers.14.input_layernorm.weight torch.Size([4096]) torch.float16\n",
      "base_model.model.transformer.encoder.layers.14.self_attention.query_key_value.base_layer.weight torch.Size([4608, 4096]) torch.float16\n",
      "base_model.model.transformer.encoder.layers.14.self_attention.query_key_value.base_layer.bias torch.Size([4608]) torch.float16\n",
      "base_model.model.transformer.encoder.layers.14.self_attention.query_key_value.lora_A.default.weight torch.Size([8, 4096]) torch.float32\n",
      "base_model.model.transformer.encoder.layers.14.self_attention.query_key_value.lora_B.default.weight torch.Size([4608, 8]) torch.float32\n",
      "base_model.model.transformer.encoder.layers.14.self_attention.dense.weight torch.Size([4096, 4096]) torch.float16\n",
      "base_model.model.transformer.encoder.layers.14.post_attention_layernorm.weight torch.Size([4096]) torch.float16\n",
      "base_model.model.transformer.encoder.layers.14.mlp.dense_h_to_4h.weight torch.Size([27392, 4096]) torch.float16\n",
      "base_model.model.transformer.encoder.layers.14.mlp.dense_4h_to_h.weight torch.Size([4096, 13696]) torch.float16\n",
      "base_model.model.transformer.encoder.layers.15.input_layernorm.weight torch.Size([4096]) torch.float16\n",
      "base_model.model.transformer.encoder.layers.15.self_attention.query_key_value.base_layer.weight torch.Size([4608, 4096]) torch.float16\n",
      "base_model.model.transformer.encoder.layers.15.self_attention.query_key_value.base_layer.bias torch.Size([4608]) torch.float16\n",
      "base_model.model.transformer.encoder.layers.15.self_attention.query_key_value.lora_A.default.weight torch.Size([8, 4096]) torch.float32\n",
      "base_model.model.transformer.encoder.layers.15.self_attention.query_key_value.lora_B.default.weight torch.Size([4608, 8]) torch.float32\n",
      "base_model.model.transformer.encoder.layers.15.self_attention.dense.weight torch.Size([4096, 4096]) torch.float16\n",
      "base_model.model.transformer.encoder.layers.15.post_attention_layernorm.weight torch.Size([4096]) torch.float16\n",
      "base_model.model.transformer.encoder.layers.15.mlp.dense_h_to_4h.weight torch.Size([27392, 4096]) torch.float16\n",
      "base_model.model.transformer.encoder.layers.15.mlp.dense_4h_to_h.weight torch.Size([4096, 13696]) torch.float16\n",
      "base_model.model.transformer.encoder.layers.16.input_layernorm.weight torch.Size([4096]) torch.float16\n",
      "base_model.model.transformer.encoder.layers.16.self_attention.query_key_value.base_layer.weight torch.Size([4608, 4096]) torch.float16\n",
      "base_model.model.transformer.encoder.layers.16.self_attention.query_key_value.base_layer.bias torch.Size([4608]) torch.float16\n",
      "base_model.model.transformer.encoder.layers.16.self_attention.query_key_value.lora_A.default.weight torch.Size([8, 4096]) torch.float32\n",
      "base_model.model.transformer.encoder.layers.16.self_attention.query_key_value.lora_B.default.weight torch.Size([4608, 8]) torch.float32\n",
      "base_model.model.transformer.encoder.layers.16.self_attention.dense.weight torch.Size([4096, 4096]) torch.float16\n",
      "base_model.model.transformer.encoder.layers.16.post_attention_layernorm.weight torch.Size([4096]) torch.float16\n",
      "base_model.model.transformer.encoder.layers.16.mlp.dense_h_to_4h.weight torch.Size([27392, 4096]) torch.float16\n",
      "base_model.model.transformer.encoder.layers.16.mlp.dense_4h_to_h.weight torch.Size([4096, 13696]) torch.float16\n",
      "base_model.model.transformer.encoder.layers.17.input_layernorm.weight torch.Size([4096]) torch.float16\n",
      "base_model.model.transformer.encoder.layers.17.self_attention.query_key_value.base_layer.weight torch.Size([4608, 4096]) torch.float16\n",
      "base_model.model.transformer.encoder.layers.17.self_attention.query_key_value.base_layer.bias torch.Size([4608]) torch.float16\n",
      "base_model.model.transformer.encoder.layers.17.self_attention.query_key_value.lora_A.default.weight torch.Size([8, 4096]) torch.float32\n",
      "base_model.model.transformer.encoder.layers.17.self_attention.query_key_value.lora_B.default.weight torch.Size([4608, 8]) torch.float32\n",
      "base_model.model.transformer.encoder.layers.17.self_attention.dense.weight torch.Size([4096, 4096]) torch.float16\n",
      "base_model.model.transformer.encoder.layers.17.post_attention_layernorm.weight torch.Size([4096]) torch.float16\n",
      "base_model.model.transformer.encoder.layers.17.mlp.dense_h_to_4h.weight torch.Size([27392, 4096]) torch.float16\n",
      "base_model.model.transformer.encoder.layers.17.mlp.dense_4h_to_h.weight torch.Size([4096, 13696]) torch.float16\n",
      "base_model.model.transformer.encoder.layers.18.input_layernorm.weight torch.Size([4096]) torch.float16\n",
      "base_model.model.transformer.encoder.layers.18.self_attention.query_key_value.base_layer.weight torch.Size([4608, 4096]) torch.float16\n",
      "base_model.model.transformer.encoder.layers.18.self_attention.query_key_value.base_layer.bias torch.Size([4608]) torch.float16\n",
      "base_model.model.transformer.encoder.layers.18.self_attention.query_key_value.lora_A.default.weight torch.Size([8, 4096]) torch.float32\n",
      "base_model.model.transformer.encoder.layers.18.self_attention.query_key_value.lora_B.default.weight torch.Size([4608, 8]) torch.float32\n",
      "base_model.model.transformer.encoder.layers.18.self_attention.dense.weight torch.Size([4096, 4096]) torch.float16\n",
      "base_model.model.transformer.encoder.layers.18.post_attention_layernorm.weight torch.Size([4096]) torch.float16\n",
      "base_model.model.transformer.encoder.layers.18.mlp.dense_h_to_4h.weight torch.Size([27392, 4096]) torch.float16\n",
      "base_model.model.transformer.encoder.layers.18.mlp.dense_4h_to_h.weight torch.Size([4096, 13696]) torch.float16\n",
      "base_model.model.transformer.encoder.layers.19.input_layernorm.weight torch.Size([4096]) torch.float16\n",
      "base_model.model.transformer.encoder.layers.19.self_attention.query_key_value.base_layer.weight torch.Size([4608, 4096]) torch.float16\n",
      "base_model.model.transformer.encoder.layers.19.self_attention.query_key_value.base_layer.bias torch.Size([4608]) torch.float16\n",
      "base_model.model.transformer.encoder.layers.19.self_attention.query_key_value.lora_A.default.weight torch.Size([8, 4096]) torch.float32\n",
      "base_model.model.transformer.encoder.layers.19.self_attention.query_key_value.lora_B.default.weight torch.Size([4608, 8]) torch.float32\n",
      "base_model.model.transformer.encoder.layers.19.self_attention.dense.weight torch.Size([4096, 4096]) torch.float16\n",
      "base_model.model.transformer.encoder.layers.19.post_attention_layernorm.weight torch.Size([4096]) torch.float16\n",
      "base_model.model.transformer.encoder.layers.19.mlp.dense_h_to_4h.weight torch.Size([27392, 4096]) torch.float16\n",
      "base_model.model.transformer.encoder.layers.19.mlp.dense_4h_to_h.weight torch.Size([4096, 13696]) torch.float16\n",
      "base_model.model.transformer.encoder.layers.20.input_layernorm.weight torch.Size([4096]) torch.float16\n",
      "base_model.model.transformer.encoder.layers.20.self_attention.query_key_value.base_layer.weight torch.Size([4608, 4096]) torch.float16\n",
      "base_model.model.transformer.encoder.layers.20.self_attention.query_key_value.base_layer.bias torch.Size([4608]) torch.float16\n",
      "base_model.model.transformer.encoder.layers.20.self_attention.query_key_value.lora_A.default.weight torch.Size([8, 4096]) torch.float32\n",
      "base_model.model.transformer.encoder.layers.20.self_attention.query_key_value.lora_B.default.weight torch.Size([4608, 8]) torch.float32\n",
      "base_model.model.transformer.encoder.layers.20.self_attention.dense.weight torch.Size([4096, 4096]) torch.float16\n",
      "base_model.model.transformer.encoder.layers.20.post_attention_layernorm.weight torch.Size([4096]) torch.float16\n",
      "base_model.model.transformer.encoder.layers.20.mlp.dense_h_to_4h.weight torch.Size([27392, 4096]) torch.float16\n",
      "base_model.model.transformer.encoder.layers.20.mlp.dense_4h_to_h.weight torch.Size([4096, 13696]) torch.float16\n",
      "base_model.model.transformer.encoder.layers.21.input_layernorm.weight torch.Size([4096]) torch.float16\n",
      "base_model.model.transformer.encoder.layers.21.self_attention.query_key_value.base_layer.weight torch.Size([4608, 4096]) torch.float16\n",
      "base_model.model.transformer.encoder.layers.21.self_attention.query_key_value.base_layer.bias torch.Size([4608]) torch.float16\n",
      "base_model.model.transformer.encoder.layers.21.self_attention.query_key_value.lora_A.default.weight torch.Size([8, 4096]) torch.float32\n",
      "base_model.model.transformer.encoder.layers.21.self_attention.query_key_value.lora_B.default.weight torch.Size([4608, 8]) torch.float32\n",
      "base_model.model.transformer.encoder.layers.21.self_attention.dense.weight torch.Size([4096, 4096]) torch.float16\n",
      "base_model.model.transformer.encoder.layers.21.post_attention_layernorm.weight torch.Size([4096]) torch.float16\n",
      "base_model.model.transformer.encoder.layers.21.mlp.dense_h_to_4h.weight torch.Size([27392, 4096]) torch.float16\n",
      "base_model.model.transformer.encoder.layers.21.mlp.dense_4h_to_h.weight torch.Size([4096, 13696]) torch.float16\n",
      "base_model.model.transformer.encoder.layers.22.input_layernorm.weight torch.Size([4096]) torch.float16\n",
      "base_model.model.transformer.encoder.layers.22.self_attention.query_key_value.base_layer.weight torch.Size([4608, 4096]) torch.float16\n",
      "base_model.model.transformer.encoder.layers.22.self_attention.query_key_value.base_layer.bias torch.Size([4608]) torch.float16\n",
      "base_model.model.transformer.encoder.layers.22.self_attention.query_key_value.lora_A.default.weight torch.Size([8, 4096]) torch.float32\n",
      "base_model.model.transformer.encoder.layers.22.self_attention.query_key_value.lora_B.default.weight torch.Size([4608, 8]) torch.float32\n",
      "base_model.model.transformer.encoder.layers.22.self_attention.dense.weight torch.Size([4096, 4096]) torch.float16\n",
      "base_model.model.transformer.encoder.layers.22.post_attention_layernorm.weight torch.Size([4096]) torch.float16\n",
      "base_model.model.transformer.encoder.layers.22.mlp.dense_h_to_4h.weight torch.Size([27392, 4096]) torch.float16\n",
      "base_model.model.transformer.encoder.layers.22.mlp.dense_4h_to_h.weight torch.Size([4096, 13696]) torch.float16\n",
      "base_model.model.transformer.encoder.layers.23.input_layernorm.weight torch.Size([4096]) torch.float16\n",
      "base_model.model.transformer.encoder.layers.23.self_attention.query_key_value.base_layer.weight torch.Size([4608, 4096]) torch.float16\n",
      "base_model.model.transformer.encoder.layers.23.self_attention.query_key_value.base_layer.bias torch.Size([4608]) torch.float16\n",
      "base_model.model.transformer.encoder.layers.23.self_attention.query_key_value.lora_A.default.weight torch.Size([8, 4096]) torch.float32\n",
      "base_model.model.transformer.encoder.layers.23.self_attention.query_key_value.lora_B.default.weight torch.Size([4608, 8]) torch.float32\n",
      "base_model.model.transformer.encoder.layers.23.self_attention.dense.weight torch.Size([4096, 4096]) torch.float16\n",
      "base_model.model.transformer.encoder.layers.23.post_attention_layernorm.weight torch.Size([4096]) torch.float16\n",
      "base_model.model.transformer.encoder.layers.23.mlp.dense_h_to_4h.weight torch.Size([27392, 4096]) torch.float16\n",
      "base_model.model.transformer.encoder.layers.23.mlp.dense_4h_to_h.weight torch.Size([4096, 13696]) torch.float16\n",
      "base_model.model.transformer.encoder.layers.24.input_layernorm.weight torch.Size([4096]) torch.float16\n",
      "base_model.model.transformer.encoder.layers.24.self_attention.query_key_value.base_layer.weight torch.Size([4608, 4096]) torch.float16\n",
      "base_model.model.transformer.encoder.layers.24.self_attention.query_key_value.base_layer.bias torch.Size([4608]) torch.float16\n",
      "base_model.model.transformer.encoder.layers.24.self_attention.query_key_value.lora_A.default.weight torch.Size([8, 4096]) torch.float32\n",
      "base_model.model.transformer.encoder.layers.24.self_attention.query_key_value.lora_B.default.weight torch.Size([4608, 8]) torch.float32\n",
      "base_model.model.transformer.encoder.layers.24.self_attention.dense.weight torch.Size([4096, 4096]) torch.float16\n",
      "base_model.model.transformer.encoder.layers.24.post_attention_layernorm.weight torch.Size([4096]) torch.float16\n",
      "base_model.model.transformer.encoder.layers.24.mlp.dense_h_to_4h.weight torch.Size([27392, 4096]) torch.float16\n",
      "base_model.model.transformer.encoder.layers.24.mlp.dense_4h_to_h.weight torch.Size([4096, 13696]) torch.float16\n",
      "base_model.model.transformer.encoder.layers.25.input_layernorm.weight torch.Size([4096]) torch.float16\n",
      "base_model.model.transformer.encoder.layers.25.self_attention.query_key_value.base_layer.weight torch.Size([4608, 4096]) torch.float16\n",
      "base_model.model.transformer.encoder.layers.25.self_attention.query_key_value.base_layer.bias torch.Size([4608]) torch.float16\n",
      "base_model.model.transformer.encoder.layers.25.self_attention.query_key_value.lora_A.default.weight torch.Size([8, 4096]) torch.float32\n",
      "base_model.model.transformer.encoder.layers.25.self_attention.query_key_value.lora_B.default.weight torch.Size([4608, 8]) torch.float32\n",
      "base_model.model.transformer.encoder.layers.25.self_attention.dense.weight torch.Size([4096, 4096]) torch.float16\n",
      "base_model.model.transformer.encoder.layers.25.post_attention_layernorm.weight torch.Size([4096]) torch.float16\n",
      "base_model.model.transformer.encoder.layers.25.mlp.dense_h_to_4h.weight torch.Size([27392, 4096]) torch.float16\n",
      "base_model.model.transformer.encoder.layers.25.mlp.dense_4h_to_h.weight torch.Size([4096, 13696]) torch.float16\n",
      "base_model.model.transformer.encoder.layers.26.input_layernorm.weight torch.Size([4096]) torch.float16\n",
      "base_model.model.transformer.encoder.layers.26.self_attention.query_key_value.base_layer.weight torch.Size([4608, 4096]) torch.float16\n",
      "base_model.model.transformer.encoder.layers.26.self_attention.query_key_value.base_layer.bias torch.Size([4608]) torch.float16\n",
      "base_model.model.transformer.encoder.layers.26.self_attention.query_key_value.lora_A.default.weight torch.Size([8, 4096]) torch.float32\n",
      "base_model.model.transformer.encoder.layers.26.self_attention.query_key_value.lora_B.default.weight torch.Size([4608, 8]) torch.float32\n",
      "base_model.model.transformer.encoder.layers.26.self_attention.dense.weight torch.Size([4096, 4096]) torch.float16\n",
      "base_model.model.transformer.encoder.layers.26.post_attention_layernorm.weight torch.Size([4096]) torch.float16\n",
      "base_model.model.transformer.encoder.layers.26.mlp.dense_h_to_4h.weight torch.Size([27392, 4096]) torch.float16\n",
      "base_model.model.transformer.encoder.layers.26.mlp.dense_4h_to_h.weight torch.Size([4096, 13696]) torch.float16\n",
      "base_model.model.transformer.encoder.layers.27.input_layernorm.weight torch.Size([4096]) torch.float16\n",
      "base_model.model.transformer.encoder.layers.27.self_attention.query_key_value.base_layer.weight torch.Size([4608, 4096]) torch.float16\n",
      "base_model.model.transformer.encoder.layers.27.self_attention.query_key_value.base_layer.bias torch.Size([4608]) torch.float16\n",
      "base_model.model.transformer.encoder.layers.27.self_attention.query_key_value.lora_A.default.weight torch.Size([8, 4096]) torch.float32\n",
      "base_model.model.transformer.encoder.layers.27.self_attention.query_key_value.lora_B.default.weight torch.Size([4608, 8]) torch.float32\n",
      "base_model.model.transformer.encoder.layers.27.self_attention.dense.weight torch.Size([4096, 4096]) torch.float16\n",
      "base_model.model.transformer.encoder.layers.27.post_attention_layernorm.weight torch.Size([4096]) torch.float16\n",
      "base_model.model.transformer.encoder.layers.27.mlp.dense_h_to_4h.weight torch.Size([27392, 4096]) torch.float16\n",
      "base_model.model.transformer.encoder.layers.27.mlp.dense_4h_to_h.weight torch.Size([4096, 13696]) torch.float16\n",
      "base_model.model.transformer.encoder.final_layernorm.weight torch.Size([4096]) torch.float16\n",
      "base_model.model.transformer.output_layer.weight torch.Size([65024, 4096]) torch.float16\n"
     ]
    }
   ],
   "source": [
    "# 查看模型参数，查看LoRA层添加到哪\n",
    "for name, param in model.named_parameters():\n",
    "    print(name, param.shape, param.dtype)"
   ]
  },
  {
   "cell_type": "markdown",
   "metadata": {},
   "source": [
    "## 步骤5 配置训练参数"
   ]
  },
  {
   "cell_type": "code",
   "execution_count": 15,
   "metadata": {},
   "outputs": [],
   "source": [
    "args = TrainingArguments(\n",
    "    output_dir=train_output_dir, #输出目录，用于存储模型和日志文件。\n",
    "    per_device_train_batch_size=6, # 每个设备的训练批次大小，即每个设备每次处理的数据量，批次越大，训练时需要资源越多\n",
    "    gradient_accumulation_steps=16, # 指定梯度累积步数。用于控制梯度更新的频率。在每个累积步中，模型会计算多个批次的梯度，然后一次性更新权重。这可以减少内存占用并提高训练速度。在本例子中，每16个步骤进行一次梯度更新。\n",
    "    logging_steps=10, #日志记录步数，用于控制每隔多少步记录一次训练日志。\n",
    "    num_train_epochs=1, #训练轮数，即模型在整个训练集上进行迭代的次数。正常情况会训练很多轮\n",
    "    learning_rate=1e-4, #学习率，控制模型参数更新的速度。较小的学习率会使模型收敛得更快，但可能需要更多的训练轮数\n",
    "    adam_epsilon=1e-4, #Adam优化器的epsilon值，用于防止除以零的情况。\n",
    "    remove_unused_columns=False, #是否移除未使用的列，如果设置为False，则保留所有列，否则只保留模型所需的列。\n",
    "    max_steps=100  # 为节省时间，设置最大步数为 100\n",
    ")"
   ]
  },
  {
   "cell_type": "markdown",
   "metadata": {},
   "source": [
    "## 步骤6 创建训练器"
   ]
  },
  {
   "cell_type": "code",
   "execution_count": 16,
   "metadata": {},
   "outputs": [
    {
     "name": "stderr",
     "output_type": "stream",
     "text": [
      "max_steps is given, it will override any value given in num_train_epochs\n"
     ]
    }
   ],
   "source": [
    "trainer = Trainer(\n",
    "    model=model,\n",
    "    args=args,\n",
    "    train_dataset=tokenized_ds,\n",
    "    data_collator=DataCollatorForSeq2Seq(tokenizer=tokenizer, padding=True),\n",
    ")"
   ]
  },
  {
   "cell_type": "markdown",
   "metadata": {},
   "source": [
    "## 步骤7 模型训练"
   ]
  },
  {
   "cell_type": "code",
   "execution_count": 17,
   "metadata": {},
   "outputs": [
    {
     "name": "stdout",
     "output_type": "stream",
     "text": [
      "[2024-09-03 10:02:33,488] [INFO] [real_accelerator.py:191:get_accelerator] Setting ds_accelerator to cuda (auto detect)\n"
     ]
    },
    {
     "data": {
      "text/html": [
       "\n",
       "    <div>\n",
       "      \n",
       "      <progress value='100' max='100' style='width:300px; height:20px; vertical-align: middle;'></progress>\n",
       "      [100/100 27:05, Epoch 0/1]\n",
       "    </div>\n",
       "    <table border=\"1\" class=\"dataframe\">\n",
       "  <thead>\n",
       " <tr style=\"text-align: left;\">\n",
       "      <th>Step</th>\n",
       "      <th>Training Loss</th>\n",
       "    </tr>\n",
       "  </thead>\n",
       "  <tbody>\n",
       "    <tr>\n",
       "      <td>10</td>\n",
       "      <td>1.613900</td>\n",
       "    </tr>\n",
       "    <tr>\n",
       "      <td>20</td>\n",
       "      <td>1.648300</td>\n",
       "    </tr>\n",
       "    <tr>\n",
       "      <td>30</td>\n",
       "      <td>1.611100</td>\n",
       "    </tr>\n",
       "    <tr>\n",
       "      <td>40</td>\n",
       "      <td>1.594400</td>\n",
       "    </tr>\n",
       "    <tr>\n",
       "      <td>50</td>\n",
       "      <td>1.579700</td>\n",
       "    </tr>\n",
       "    <tr>\n",
       "      <td>60</td>\n",
       "      <td>1.585000</td>\n",
       "    </tr>\n",
       "    <tr>\n",
       "      <td>70</td>\n",
       "      <td>1.586900</td>\n",
       "    </tr>\n",
       "    <tr>\n",
       "      <td>80</td>\n",
       "      <td>1.558600</td>\n",
       "    </tr>\n",
       "    <tr>\n",
       "      <td>90</td>\n",
       "      <td>1.551800</td>\n",
       "    </tr>\n",
       "    <tr>\n",
       "      <td>100</td>\n",
       "      <td>1.543400</td>\n",
       "    </tr>\n",
       "  </tbody>\n",
       "</table><p>"
      ],
      "text/plain": [
       "<IPython.core.display.HTML object>"
      ]
     },
     "metadata": {},
     "output_type": "display_data"
    },
    {
     "data": {
      "text/plain": [
       "TrainOutput(global_step=100, training_loss=1.587314453125, metrics={'train_runtime': 1643.088, 'train_samples_per_second': 5.843, 'train_steps_per_second': 0.061, 'total_flos': 8.422256362320691e+16, 'train_loss': 1.587314453125, 'epoch': 0.19663266560157305})"
      ]
     },
     "execution_count": 17,
     "metadata": {},
     "output_type": "execute_result"
    }
   ],
   "source": [
    "trainer.train()"
   ]
  },
  {
   "cell_type": "markdown",
   "metadata": {},
   "source": [
    "```bash\n",
    "+---------------------------------------------------------------------------------------+\n",
    "| NVIDIA-SMI 535.104.05             Driver Version: 535.104.05   CUDA Version: 12.2     |\n",
    "|-----------------------------------------+----------------------+----------------------+\n",
    "| GPU  Name                 Persistence-M | Bus-Id        Disp.A | Volatile Uncorr. ECC |\n",
    "| Fan  Temp   Perf          Pwr:Usage/Cap |         Memory-Usage | GPU-Util  Compute M. |\n",
    "|                                         |                      |               MIG M. |\n",
    "|=========================================+======================+======================|\n",
    "|   0  NVIDIA GeForce RTX 4090        On  | 00000000:31:00.0 Off |                  Off |\n",
    "| 35%   62C    P2             297W / 450W |  19917MiB / 24564MiB |    100%      Default |\n",
    "|                                         |                      |                  N/A |\n",
    "+-----------------------------------------+----------------------+----------------------+\n",
    "\n",
    "+---------------------------------------------------------------------------------------+\n",
    "| Processes:                                                                            |\n",
    "|  GPU   GI   CI        PID   Type   Process name                            GPU Memory |\n",
    "|        ID   ID                                                             Usage      |\n",
    "|=======================================================================================|\n",
    "+---------------------------------------------------------------------------------------+\n",
    "```"
   ]
  },
  {
   "cell_type": "markdown",
   "metadata": {},
   "source": [
    "## 步骤8 模型推理"
   ]
  },
  {
   "cell_type": "code",
   "execution_count": null,
   "metadata": {},
   "outputs": [],
   "source": [
    "# 保存模型及训练状态\n",
    "trainer.save_model(train_output_dir)\n",
    "# 保持模型处于评估状态\n",
    "model.eval()"
   ]
  },
  {
   "cell_type": "code",
   "execution_count": null,
   "metadata": {},
   "outputs": [],
   "source": [
    "# 模型推理\n",
    "model.chat(tokenizer, \"如何写简历？\", history=[])[0]"
   ]
  },
  {
   "cell_type": "code",
   "execution_count": null,
   "metadata": {},
   "outputs": [],
   "source": []
  }
 ],
 "metadata": {
  "kernelspec": {
   "display_name": "transformers",
   "language": "python",
   "name": "python3"
  },
  "language_info": {
   "codemirror_mode": {
    "name": "ipython",
    "version": 3
   },
   "file_extension": ".py",
   "mimetype": "text/x-python",
   "name": "python",
   "nbconvert_exporter": "python",
   "pygments_lexer": "ipython3",
   "version": "3.11.9"
  }
 },
 "nbformat": 4,
 "nbformat_minor": 4
}
