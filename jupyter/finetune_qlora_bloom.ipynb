{
 "cells": [
  {
   "cell_type": "markdown",
   "metadata": {},
   "source": [
    "# 大语言模型预训练-微调技术之QLoRA"
   ]
  },
  {
   "cell_type": "markdown",
   "metadata": {},
   "source": [
    "## 步骤1 导入相关包"
   ]
  },
  {
   "cell_type": "code",
   "execution_count": 1,
   "metadata": {},
   "outputs": [],
   "source": [
    "from datasets import load_dataset\n",
    "from transformers import AutoTokenizer, AutoModelForCausalLM, DataCollatorForSeq2Seq, TrainingArguments, Trainer"
   ]
  },
  {
   "cell_type": "markdown",
   "metadata": {},
   "source": [
    "## 步骤2 加载数据集"
   ]
  },
  {
   "cell_type": "code",
   "execution_count": 2,
   "metadata": {},
   "outputs": [
    {
     "data": {
      "text/plain": [
       "Dataset({\n",
       "    features: ['instruction', 'input', 'output'],\n",
       "    num_rows: 48818\n",
       "})"
      ]
     },
     "execution_count": 2,
     "metadata": {},
     "output_type": "execute_result"
    }
   ],
   "source": [
    "ds = load_dataset(\"llm-wizard/alpaca-gpt4-data-zh\",split='train')\n",
    "ds"
   ]
  },
  {
   "cell_type": "code",
   "execution_count": 3,
   "metadata": {},
   "outputs": [
    {
     "data": {
      "text/plain": [
       "{'instruction': ['保持健康的三个提示。'],\n",
       " 'input': [''],\n",
       " 'output': ['以下是保持健康的三个提示：\\n\\n1. 保持身体活动。每天做适当的身体运动，如散步、跑步或游泳，能促进心血管健康，增强肌肉力量，并有助于减少体重。\\n\\n2. 均衡饮食。每天食用新鲜的蔬菜、水果、全谷物和脂肪含量低的蛋白质食物，避免高糖、高脂肪和加工食品，以保持健康的饮食习惯。\\n\\n3. 睡眠充足。睡眠对人体健康至关重要，成年人每天应保证 7-8 小时的睡眠。良好的睡眠有助于减轻压力，促进身体恢复，并提高注意力和记忆力。']}"
      ]
     },
     "execution_count": 3,
     "metadata": {},
     "output_type": "execute_result"
    }
   ],
   "source": [
    "ds[:1]"
   ]
  },
  {
   "cell_type": "markdown",
   "metadata": {},
   "source": [
    "## 步骤3 数据集预处理"
   ]
  },
  {
   "cell_type": "code",
   "execution_count": 4,
   "metadata": {},
   "outputs": [
    {
     "data": {
      "text/plain": [
       "BloomTokenizerFast(name_or_path='Langboat/bloom-1b4-zh', vocab_size=46145, model_max_length=1000000000000000019884624838656, is_fast=True, padding_side='left', truncation_side='right', special_tokens={'bos_token': '<s>', 'eos_token': '</s>', 'unk_token': '<unk>', 'pad_token': '<pad>'}, clean_up_tokenization_spaces=False),  added_tokens_decoder={\n",
       "\t0: AddedToken(\"<unk>\", rstrip=False, lstrip=False, single_word=False, normalized=False, special=True),\n",
       "\t1: AddedToken(\"<s>\", rstrip=False, lstrip=False, single_word=False, normalized=False, special=True),\n",
       "\t2: AddedToken(\"</s>\", rstrip=False, lstrip=False, single_word=False, normalized=False, special=True),\n",
       "\t3: AddedToken(\"<pad>\", rstrip=False, lstrip=False, single_word=False, normalized=False, special=True),\n",
       "}"
      ]
     },
     "execution_count": 4,
     "metadata": {},
     "output_type": "execute_result"
    }
   ],
   "source": [
    "tokenizer = AutoTokenizer.from_pretrained(\"Langboat/bloom-1b4-zh\")\n",
    "tokenizer"
   ]
  },
  {
   "cell_type": "code",
   "execution_count": 5,
   "metadata": {},
   "outputs": [],
   "source": [
    "def process_func(example):\n",
    "    # 设置最大长度为256\n",
    "    MAX_LENGTH = 256\n",
    "    # 初始化输入ID、注意力掩码和标签列表\n",
    "    input_ids, attention_mask, labels = [], [], []\n",
    "    # 对指令和输入进行编码\n",
    "    instruction = tokenizer(\"\\n\".join([\"Human: \" + example[\"instruction\"], example[\"input\"]]).strip() + \"\\n\\nAssistant: \")\n",
    "    # 对输出进行编码，并添加结束符\n",
    "    response = tokenizer(example[\"output\"] + tokenizer.eos_token)\n",
    "    # 将指令和响应的输入ID拼接起来\n",
    "    input_ids = instruction[\"input_ids\"] + response[\"input_ids\"]\n",
    "    # 将指令和响应的注意力掩码拼接起来\n",
    "    attention_mask = instruction[\"attention_mask\"] + response[\"attention_mask\"]\n",
    "    # 将指令的标签设置为-100，表示不计算损失；将响应的输入ID作为标签\n",
    "    labels = [-100] * len(instruction[\"input_ids\"]) + response[\"input_ids\"]\n",
    "    # 如果输入ID的长度超过最大长度，截断输入ID、注意力掩码和标签\n",
    "    if len(input_ids) > MAX_LENGTH:\n",
    "        input_ids = input_ids[:MAX_LENGTH]\n",
    "        attention_mask = attention_mask[:MAX_LENGTH]\n",
    "        labels = labels[:MAX_LENGTH]\n",
    "    # 返回处理后的数据\n",
    "    return {\n",
    "        \"input_ids\": input_ids,\n",
    "        \"attention_mask\": attention_mask,\n",
    "        \"labels\": labels\n",
    "    }"
   ]
  },
  {
   "cell_type": "code",
   "execution_count": 6,
   "metadata": {},
   "outputs": [
    {
     "data": {
      "text/plain": [
       "Dataset({\n",
       "    features: ['input_ids', 'attention_mask', 'labels'],\n",
       "    num_rows: 48818\n",
       "})"
      ]
     },
     "execution_count": 6,
     "metadata": {},
     "output_type": "execute_result"
    }
   ],
   "source": [
    "tokenized_ds = ds.map(process_func, remove_columns=ds.column_names)\n",
    "tokenized_ds"
   ]
  },
  {
   "cell_type": "markdown",
   "metadata": {},
   "source": [
    "## 步骤4 创建模型"
   ]
  },
  {
   "cell_type": "code",
   "execution_count": 7,
   "metadata": {},
   "outputs": [
    {
     "name": "stderr",
     "output_type": "stream",
     "text": [
      "The `load_in_4bit` and `load_in_8bit` arguments are deprecated and will be removed in the future versions. Please, pass a `BitsAndBytesConfig` object in `quantization_config` argument instead.\n"
     ]
    },
    {
     "data": {
      "text/plain": [
       "torch.float16"
      ]
     },
     "execution_count": 7,
     "metadata": {},
     "output_type": "execute_result"
    }
   ],
   "source": [
    "import torch\n",
    "##修改\n",
    "# low_cpu_mem_usage=True: 这个参数设定为True意味着在模型加载时会尽可能地减少CPU内存的使用。\n",
    "# torch_dtype=torch.half: 这个参数设置了模型中张量的数据类型为半精度浮点数，这可以减少内存占用和计算时间，但可能会牺牲一些精度。\n",
    "# device_map=\"auto\": 这个参数设置了模型应该在哪个设备上运行。“auto”意味着它将自动选择可用的设备，优先选择GPU，如果没有GPU则选择CPU。\n",
    "# load_in_4bit=True: 这个参数设置为True意味着在模型加载时将使用4位量化，这可以进一步减少内存占用。\n",
    "# bnb_4bit_compute_dtype=torch.half: 这个参数设置了在4位量化时的计算数据类型，这里设置为半精度浮点数。\n",
    "# bnb_4bit_quant_type=\"nf4\": 这个参数设置了4位量化的类型，\"nf4\"是一种特定的量化策略。\n",
    "# bnb_4bit_use_double_quant=True: 这个参数设置为True意味着在4位量化时使用双重量化。\n",
    "model = AutoModelForCausalLM.from_pretrained(\"Langboat/bloom-1b4-zh\",\n",
    "                                              torch_dtype=torch.half,\n",
    "                                              low_cpu_mem_usage=True, \n",
    "                                              device_map=\"auto\", \n",
    "                                              load_in_4bit=True,\n",
    "                                              bnb_4bit_quant_type=\"nf4\", \n",
    "                                              bnb_4bit_use_double_quant=True)\n",
    "model.dtype"
   ]
  },
  {
   "cell_type": "code",
   "execution_count": 8,
   "metadata": {
    "collapsed": true,
    "jupyter": {
     "outputs_hidden": true
    },
    "tags": []
   },
   "outputs": [
    {
     "name": "stdout",
     "output_type": "stream",
     "text": [
      "transformer.word_embeddings.weight torch.float16\n",
      "transformer.word_embeddings_layernorm.weight torch.float16\n",
      "transformer.word_embeddings_layernorm.bias torch.float16\n",
      "transformer.h.0.input_layernorm.weight torch.float16\n",
      "transformer.h.0.input_layernorm.bias torch.float16\n",
      "transformer.h.0.self_attention.query_key_value.weight torch.uint8\n",
      "transformer.h.0.self_attention.query_key_value.bias torch.float16\n",
      "transformer.h.0.self_attention.dense.weight torch.uint8\n",
      "transformer.h.0.self_attention.dense.bias torch.float16\n",
      "transformer.h.0.post_attention_layernorm.weight torch.float16\n",
      "transformer.h.0.post_attention_layernorm.bias torch.float16\n",
      "transformer.h.0.mlp.dense_h_to_4h.weight torch.uint8\n",
      "transformer.h.0.mlp.dense_h_to_4h.bias torch.float16\n",
      "transformer.h.0.mlp.dense_4h_to_h.weight torch.uint8\n",
      "transformer.h.0.mlp.dense_4h_to_h.bias torch.float16\n",
      "transformer.h.1.input_layernorm.weight torch.float16\n",
      "transformer.h.1.input_layernorm.bias torch.float16\n",
      "transformer.h.1.self_attention.query_key_value.weight torch.uint8\n",
      "transformer.h.1.self_attention.query_key_value.bias torch.float16\n",
      "transformer.h.1.self_attention.dense.weight torch.uint8\n",
      "transformer.h.1.self_attention.dense.bias torch.float16\n",
      "transformer.h.1.post_attention_layernorm.weight torch.float16\n",
      "transformer.h.1.post_attention_layernorm.bias torch.float16\n",
      "transformer.h.1.mlp.dense_h_to_4h.weight torch.uint8\n",
      "transformer.h.1.mlp.dense_h_to_4h.bias torch.float16\n",
      "transformer.h.1.mlp.dense_4h_to_h.weight torch.uint8\n",
      "transformer.h.1.mlp.dense_4h_to_h.bias torch.float16\n",
      "transformer.h.2.input_layernorm.weight torch.float16\n",
      "transformer.h.2.input_layernorm.bias torch.float16\n",
      "transformer.h.2.self_attention.query_key_value.weight torch.uint8\n",
      "transformer.h.2.self_attention.query_key_value.bias torch.float16\n",
      "transformer.h.2.self_attention.dense.weight torch.uint8\n",
      "transformer.h.2.self_attention.dense.bias torch.float16\n",
      "transformer.h.2.post_attention_layernorm.weight torch.float16\n",
      "transformer.h.2.post_attention_layernorm.bias torch.float16\n",
      "transformer.h.2.mlp.dense_h_to_4h.weight torch.uint8\n",
      "transformer.h.2.mlp.dense_h_to_4h.bias torch.float16\n",
      "transformer.h.2.mlp.dense_4h_to_h.weight torch.uint8\n",
      "transformer.h.2.mlp.dense_4h_to_h.bias torch.float16\n",
      "transformer.h.3.input_layernorm.weight torch.float16\n",
      "transformer.h.3.input_layernorm.bias torch.float16\n",
      "transformer.h.3.self_attention.query_key_value.weight torch.uint8\n",
      "transformer.h.3.self_attention.query_key_value.bias torch.float16\n",
      "transformer.h.3.self_attention.dense.weight torch.uint8\n",
      "transformer.h.3.self_attention.dense.bias torch.float16\n",
      "transformer.h.3.post_attention_layernorm.weight torch.float16\n",
      "transformer.h.3.post_attention_layernorm.bias torch.float16\n",
      "transformer.h.3.mlp.dense_h_to_4h.weight torch.uint8\n",
      "transformer.h.3.mlp.dense_h_to_4h.bias torch.float16\n",
      "transformer.h.3.mlp.dense_4h_to_h.weight torch.uint8\n",
      "transformer.h.3.mlp.dense_4h_to_h.bias torch.float16\n",
      "transformer.h.4.input_layernorm.weight torch.float16\n",
      "transformer.h.4.input_layernorm.bias torch.float16\n",
      "transformer.h.4.self_attention.query_key_value.weight torch.uint8\n",
      "transformer.h.4.self_attention.query_key_value.bias torch.float16\n",
      "transformer.h.4.self_attention.dense.weight torch.uint8\n",
      "transformer.h.4.self_attention.dense.bias torch.float16\n",
      "transformer.h.4.post_attention_layernorm.weight torch.float16\n",
      "transformer.h.4.post_attention_layernorm.bias torch.float16\n",
      "transformer.h.4.mlp.dense_h_to_4h.weight torch.uint8\n",
      "transformer.h.4.mlp.dense_h_to_4h.bias torch.float16\n",
      "transformer.h.4.mlp.dense_4h_to_h.weight torch.uint8\n",
      "transformer.h.4.mlp.dense_4h_to_h.bias torch.float16\n",
      "transformer.h.5.input_layernorm.weight torch.float16\n",
      "transformer.h.5.input_layernorm.bias torch.float16\n",
      "transformer.h.5.self_attention.query_key_value.weight torch.uint8\n",
      "transformer.h.5.self_attention.query_key_value.bias torch.float16\n",
      "transformer.h.5.self_attention.dense.weight torch.uint8\n",
      "transformer.h.5.self_attention.dense.bias torch.float16\n",
      "transformer.h.5.post_attention_layernorm.weight torch.float16\n",
      "transformer.h.5.post_attention_layernorm.bias torch.float16\n",
      "transformer.h.5.mlp.dense_h_to_4h.weight torch.uint8\n",
      "transformer.h.5.mlp.dense_h_to_4h.bias torch.float16\n",
      "transformer.h.5.mlp.dense_4h_to_h.weight torch.uint8\n",
      "transformer.h.5.mlp.dense_4h_to_h.bias torch.float16\n",
      "transformer.h.6.input_layernorm.weight torch.float16\n",
      "transformer.h.6.input_layernorm.bias torch.float16\n",
      "transformer.h.6.self_attention.query_key_value.weight torch.uint8\n",
      "transformer.h.6.self_attention.query_key_value.bias torch.float16\n",
      "transformer.h.6.self_attention.dense.weight torch.uint8\n",
      "transformer.h.6.self_attention.dense.bias torch.float16\n",
      "transformer.h.6.post_attention_layernorm.weight torch.float16\n",
      "transformer.h.6.post_attention_layernorm.bias torch.float16\n",
      "transformer.h.6.mlp.dense_h_to_4h.weight torch.uint8\n",
      "transformer.h.6.mlp.dense_h_to_4h.bias torch.float16\n",
      "transformer.h.6.mlp.dense_4h_to_h.weight torch.uint8\n",
      "transformer.h.6.mlp.dense_4h_to_h.bias torch.float16\n",
      "transformer.h.7.input_layernorm.weight torch.float16\n",
      "transformer.h.7.input_layernorm.bias torch.float16\n",
      "transformer.h.7.self_attention.query_key_value.weight torch.uint8\n",
      "transformer.h.7.self_attention.query_key_value.bias torch.float16\n",
      "transformer.h.7.self_attention.dense.weight torch.uint8\n",
      "transformer.h.7.self_attention.dense.bias torch.float16\n",
      "transformer.h.7.post_attention_layernorm.weight torch.float16\n",
      "transformer.h.7.post_attention_layernorm.bias torch.float16\n",
      "transformer.h.7.mlp.dense_h_to_4h.weight torch.uint8\n",
      "transformer.h.7.mlp.dense_h_to_4h.bias torch.float16\n",
      "transformer.h.7.mlp.dense_4h_to_h.weight torch.uint8\n",
      "transformer.h.7.mlp.dense_4h_to_h.bias torch.float16\n",
      "transformer.h.8.input_layernorm.weight torch.float16\n",
      "transformer.h.8.input_layernorm.bias torch.float16\n",
      "transformer.h.8.self_attention.query_key_value.weight torch.uint8\n",
      "transformer.h.8.self_attention.query_key_value.bias torch.float16\n",
      "transformer.h.8.self_attention.dense.weight torch.uint8\n",
      "transformer.h.8.self_attention.dense.bias torch.float16\n",
      "transformer.h.8.post_attention_layernorm.weight torch.float16\n",
      "transformer.h.8.post_attention_layernorm.bias torch.float16\n",
      "transformer.h.8.mlp.dense_h_to_4h.weight torch.uint8\n",
      "transformer.h.8.mlp.dense_h_to_4h.bias torch.float16\n",
      "transformer.h.8.mlp.dense_4h_to_h.weight torch.uint8\n",
      "transformer.h.8.mlp.dense_4h_to_h.bias torch.float16\n",
      "transformer.h.9.input_layernorm.weight torch.float16\n",
      "transformer.h.9.input_layernorm.bias torch.float16\n",
      "transformer.h.9.self_attention.query_key_value.weight torch.uint8\n",
      "transformer.h.9.self_attention.query_key_value.bias torch.float16\n",
      "transformer.h.9.self_attention.dense.weight torch.uint8\n",
      "transformer.h.9.self_attention.dense.bias torch.float16\n",
      "transformer.h.9.post_attention_layernorm.weight torch.float16\n",
      "transformer.h.9.post_attention_layernorm.bias torch.float16\n",
      "transformer.h.9.mlp.dense_h_to_4h.weight torch.uint8\n",
      "transformer.h.9.mlp.dense_h_to_4h.bias torch.float16\n",
      "transformer.h.9.mlp.dense_4h_to_h.weight torch.uint8\n",
      "transformer.h.9.mlp.dense_4h_to_h.bias torch.float16\n",
      "transformer.h.10.input_layernorm.weight torch.float16\n",
      "transformer.h.10.input_layernorm.bias torch.float16\n",
      "transformer.h.10.self_attention.query_key_value.weight torch.uint8\n",
      "transformer.h.10.self_attention.query_key_value.bias torch.float16\n",
      "transformer.h.10.self_attention.dense.weight torch.uint8\n",
      "transformer.h.10.self_attention.dense.bias torch.float16\n",
      "transformer.h.10.post_attention_layernorm.weight torch.float16\n",
      "transformer.h.10.post_attention_layernorm.bias torch.float16\n",
      "transformer.h.10.mlp.dense_h_to_4h.weight torch.uint8\n",
      "transformer.h.10.mlp.dense_h_to_4h.bias torch.float16\n",
      "transformer.h.10.mlp.dense_4h_to_h.weight torch.uint8\n",
      "transformer.h.10.mlp.dense_4h_to_h.bias torch.float16\n",
      "transformer.h.11.input_layernorm.weight torch.float16\n",
      "transformer.h.11.input_layernorm.bias torch.float16\n",
      "transformer.h.11.self_attention.query_key_value.weight torch.uint8\n",
      "transformer.h.11.self_attention.query_key_value.bias torch.float16\n",
      "transformer.h.11.self_attention.dense.weight torch.uint8\n",
      "transformer.h.11.self_attention.dense.bias torch.float16\n",
      "transformer.h.11.post_attention_layernorm.weight torch.float16\n",
      "transformer.h.11.post_attention_layernorm.bias torch.float16\n",
      "transformer.h.11.mlp.dense_h_to_4h.weight torch.uint8\n",
      "transformer.h.11.mlp.dense_h_to_4h.bias torch.float16\n",
      "transformer.h.11.mlp.dense_4h_to_h.weight torch.uint8\n",
      "transformer.h.11.mlp.dense_4h_to_h.bias torch.float16\n",
      "transformer.h.12.input_layernorm.weight torch.float16\n",
      "transformer.h.12.input_layernorm.bias torch.float16\n",
      "transformer.h.12.self_attention.query_key_value.weight torch.uint8\n",
      "transformer.h.12.self_attention.query_key_value.bias torch.float16\n",
      "transformer.h.12.self_attention.dense.weight torch.uint8\n",
      "transformer.h.12.self_attention.dense.bias torch.float16\n",
      "transformer.h.12.post_attention_layernorm.weight torch.float16\n",
      "transformer.h.12.post_attention_layernorm.bias torch.float16\n",
      "transformer.h.12.mlp.dense_h_to_4h.weight torch.uint8\n",
      "transformer.h.12.mlp.dense_h_to_4h.bias torch.float16\n",
      "transformer.h.12.mlp.dense_4h_to_h.weight torch.uint8\n",
      "transformer.h.12.mlp.dense_4h_to_h.bias torch.float16\n",
      "transformer.h.13.input_layernorm.weight torch.float16\n",
      "transformer.h.13.input_layernorm.bias torch.float16\n",
      "transformer.h.13.self_attention.query_key_value.weight torch.uint8\n",
      "transformer.h.13.self_attention.query_key_value.bias torch.float16\n",
      "transformer.h.13.self_attention.dense.weight torch.uint8\n",
      "transformer.h.13.self_attention.dense.bias torch.float16\n",
      "transformer.h.13.post_attention_layernorm.weight torch.float16\n",
      "transformer.h.13.post_attention_layernorm.bias torch.float16\n",
      "transformer.h.13.mlp.dense_h_to_4h.weight torch.uint8\n",
      "transformer.h.13.mlp.dense_h_to_4h.bias torch.float16\n",
      "transformer.h.13.mlp.dense_4h_to_h.weight torch.uint8\n",
      "transformer.h.13.mlp.dense_4h_to_h.bias torch.float16\n",
      "transformer.h.14.input_layernorm.weight torch.float16\n",
      "transformer.h.14.input_layernorm.bias torch.float16\n",
      "transformer.h.14.self_attention.query_key_value.weight torch.uint8\n",
      "transformer.h.14.self_attention.query_key_value.bias torch.float16\n",
      "transformer.h.14.self_attention.dense.weight torch.uint8\n",
      "transformer.h.14.self_attention.dense.bias torch.float16\n",
      "transformer.h.14.post_attention_layernorm.weight torch.float16\n",
      "transformer.h.14.post_attention_layernorm.bias torch.float16\n",
      "transformer.h.14.mlp.dense_h_to_4h.weight torch.uint8\n",
      "transformer.h.14.mlp.dense_h_to_4h.bias torch.float16\n",
      "transformer.h.14.mlp.dense_4h_to_h.weight torch.uint8\n",
      "transformer.h.14.mlp.dense_4h_to_h.bias torch.float16\n",
      "transformer.h.15.input_layernorm.weight torch.float16\n",
      "transformer.h.15.input_layernorm.bias torch.float16\n",
      "transformer.h.15.self_attention.query_key_value.weight torch.uint8\n",
      "transformer.h.15.self_attention.query_key_value.bias torch.float16\n",
      "transformer.h.15.self_attention.dense.weight torch.uint8\n",
      "transformer.h.15.self_attention.dense.bias torch.float16\n",
      "transformer.h.15.post_attention_layernorm.weight torch.float16\n",
      "transformer.h.15.post_attention_layernorm.bias torch.float16\n",
      "transformer.h.15.mlp.dense_h_to_4h.weight torch.uint8\n",
      "transformer.h.15.mlp.dense_h_to_4h.bias torch.float16\n",
      "transformer.h.15.mlp.dense_4h_to_h.weight torch.uint8\n",
      "transformer.h.15.mlp.dense_4h_to_h.bias torch.float16\n",
      "transformer.h.16.input_layernorm.weight torch.float16\n",
      "transformer.h.16.input_layernorm.bias torch.float16\n",
      "transformer.h.16.self_attention.query_key_value.weight torch.uint8\n",
      "transformer.h.16.self_attention.query_key_value.bias torch.float16\n",
      "transformer.h.16.self_attention.dense.weight torch.uint8\n",
      "transformer.h.16.self_attention.dense.bias torch.float16\n",
      "transformer.h.16.post_attention_layernorm.weight torch.float16\n",
      "transformer.h.16.post_attention_layernorm.bias torch.float16\n",
      "transformer.h.16.mlp.dense_h_to_4h.weight torch.uint8\n",
      "transformer.h.16.mlp.dense_h_to_4h.bias torch.float16\n",
      "transformer.h.16.mlp.dense_4h_to_h.weight torch.uint8\n",
      "transformer.h.16.mlp.dense_4h_to_h.bias torch.float16\n",
      "transformer.h.17.input_layernorm.weight torch.float16\n",
      "transformer.h.17.input_layernorm.bias torch.float16\n",
      "transformer.h.17.self_attention.query_key_value.weight torch.uint8\n",
      "transformer.h.17.self_attention.query_key_value.bias torch.float16\n",
      "transformer.h.17.self_attention.dense.weight torch.uint8\n",
      "transformer.h.17.self_attention.dense.bias torch.float16\n",
      "transformer.h.17.post_attention_layernorm.weight torch.float16\n",
      "transformer.h.17.post_attention_layernorm.bias torch.float16\n",
      "transformer.h.17.mlp.dense_h_to_4h.weight torch.uint8\n",
      "transformer.h.17.mlp.dense_h_to_4h.bias torch.float16\n",
      "transformer.h.17.mlp.dense_4h_to_h.weight torch.uint8\n",
      "transformer.h.17.mlp.dense_4h_to_h.bias torch.float16\n",
      "transformer.h.18.input_layernorm.weight torch.float16\n",
      "transformer.h.18.input_layernorm.bias torch.float16\n",
      "transformer.h.18.self_attention.query_key_value.weight torch.uint8\n",
      "transformer.h.18.self_attention.query_key_value.bias torch.float16\n",
      "transformer.h.18.self_attention.dense.weight torch.uint8\n",
      "transformer.h.18.self_attention.dense.bias torch.float16\n",
      "transformer.h.18.post_attention_layernorm.weight torch.float16\n",
      "transformer.h.18.post_attention_layernorm.bias torch.float16\n",
      "transformer.h.18.mlp.dense_h_to_4h.weight torch.uint8\n",
      "transformer.h.18.mlp.dense_h_to_4h.bias torch.float16\n",
      "transformer.h.18.mlp.dense_4h_to_h.weight torch.uint8\n",
      "transformer.h.18.mlp.dense_4h_to_h.bias torch.float16\n",
      "transformer.h.19.input_layernorm.weight torch.float16\n",
      "transformer.h.19.input_layernorm.bias torch.float16\n",
      "transformer.h.19.self_attention.query_key_value.weight torch.uint8\n",
      "transformer.h.19.self_attention.query_key_value.bias torch.float16\n",
      "transformer.h.19.self_attention.dense.weight torch.uint8\n",
      "transformer.h.19.self_attention.dense.bias torch.float16\n",
      "transformer.h.19.post_attention_layernorm.weight torch.float16\n",
      "transformer.h.19.post_attention_layernorm.bias torch.float16\n",
      "transformer.h.19.mlp.dense_h_to_4h.weight torch.uint8\n",
      "transformer.h.19.mlp.dense_h_to_4h.bias torch.float16\n",
      "transformer.h.19.mlp.dense_4h_to_h.weight torch.uint8\n",
      "transformer.h.19.mlp.dense_4h_to_h.bias torch.float16\n",
      "transformer.h.20.input_layernorm.weight torch.float16\n",
      "transformer.h.20.input_layernorm.bias torch.float16\n",
      "transformer.h.20.self_attention.query_key_value.weight torch.uint8\n",
      "transformer.h.20.self_attention.query_key_value.bias torch.float16\n",
      "transformer.h.20.self_attention.dense.weight torch.uint8\n",
      "transformer.h.20.self_attention.dense.bias torch.float16\n",
      "transformer.h.20.post_attention_layernorm.weight torch.float16\n",
      "transformer.h.20.post_attention_layernorm.bias torch.float16\n",
      "transformer.h.20.mlp.dense_h_to_4h.weight torch.uint8\n",
      "transformer.h.20.mlp.dense_h_to_4h.bias torch.float16\n",
      "transformer.h.20.mlp.dense_4h_to_h.weight torch.uint8\n",
      "transformer.h.20.mlp.dense_4h_to_h.bias torch.float16\n",
      "transformer.h.21.input_layernorm.weight torch.float16\n",
      "transformer.h.21.input_layernorm.bias torch.float16\n",
      "transformer.h.21.self_attention.query_key_value.weight torch.uint8\n",
      "transformer.h.21.self_attention.query_key_value.bias torch.float16\n",
      "transformer.h.21.self_attention.dense.weight torch.uint8\n",
      "transformer.h.21.self_attention.dense.bias torch.float16\n",
      "transformer.h.21.post_attention_layernorm.weight torch.float16\n",
      "transformer.h.21.post_attention_layernorm.bias torch.float16\n",
      "transformer.h.21.mlp.dense_h_to_4h.weight torch.uint8\n",
      "transformer.h.21.mlp.dense_h_to_4h.bias torch.float16\n",
      "transformer.h.21.mlp.dense_4h_to_h.weight torch.uint8\n",
      "transformer.h.21.mlp.dense_4h_to_h.bias torch.float16\n",
      "transformer.h.22.input_layernorm.weight torch.float16\n",
      "transformer.h.22.input_layernorm.bias torch.float16\n",
      "transformer.h.22.self_attention.query_key_value.weight torch.uint8\n",
      "transformer.h.22.self_attention.query_key_value.bias torch.float16\n",
      "transformer.h.22.self_attention.dense.weight torch.uint8\n",
      "transformer.h.22.self_attention.dense.bias torch.float16\n",
      "transformer.h.22.post_attention_layernorm.weight torch.float16\n",
      "transformer.h.22.post_attention_layernorm.bias torch.float16\n",
      "transformer.h.22.mlp.dense_h_to_4h.weight torch.uint8\n",
      "transformer.h.22.mlp.dense_h_to_4h.bias torch.float16\n",
      "transformer.h.22.mlp.dense_4h_to_h.weight torch.uint8\n",
      "transformer.h.22.mlp.dense_4h_to_h.bias torch.float16\n",
      "transformer.h.23.input_layernorm.weight torch.float16\n",
      "transformer.h.23.input_layernorm.bias torch.float16\n",
      "transformer.h.23.self_attention.query_key_value.weight torch.uint8\n",
      "transformer.h.23.self_attention.query_key_value.bias torch.float16\n",
      "transformer.h.23.self_attention.dense.weight torch.uint8\n",
      "transformer.h.23.self_attention.dense.bias torch.float16\n",
      "transformer.h.23.post_attention_layernorm.weight torch.float16\n",
      "transformer.h.23.post_attention_layernorm.bias torch.float16\n",
      "transformer.h.23.mlp.dense_h_to_4h.weight torch.uint8\n",
      "transformer.h.23.mlp.dense_h_to_4h.bias torch.float16\n",
      "transformer.h.23.mlp.dense_4h_to_h.weight torch.uint8\n",
      "transformer.h.23.mlp.dense_4h_to_h.bias torch.float16\n",
      "transformer.ln_f.weight torch.float16\n",
      "transformer.ln_f.bias torch.float16\n"
     ]
    }
   ],
   "source": [
    "# 查看参数，查看模型有哪些层，可以用于添加LoRA旁路\n",
    "for name, parameter in model.named_parameters():\n",
    "    print(name,parameter.dtype)"
   ]
  },
  {
   "cell_type": "markdown",
   "metadata": {},
   "source": [
    "### 1、PEFT 步骤1 配置文件"
   ]
  },
  {
   "cell_type": "code",
   "execution_count": 9,
   "metadata": {},
   "outputs": [
    {
     "data": {
      "text/plain": [
       "LoraConfig(peft_type=<PeftType.LORA: 'LORA'>, auto_mapping=None, base_model_name_or_path=None, revision=None, task_type=<TaskType.CAUSAL_LM: 'CAUSAL_LM'>, inference_mode=False, r=8, target_modules={'query_key_value'}, lora_alpha=8, lora_dropout=0.0, fan_in_fan_out=False, bias='none', use_rslora=False, modules_to_save=None, init_lora_weights=True, layers_to_transform=None, layers_pattern=None, rank_pattern={}, alpha_pattern={}, megatron_config=None, megatron_core='megatron.core', loftq_config={}, use_dora=False, layer_replication=None, runtime_config=LoraRuntimeConfig(ephemeral_gpu_offload=False))"
      ]
     },
     "execution_count": 9,
     "metadata": {},
     "output_type": "execute_result"
    }
   ],
   "source": [
    "from peft import LoraConfig, TaskType, get_peft_model\n",
    "## ,target_modules=[\"query_key_value\"],r=8\n",
    "config = LoraConfig(task_type=TaskType.CAUSAL_LM,r=8, target_modules=['query_key_value'])\n",
    "config"
   ]
  },
  {
   "cell_type": "code",
   "execution_count": 10,
   "metadata": {},
   "outputs": [],
   "source": [
    "# 在深度神经网络 [deep neural network] 训练时，需要对每个参数或权重 [parameter/weight] 计算其对损失函数 \n",
    "# [loss function] 的梯度 [gradient]，从而进行反向传播 [back propagation] 和优化[optimization]。\n",
    "# 默认情况下不会计算输入数据 [input data] 的梯度，即使它们在计算中起到了关键的作用。但是，在某些应用场景中，\n",
    "# 例如图像生成 [image generation]、注意力机制 [attention mechanism] 等，需要计算输入数据的梯度。此时，\n",
    "# 可以通过启用计算输入梯度的功能，对输入数据进行求导并利用其梯度信息进行优化。\n",
    "# 作用: 启用该功能这对于在保持模型权重固定的同时微调适配器权重非常有用。\n",
    "\n",
    "model.enable_input_require_grads()"
   ]
  },
  {
   "cell_type": "markdown",
   "metadata": {},
   "source": [
    "### 2、PEFT 步骤2 创建模型"
   ]
  },
  {
   "cell_type": "code",
   "execution_count": 11,
   "metadata": {},
   "outputs": [
    {
     "data": {
      "text/plain": [
       "PeftModelForCausalLM(\n",
       "  (base_model): LoraModel(\n",
       "    (model): BloomForCausalLM(\n",
       "      (transformer): BloomModel(\n",
       "        (word_embeddings): Embedding(46145, 2048)\n",
       "        (word_embeddings_layernorm): LayerNorm((2048,), eps=1e-05, elementwise_affine=True)\n",
       "        (h): ModuleList(\n",
       "          (0-23): 24 x BloomBlock(\n",
       "            (input_layernorm): LayerNorm((2048,), eps=1e-05, elementwise_affine=True)\n",
       "            (self_attention): BloomAttention(\n",
       "              (query_key_value): lora.Linear4bit(\n",
       "                (base_layer): Linear4bit(in_features=2048, out_features=6144, bias=True)\n",
       "                (lora_dropout): ModuleDict(\n",
       "                  (default): Identity()\n",
       "                )\n",
       "                (lora_A): ModuleDict(\n",
       "                  (default): Linear(in_features=2048, out_features=8, bias=False)\n",
       "                )\n",
       "                (lora_B): ModuleDict(\n",
       "                  (default): Linear(in_features=8, out_features=6144, bias=False)\n",
       "                )\n",
       "                (lora_embedding_A): ParameterDict()\n",
       "                (lora_embedding_B): ParameterDict()\n",
       "                (lora_magnitude_vector): ModuleDict()\n",
       "              )\n",
       "              (dense): Linear4bit(in_features=2048, out_features=2048, bias=True)\n",
       "              (attention_dropout): Dropout(p=0.0, inplace=False)\n",
       "            )\n",
       "            (post_attention_layernorm): LayerNorm((2048,), eps=1e-05, elementwise_affine=True)\n",
       "            (mlp): BloomMLP(\n",
       "              (dense_h_to_4h): Linear4bit(in_features=2048, out_features=8192, bias=True)\n",
       "              (gelu_impl): BloomGelu()\n",
       "              (dense_4h_to_h): Linear4bit(in_features=8192, out_features=2048, bias=True)\n",
       "            )\n",
       "          )\n",
       "        )\n",
       "        (ln_f): LayerNorm((2048,), eps=1e-05, elementwise_affine=True)\n",
       "      )\n",
       "      (lm_head): Linear(in_features=2048, out_features=46145, bias=False)\n",
       "    )\n",
       "  )\n",
       ")"
      ]
     },
     "execution_count": 11,
     "metadata": {},
     "output_type": "execute_result"
    }
   ],
   "source": [
    "model = get_peft_model(model, config)\n",
    "model"
   ]
  },
  {
   "cell_type": "code",
   "execution_count": 12,
   "metadata": {},
   "outputs": [
    {
     "data": {
      "text/plain": [
       "LoraConfig(peft_type=<PeftType.LORA: 'LORA'>, auto_mapping=None, base_model_name_or_path='Langboat/bloom-1b4-zh', revision=None, task_type=<TaskType.CAUSAL_LM: 'CAUSAL_LM'>, inference_mode=False, r=8, target_modules={'query_key_value'}, lora_alpha=8, lora_dropout=0.0, fan_in_fan_out=False, bias='none', use_rslora=False, modules_to_save=None, init_lora_weights=True, layers_to_transform=None, layers_pattern=None, rank_pattern={}, alpha_pattern={}, megatron_config=None, megatron_core='megatron.core', loftq_config={}, use_dora=False, layer_replication=None, runtime_config=LoraRuntimeConfig(ephemeral_gpu_offload=False))"
      ]
     },
     "execution_count": 12,
     "metadata": {},
     "output_type": "execute_result"
    }
   ],
   "source": [
    "# 查看配置\n",
    "config"
   ]
  },
  {
   "cell_type": "markdown",
   "metadata": {},
   "source": [
    "## 步骤5 配置训练参数"
   ]
  },
  {
   "cell_type": "code",
   "execution_count": 13,
   "metadata": {},
   "outputs": [],
   "source": [
    "args = TrainingArguments(\n",
    "    output_dir=\"/root/autodl-tmp/cache/finetuning/bloom-1b4-zh-qlora\",  # 指定模型训练结果的输出目录\n",
    "    per_device_train_batch_size=128,  # 设置每个设备（如GPU）在训练过程中的批次大小为4\n",
    "    gradient_accumulation_steps=8,  # 指定梯度累积步数为8，即将多个批次的梯度累加后再进行一次参数更新\n",
    "    logging_steps=20,  # 每20个步骤记录一次日志信息\n",
    "    num_train_epochs=1,  # 指定训练的总轮数为1\n",
    "    gradient_checkpointing=True,  # 启用梯度检查点技术，可以减少内存占用并加速训练过程\n",
    "    optim=\"paged_adamw_32bit\"  # 指定分页优化器为\"paged_adamw_32bit\"，这是一种针对低秩模型的优化算法\n",
    ")"
   ]
  },
  {
   "cell_type": "markdown",
   "metadata": {},
   "source": [
    "## 步骤6 创建训练器"
   ]
  },
  {
   "cell_type": "code",
   "execution_count": 14,
   "metadata": {},
   "outputs": [],
   "source": [
    "trainer = Trainer(\n",
    "    model=model,\n",
    "    args=args,\n",
    "    train_dataset=tokenized_ds,\n",
    "    data_collator=DataCollatorForSeq2Seq(tokenizer=tokenizer, padding=True),\n",
    ")"
   ]
  },
  {
   "cell_type": "markdown",
   "metadata": {},
   "source": [
    "## 步骤7 模型训练"
   ]
  },
  {
   "cell_type": "code",
   "execution_count": null,
   "metadata": {},
   "outputs": [],
   "source": [
    "trainer.train()"
   ]
  },
  {
   "cell_type": "markdown",
   "metadata": {},
   "source": [
    "## 步骤8 模型推理"
   ]
  },
  {
   "cell_type": "code",
   "execution_count": null,
   "metadata": {},
   "outputs": [],
   "source": [
    "from peft import PeftModel\n",
    "from transformers import pipeline\n",
    "\n",
    "#加载基础模型\n",
    "model = AutoModelForCausalLM.from_pretrained(\"Langboat/bloom-1b4-zh\", low_cpu_mem_usage=True)\n",
    "tokenizer = AutoTokenizer.from_pretrained(\"Langboat/bloom-1b4-zh\")\n",
    "\n",
    "#加载lora模型\n",
    "p_model = PeftModel.from_pretrained(model=model, model_id=\"/root/autodl-tmp/cache/finetuning/bloom-1b4-zh-qlora/checkpoint-500\")\n",
    "\n",
    "#模型推理\n",
    "pipe = pipeline(\"text-generation\", model=p_model, tokenizer=tokenizer, device=0)\n",
    "ipt = \"Human: {}\\n{}\".format(\"如何写好一个简历？\", \"\").strip() + \"\\n\\nAssistant: \"\n",
    "pipe(ipt, max_length=500, do_sample=True, )"
   ]
  },
  {
   "cell_type": "code",
   "execution_count": null,
   "metadata": {},
   "outputs": [],
   "source": []
  }
 ],
 "metadata": {
  "kernelspec": {
   "display_name": "Python 3(transformers)",
   "language": "python",
   "name": "transformers"
  },
  "language_info": {
   "codemirror_mode": {
    "name": "ipython",
    "version": 3
   },
   "file_extension": ".py",
   "mimetype": "text/x-python",
   "name": "python",
   "nbconvert_exporter": "python",
   "pygments_lexer": "ipython3",
   "version": "3.11.9"
  }
 },
 "nbformat": 4,
 "nbformat_minor": 4
}
