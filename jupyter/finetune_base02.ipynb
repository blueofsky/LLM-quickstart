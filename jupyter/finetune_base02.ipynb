{
 "cells": [
  {
   "cell_type": "markdown",
   "metadata": {},
   "source": [
    "# 大语言模型Transformer库-预训练流程编码体验"
   ]
  },
  {
   "cell_type": "markdown",
   "metadata": {},
   "source": [
    "## 下载模型和数据集\n",
    "```bash\n",
    "git clone https://huggingface.co/hfl/rbt3\n",
    "git clone https://huggingface.co/datasets/dirtycomputer/ChnSentiCorp_htl_all\n",
    "```"
   ]
  },
  {
   "cell_type": "markdown",
   "metadata": {},
   "source": [
    "## 步骤1：导入相关依赖"
   ]
  },
  {
   "cell_type": "code",
   "execution_count": null,
   "metadata": {},
   "outputs": [],
   "source": [
    "from transformers import AutoTokenizer, AutoModelForSequenceClassification\n",
    "\n",
    "model_name_or_path = \"/root/pretrains/rbt3\"\n",
    "dataset_path = \"/root/pretrains/ChnSentiCorp_htl_all/ChnSentiCorp_htl_all.csv\""
   ]
  },
  {
   "cell_type": "markdown",
   "metadata": {},
   "source": [
    "## 步骤2：获取数据集"
   ]
  },
  {
   "cell_type": "code",
   "execution_count": null,
   "metadata": {},
   "outputs": [],
   "source": [
    "import pandas as pd\n",
    "data = pd.read_csv(dataset_path)\n",
    "data.dropna()\n",
    "data"
   ]
  },
  {
   "cell_type": "markdown",
   "metadata": {},
   "source": [
    "## 步骤3：构建数据集"
   ]
  },
  {
   "cell_type": "code",
   "execution_count": null,
   "metadata": {},
   "outputs": [],
   "source": [
    "from torch.utils.data import Dataset\n",
    "\n",
    "import pandas as pd\n",
    "\n",
    "class MyDataset(Dataset):\n",
    "    def __init__(self) -> None:\n",
    "        super().__init__()\n",
    "        self.data = pd.read_csv(dataset_path)\n",
    "        self.data = self.data.dropna()\n",
    "    def __getitem__(self,index):\n",
    "        return self.data.iloc[index][\"review\"], self.data.iloc[index][\"label\"]\n",
    "    def __len__(self):\n",
    "        return len(self.data) \n",
    "\n",
    "dataset = MyDataset()\n",
    "for i in range(5):\n",
    "    print(dataset[i])"
   ]
  },
  {
   "cell_type": "markdown",
   "metadata": {},
   "source": [
    "## 步骤4：划分数据集"
   ]
  },
  {
   "cell_type": "code",
   "execution_count": null,
   "metadata": {},
   "outputs": [],
   "source": [
    "from torch.utils.data import  random_split\n",
    "\n",
    "trainset, validset = random_split(dataset,lengths=[0.9,0.1])\n",
    "len(trainset),len(validset)"
   ]
  },
  {
   "cell_type": "markdown",
   "metadata": {},
   "source": [
    "## 步骤5：创建DataLoader"
   ]
  },
  {
   "cell_type": "code",
   "execution_count": null,
   "metadata": {},
   "outputs": [],
   "source": [
    "import torch\n",
    "from torch.utils.data import DataLoader\n",
    "\n",
    "tokenizer = AutoTokenizer.from_pretrained(model_name_or_path)\n",
    "\n",
    "def collate_func(batch):\n",
    "    texts,labels=[],[]\n",
    "    for item in batch:\n",
    "        texts.append(item[0])\n",
    "        labels.append(item[1])\n",
    "        ## return_tensors=\"pt\" 返回的是pytorch tensor类型。\n",
    "        ## 吃葡萄不吐葡萄皮\n",
    "        ## 不吃葡萄到吐葡萄皮\n",
    "    inputs = tokenizer(texts,max_length=128,padding=\"max_length\",truncation=True, return_tensors=\"pt\")\n",
    "    inputs[\"labels\"] = torch.tensor(labels)\n",
    "    return inputs\n",
    "## dataloader中设置shuffle值为True，表示每次加载的数据都是随机的，将输入数据的顺序打乱。shuffle值为False，\n",
    "## 表示输入数据顺序固定。\n",
    "\n",
    "trainloader = DataLoader(trainset,batch_size=32,shuffle=True,collate_fn=collate_func)\n",
    "validloader = DataLoader(validset,batch_size=64,shuffle=False,collate_fn=collate_func)\n",
    "\n",
    "next(enumerate(validloader))[1]"
   ]
  },
  {
   "cell_type": "markdown",
   "metadata": {},
   "source": [
    "## 步骤6：创建模型及其优化器"
   ]
  },
  {
   "cell_type": "code",
   "execution_count": null,
   "metadata": {},
   "outputs": [],
   "source": [
    "from torch.optim import Adam\n",
    "\n",
    "from transformers import AutoModelForSequenceClassification\n",
    "\n",
    "model = AutoModelForSequenceClassification.from_pretrained(\"/root/pretrains/rbt3\")\n",
    "\n",
    "if torch.cuda.is_available():\n",
    "    model = model.cuda()\n",
    "\"\"\"\n",
    "当我们训练一个机器学习模型时，我们需要选择一个优化算法来帮助我们找到模型参数的最佳值。这个优化算法就是优化器（optimizer）。\n",
    "\n",
    "在这行代码中，我们选择了一种叫做Adam的优化算法作为我们的优化器。Adam算法是一种常用的优化算法，\n",
    "它根据每个参数的梯度（即参数的变化率）和学习率（lr）来更新参数的值。\n",
    "\n",
    "\"model.parameters()\"表示我们要优化的是模型的参数。模型的参数是模型中需要学习的权重和偏置等变量。\n",
    "\n",
    "\"lr=2e-5\"表示学习率的值被设置为2e-5（即0.00002）。学习率是控制模型在每次迭代中更新参数的步长。较大的学习率可能导致模型无法收敛，\n",
    "而较小的学习率可能需要更长的训练时间\n",
    "\"\"\"\n",
    "optimizer = Adam(model.parameters(), lr=2e-5)"
   ]
  },
  {
   "cell_type": "markdown",
   "metadata": {},
   "source": [
    "## 步骤7：训练与验证"
   ]
  },
  {
   "cell_type": "code",
   "execution_count": null,
   "metadata": {},
   "outputs": [],
   "source": [
    "# 定义一个训练和评估的函数\n",
    "# 设定训练循环，包括前向传播、计算损失、反向传播和权重更新。同时，定期在验证集上检查模型性能，以监控过拟合情况并及时停止训练。\n",
    "def evaluate():\n",
    "    ## 将模型设置为评估模式\n",
    "    model.eval()\n",
    "    acc_num=0\n",
    "    #将训练模型转化为推理模型，模型将使用转换后的推理模式进行评估\n",
    "    with torch.inference_mode():\n",
    "        for batch in validloader:\n",
    "            ## 检查是否有可用的GPU，如果有，则将数据批次转移到GPU上进行加速\n",
    "            if torch.cuda.is_available():\n",
    "                batch = {k: v.cuda() for k,v in batch.items()}\n",
    "            ##对数据批次进行前向传播，得到模型的输出\n",
    "            output = model(**batch)\n",
    "            ## 对模型输出进行预测，通过torch.argmax选择概率最高的类别。\n",
    "            pred = torch.argmax(output.logits,dim=-1)\n",
    "            ## 计算正确预测的数量，将预测值与标签进行比较，并使用.float()将比较结果转换为浮点数，使用.sum()进行求和操作\n",
    "            acc_num += (pred.long() == batch[\"labels\"].long()).float().sum()\n",
    "    ## 返回正确预测数量与验证集样本数量的比值，这表示模型在验证集上的准确率\n",
    "    return acc_num / len(validset)\n",
    "\n",
    "def train(epoch=3,log_sep=100):\n",
    "    global_step = 0\n",
    "    for ep in range(epoch):\n",
    "        ## 开启训练模式\n",
    "        model.train()\n",
    "        for batch in trainloader:\n",
    "            if torch.cuda.is_available():\n",
    "                batch = {k: v.cuda() for k, v in batch.items()}\n",
    "            ## 梯度归0\n",
    "            optimizer.zero_grad()\n",
    "            ## 对数据批次进行前向传播，得到模型的输出\n",
    "            output=model(**batch)\n",
    "            ## 计算损失函数梯度并进行反向传播\n",
    "            output.loss.backward()\n",
    "            ## 优化器更新\n",
    "            optimizer.step()\n",
    "            if(global_step % log_sep == 0):\n",
    "                print(f\"epoch:{ep},step:{global_step},loss:{output.loss.item()}\")\n",
    "            global_step += 1\n",
    "        ## 准确率\n",
    "        acc = evaluate()\n",
    "        ## 第几轮\n",
    "        print(f\"epoch:{ep},acc:{acc}\")\n",
    "\n",
    "# 训练\n",
    "train()"
   ]
  },
  {
   "cell_type": "markdown",
   "metadata": {},
   "source": [
    "## 步骤8：模型预测"
   ]
  },
  {
   "cell_type": "code",
   "execution_count": null,
   "metadata": {},
   "outputs": [],
   "source": [
    "#sen = \"我昨晚在酒店里睡得非常好\"\n",
    "sen =\"昨天我在酒店睡觉发现被子有一股霉味\"\n",
    "\n",
    "id2label = {0:\"差评\",1:\"好评\"}\n",
    "## 将模型设置为评估模式\n",
    "model.eval\n",
    "\n",
    " #将训练模型转化为推理模型，模型将使用转换后的推理模式进行评估\n",
    "with torch.inference_mode():\n",
    "    ## 分词&&向量化\n",
    "    inputs = tokenizer(sen,return_tensors = \"pt\")\n",
    "    ## GPU加速\n",
    "    inputs = {k:v.cuda() for k,v in inputs.items()}\n",
    "    ## 进行预测\n",
    "    logits=model(**inputs).logits\n",
    "    ## 在logits的最后一个维度上找到最大值，并返回其所在的索引。这相当于选择模型认为最有可能的类别\n",
    "    pred = torch.argmax(logits, dim = -1)\n",
    "    \n",
    "    print(f\"输入：{sen} \\n模型的预测结果：{id2label.get(pred.item())}\")"
   ]
  },
  {
   "cell_type": "code",
   "execution_count": null,
   "metadata": {},
   "outputs": [],
   "source": []
  }
 ],
 "metadata": {
  "kernelspec": {
   "display_name": "transformers",
   "language": "python",
   "name": "python3"
  },
  "language_info": {
   "name": "python",
   "version": "3.11.9"
  }
 },
 "nbformat": 4,
 "nbformat_minor": 2
}
