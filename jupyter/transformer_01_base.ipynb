{
 "cells": [
  {
   "cell_type": "markdown",
   "metadata": {},
   "source": [
    "# 大语言模型Transformer库-基本认知"
   ]
  },
  {
   "cell_type": "markdown",
   "metadata": {},
   "source": [
    "## 环境准备\n",
    "\n",
    "- vi /root/miniconda3/bin/jupyter-lab\n",
    "\n",
    "```python\n",
    "# 配置环境变量\n",
    "import os\n",
    "\n",
    "os.environ['HF_ENDPOINT'] = 'https://hf-mirror.com'\n",
    "os.environ['HF_HOME'] = '/root/autodl-tmp/cache/huggingface'\n",
    "os.environ['MODELSCOPE_CACHE']='/root/autodl-tmp/cache/modelscope'\n",
    "os.environ['PIP_CACHE_DIR']='/root/autodl-tmp/cache/pip'\n",
    "```\n",
    "- 如何在JupyterLab的Notebook中使用新的Conda环境\n",
    "\n",
    "```python\n",
    "# 加入jupyterlab中\n",
    "conda activate transformers\n",
    "conda install ipykernel\n",
    "ipython kernel install --user --name=transformers --display-name 'Python 3(transformers)'\n",
    "\n",
    "# 从jupyterlab中删除kernel\n",
    "jupyter kernelspec remove transformers\n",
    "```"
   ]
  },
  {
   "cell_type": "markdown",
   "metadata": {},
   "source": [
    "## 加载模型和Tokenizer"
   ]
  },
  {
   "cell_type": "code",
   "execution_count": null,
   "metadata": {},
   "outputs": [],
   "source": [
    "from transformers import AutoModel,AutoTokenizer\n",
    "\n",
    "model_name_or_path = \"models/qwen/Qwen2-7B-Instruct\"\n",
    "model = AutoModel.from_pretrained(model_name_or_path,trust_remote_code=True, device_map=\"cpu\")\n",
    "tokenizer = AutoTokenizer.from_pretrained(model_name_or_path,trust_remote_code=True)"
   ]
  },
  {
   "cell_type": "markdown",
   "metadata": {},
   "source": [
    "## 获取模型dType"
   ]
  },
  {
   "cell_type": "code",
   "execution_count": 3,
   "metadata": {},
   "outputs": [
    {
     "name": "stdout",
     "output_type": "stream",
     "text": [
      "Parameter dtype: torch.float16\n"
     ]
    }
   ],
   "source": [
    "for param in model.parameters():\n",
    "    print(f'Parameter dtype: {param.dtype}')\n",
    "    break \n",
    "    \n",
    "# model.dtype"
   ]
  },
  {
   "cell_type": "markdown",
   "metadata": {},
   "source": [
    "## 获取模型占用的GPU显存"
   ]
  },
  {
   "cell_type": "code",
   "execution_count": 4,
   "metadata": {},
   "outputs": [
    {
     "name": "stdout",
     "output_type": "stream",
     "text": [
      "Model Memory usage: 11.63GB\n"
     ]
    }
   ],
   "source": [
    "memory_footprint_bytes = model.get_memory_footprint()\n",
    "memory_footprint_mib = memory_footprint_bytes / (1024 ** 3)  # 转换为 GB\n",
    "print(f\"Model Memory usage: {memory_footprint_mib:.2f}GB\")"
   ]
  },
  {
   "cell_type": "markdown",
   "metadata": {},
   "source": [
    "## 获取GPU显存"
   ]
  },
  {
   "cell_type": "code",
   "execution_count": 5,
   "metadata": {},
   "outputs": [
    {
     "name": "stdout",
     "output_type": "stream",
     "text": [
      "Initial memory usage: 11.656925678253174 GB,Vocab size: 64798\n"
     ]
    }
   ],
   "source": [
    "import torch\n",
    "\n",
    "device = torch.device(\"cuda\" if torch.cuda.is_available() else \"cpu\")\n",
    "initial_memory_usage = torch.cuda.memory_allocated(device)/ (1024 ** 3)\n",
    "vocab_size = tokenizer.vocab_size\n",
    "print(f\"Initial memory usage: {initial_memory_usage} GB,Vocab size: {vocab_size}\")"
   ]
  },
  {
   "cell_type": "code",
   "execution_count": null,
   "metadata": {},
   "outputs": [],
   "source": []
  },
  {
   "cell_type": "code",
   "execution_count": null,
   "metadata": {},
   "outputs": [],
   "source": []
  }
 ],
 "metadata": {
  "kernelspec": {
   "display_name": "Python 3(transformers)",
   "language": "python",
   "name": "transformers"
  },
  "language_info": {
   "codemirror_mode": {
    "name": "ipython",
    "version": 3
   },
   "file_extension": ".py",
   "mimetype": "text/x-python",
   "name": "python",
   "nbconvert_exporter": "python",
   "pygments_lexer": "ipython3",
   "version": "3.11.9"
  }
 },
 "nbformat": 4,
 "nbformat_minor": 4
}
