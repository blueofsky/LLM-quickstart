{
 "cells": [
  {
   "cell_type": "markdown",
   "id": "6551a4b9-fdb2-4431-a90e-7bd258e525ec",
   "metadata": {},
   "source": [
    "# vLLM快速入门"
   ]
  },
  {
   "cell_type": "markdown",
   "id": "26364669-4e38-4657-b196-53509ec09d30",
   "metadata": {
    "tags": []
   },
   "source": [
    "## 安装依赖\n",
    "```bash\n",
    "pip install vllm modelscope\n",
    "```"
   ]
  },
  {
   "cell_type": "code",
   "execution_count": 1,
   "id": "ca968a6d-dd7d-4259-8b43-90a0f9d4246a",
   "metadata": {},
   "outputs": [],
   "source": [
    "import os\n",
    "\n",
    "os.environ['HF_ENDPOINT'] = 'https://hf-mirror.com'\n",
    "os.environ['HF_HOME'] = '/root/autodl-tmp/cache/huggingface'\n",
    "os.environ['MODELSCOPE_CACHE']='/root/autodl-tmp/cache/modelscope'\n",
    "# 设置从ModelScope下载模型\n",
    "os.environ['VLLM_USE_MODELSCOPE']='True'"
   ]
  },
  {
   "cell_type": "markdown",
   "id": "51c32b4b-8a7e-4253-a268-85eb3d822969",
   "metadata": {},
   "source": [
    "## Offline Batched Inference"
   ]
  },
  {
   "cell_type": "code",
   "execution_count": 2,
   "id": "c8f0a126-b226-4097-a3fb-f0ecd54cd08f",
   "metadata": {},
   "outputs": [
    {
     "name": "stdout",
     "output_type": "stream",
     "text": [
      "INFO 09-05 09:46:07 llm_engine.py:184] Initializing an LLM engine (v0.5.5) with config: model='qwen/Qwen2-7B-Instruct', speculative_config=None, tokenizer='qwen/Qwen2-7B-Instruct', skip_tokenizer_init=False, tokenizer_mode=auto, revision=None, rope_scaling=None, rope_theta=None, tokenizer_revision=None, trust_remote_code=False, dtype=torch.bfloat16, max_seq_len=32768, download_dir=None, load_format=LoadFormat.AUTO, tensor_parallel_size=1, pipeline_parallel_size=1, disable_custom_all_reduce=False, quantization=None, enforce_eager=False, kv_cache_dtype=auto, quantization_param_path=None, device_config=cuda, decoding_config=DecodingConfig(guided_decoding_backend='outlines'), observability_config=ObservabilityConfig(otlp_traces_endpoint=None, collect_model_forward_time=False, collect_model_execute_time=False), seed=0, served_model_name=qwen/Qwen2-7B-Instruct, use_v2_block_manager=False, enable_prefix_caching=False)\n",
      "INFO 09-05 09:46:09 model_runner.py:879] Starting to load model qwen/Qwen2-7B-Instruct...\n"
     ]
    },
    {
     "data": {
      "application/vnd.jupyter.widget-view+json": {
       "model_id": "e706b94255044e068b4794c777f742db",
       "version_major": 2,
       "version_minor": 0
      },
      "text/plain": [
       "Loading safetensors checkpoint shards:   0% Completed | 0/4 [00:00<?, ?it/s]\n"
      ]
     },
     "metadata": {},
     "output_type": "display_data"
    },
    {
     "name": "stdout",
     "output_type": "stream",
     "text": [
      "INFO 09-05 09:46:15 model_runner.py:890] Loading model weights took 14.2487 GB\n",
      "INFO 09-05 09:46:18 gpu_executor.py:121] # GPU blocks: 2666, # CPU blocks: 4681\n",
      "INFO 09-05 09:46:21 model_runner.py:1181] Capturing the model for CUDA graphs. This may lead to unexpected consequences if the model is not static. To run the model in eager mode, set 'enforce_eager=True' or use '--enforce-eager' in the CLI.\n",
      "INFO 09-05 09:46:21 model_runner.py:1185] CUDA graphs can take additional 1~3 GiB memory per GPU. If you are running out of memory, consider decreasing `gpu_memory_utilization` or enforcing eager mode. You can also reduce the `max_num_seqs` as needed to decrease memory usage.\n",
      "INFO 09-05 09:46:41 model_runner.py:1300] Graph capturing finished in 20 secs.\n"
     ]
    },
    {
     "name": "stderr",
     "output_type": "stream",
     "text": [
      "Processed prompts: 100%|██████████| 4/4 [00:00<00:00,  8.27it/s, est. speed input: 31.04 toks/s, output: 132.45 toks/s]"
     ]
    },
    {
     "name": "stdout",
     "output_type": "stream",
     "text": [
      "Prompt: '你好，我的名字是'\n",
      "Generated text: 'Lisa。我是一名研究化学的科学家。你叫什么名字？\\n你好，'\n",
      "\n",
      "\n",
      "Prompt: '美国总统是'\n",
      "Generated text: '美国的国家元首、政府首脑和武装部队的最高统帅'\n",
      "\n",
      "\n",
      "Prompt: '法国的首都是'\n",
      "Generated text: '____\\nA. 巴黎\\nB. 伦敦\\nC.'\n",
      "\n",
      "\n",
      "Prompt: '人工智能的未来是'\n",
      "Generated text: '怎样的？ 人工智能（AI）的未来是一个充满可能性的领域。'\n",
      "\n",
      "\n"
     ]
    },
    {
     "name": "stderr",
     "output_type": "stream",
     "text": [
      "\n"
     ]
    }
   ],
   "source": [
    "from vllm import LLM, SamplingParams\n",
    "\n",
    "# 定义输入提示列表\n",
    "prompts = [\n",
    "    \"你好，我的名字是\",\n",
    "    \"美国总统是\",\n",
    "    \"法国的首都是\",\n",
    "    \"人工智能的未来是\",\n",
    "]\n",
    "# 定义用于生成的采样参数\n",
    "sampling_params = SamplingParams(temperature=0.8, top_p=0.95)\n",
    "\n",
    "# Create an LLM.\n",
    "llm = LLM(model=\"qwen/Qwen2-7B-Instruct\")\n",
    "# 将输入提示添加到 vLLM 引擎的等待队列中，并执行 vLLM 引擎以生成具有高吞吐量的输出\n",
    "outputs = llm.generate(prompts, sampling_params)\n",
    "# Print the outputs.\n",
    "for output in outputs:\n",
    "    prompt = output.prompt\n",
    "    generated_text = output.outputs[0].text\n",
    "    print(f\"Prompt: {prompt!r}\\nGenerated text: {generated_text!r}\\n\\n\")"
   ]
  },
  {
   "cell_type": "markdown",
   "id": "9026abb4-a3af-40de-a48a-8232d8f47812",
   "metadata": {},
   "source": [
    "## OpenAI-Compatible Server\n",
    "```bash\n",
    "vllm serve qwen/Qwen2-7B-Instruct --host 0.0.0.0 --port 6006\n",
    "```\n",
    "目前提供以下接口：\n",
    "- /tokenize\n",
    "- /detokenize\n",
    "- /v1/models\n",
    "- /v1/chat/completions\n",
    "- /v1/completions\n",
    "- /v1/embeddings"
   ]
  },
  {
   "cell_type": "code",
   "execution_count": null,
   "id": "f5531813-2456-4785-af57-dd1b79c8f6ec",
   "metadata": {},
   "outputs": [],
   "source": []
  }
 ],
 "metadata": {
  "kernelspec": {
   "display_name": "Python 3(vllm)",
   "language": "python",
   "name": "vllm"
  },
  "language_info": {
   "codemirror_mode": {
    "name": "ipython",
    "version": 3
   },
   "file_extension": ".py",
   "mimetype": "text/x-python",
   "name": "python",
   "nbconvert_exporter": "python",
   "pygments_lexer": "ipython3",
   "version": "3.11.9"
  }
 },
 "nbformat": 4,
 "nbformat_minor": 5
}
